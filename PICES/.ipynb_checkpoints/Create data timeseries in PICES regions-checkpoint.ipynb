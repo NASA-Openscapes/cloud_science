{
 "cells": [
  {
   "cell_type": "markdown",
   "metadata": {},
   "source": [
    "# Read data and create timeseries using PICES LME\n",
    "\n",
    "Look at SST, ocean currents, chl-a"
   ]
  },
  {
   "cell_type": "code",
   "execution_count": 27,
   "metadata": {},
   "outputs": [],
   "source": [
    "import xarray as xr\n",
    "import numpy as np\n",
    "import matplotlib.pyplot as plt\n",
    "import cartopy.crs as ccrs\n",
    "\n",
    "def weighted_mean_of_masked_data(data_in,data_mask,data_cond):\n",
    "    #data_in = input xarray data to have weighted mean\n",
    "    #data_mask = nan mask eg. land values\n",
    "    #LME mask T or F values\n",
    "    R = 6.37e6 #radius of earth in m\n",
    "    grid_dy,grid_dx = (data_in.lat[0]-data_in.lat[1]).data,(data_in.lon[0]-data_in.lon[1]).data\n",
    "    dϕ = np.deg2rad(grid_dy)\n",
    "    dλ = np.deg2rad(grid_dx)\n",
    "    dA = R**2 * dϕ * dλ * np.cos(np.deg2rad(ds.lat)) \n",
    "    pixel_area = dA.where(data_cond)  #pixel_area.plot()\n",
    "    pixel_area = pixel_area.where(np.isfinite(data_mask))\n",
    "    total_ocean_area = pixel_area.sum(dim=('lon', 'lat'))\n",
    "    data_weighted_mean = (data_in * pixel_area).sum(dim=('lon', 'lat')) / total_ocean_area\n",
    "    return data_weighted_mean\n",
    "\n",
    "def weighted_mean_of_data(data_in,data_cond):\n",
    "    #data_in = input xarray data to have weighted mean\n",
    "    #data_mask = nan mask eg. land values\n",
    "    #LME mask T or F values\n",
    "    R = 6.37e6 #radius of earth in m\n",
    "    grid_dy,grid_dx = (data_in.lat[0]-data_in.lat[1]).data,(data_in.lon[0]-data_in.lon[1]).data\n",
    "    dϕ = np.deg2rad(grid_dy)\n",
    "    dλ = np.deg2rad(grid_dx)\n",
    "    dA = R**2 * dϕ * dλ * np.cos(np.deg2rad(ds.lat)) \n",
    "    pixel_area = dA.where(data_cond)  #pixel_area.plot()\n",
    "    #pixel_area = pixel_area.where(np.isfinite(data_mask))\n",
    "    total_ocean_area = pixel_area.sum(dim=('lon', 'lat'))\n",
    "    data_weighted_mean = (data_in * pixel_area).sum(dim=('lon', 'lat')) / total_ocean_area\n",
    "    return data_weighted_mean\n"
   ]
  },
  {
   "cell_type": "markdown",
   "metadata": {},
   "source": [
    "# Read in PICES mask\n",
    "\n",
    "- Each dataset finds a unique and different way to define lat / lon or order them.\n",
    "- There is a need for standardization in this area\n",
    "- The basic PICES mask is -180 to 180 lon and -90 to 90 lat\n",
    "- Below different maps are created for 0 to 360 lon\n",
    "- Then each of the two different lon maps are also copied to reverse lat, 90 to -90"
   ]
  },
  {
   "cell_type": "code",
   "execution_count": 87,
   "metadata": {},
   "outputs": [],
   "source": [
    "#read in mask file\n",
    "filename = './data/PICES_all_mask.nc'\n",
    "ds_pices = xr.open_dataset(filename)\n",
    "ds_pices.close()\n",
    "#read in mask file\n",
    "filename = './data/PICES_all_mask360.nc'\n",
    "ds_pices360 = xr.open_dataset(filename)\n",
    "ds_pices360.close()\n",
    "\n",
    "ds_pices_revlat = ds_pices.sortby(ds_pices.lat, ascending = False)\n",
    "ds_pices360_revlat = ds_pices360.sortby(ds_pices360.lat, ascending = False)\n",
    "\n"
   ]
  },
  {
   "cell_type": "code",
   "execution_count": 101,
   "metadata": {},
   "outputs": [
    {
     "data": {
      "text/plain": [
       "<matplotlib.collections.QuadMesh at 0x13f9d769748>"
      ]
     },
     "execution_count": 101,
     "metadata": {},
     "output_type": "execute_result"
    },
    {
     "data": {
      "image/png": "[encoded data removed]",
      "text/plain": [
       "<Figure size 432x288 with 2 Axes>"
      ]
     },
     "metadata": {
      "needs_background": "light"
     },
     "output_type": "display_data"
    }
   ],
   "source": [
    "ds_pices360.sel(lon=slice(115,250),lat=slice(20,70)).region_mask.plot()"
   ]
  },
  {
   "cell_type": "markdown",
   "metadata": {},
   "source": [
    "## Read in SST data"
   ]
  },
  {
   "cell_type": "code",
   "execution_count": 90,
   "metadata": {},
   "outputs": [
    {
     "name": "stdout",
     "output_type": "stream",
     "text": [
      "lat range 89.5 -89.5\n",
      "lon range 0.5 359.5\n"
     ]
    }
   ],
   "source": [
    "ds = xr.open_dataset('./data/sst.mnmean.nc')\n",
    "print('lat range',ds.lat[0].data,ds.lat[-1].data)\n",
    "print('lon range',ds.lon[0].data,ds.lon[-1].data)\n",
    "#create sst mean for pices region\n",
    "iregion=13\n",
    "mask_interp = ds_pices360_revlat.interp_like(ds,method='nearest')\n",
    "cond = (mask_interp.region_mask==iregion)\n",
    "sst_mean = weighted_mean_of_data(ds.sst,cond)\n",
    "\n",
    "#make climatology and anomalies using .groupby method\n",
    "sst_climatology = sst_mean.groupby('time.month').mean('time')\n",
    "sst_anomalies = sst_mean.groupby('time.month') - sst_climatology"
   ]
  },
  {
   "cell_type": "markdown",
   "metadata": {},
   "source": [
    "## Read in wind data"
   ]
  },
  {
   "cell_type": "code",
   "execution_count": 92,
   "metadata": {},
   "outputs": [
    {
     "name": "stdout",
     "output_type": "stream",
     "text": [
      "lat range -90.0 90.0\n",
      "lon range 0.0 359.0\n"
     ]
    }
   ],
   "source": [
    "aggr_url = 'https://coastwatch.pfeg.noaa.gov/erddap/griddap/erdlasFnWind10'\n",
    "ds = xr.open_dataset(aggr_url).rename({'latitude':'lat','longitude':'lon'}).drop({'taux_mean','tauy_mean','curl'})\n",
    "print('lat range',ds.lat[0].data,ds.lat[-1].data)\n",
    "print('lon range',ds.lon[0].data,ds.lon[-1].data)\n",
    "\n",
    "#create  mean for pices region\n",
    "iregion=13\n",
    "mask_interp = ds_pices360.interp_like(ds,method='nearest')\n",
    "cond = (mask_interp.region_mask==iregion)\n",
    "wnd_mean = weighted_mean_of_data(ds,cond)\n",
    "\n",
    "#make climatology and anomalies using .groupby method\n",
    "wnd_climatology = wnd_mean.groupby('time.month').mean('time')\n",
    "wnd_anomalies = wnd_mean.groupby('time.month') - wnd_climatology\n"
   ]
  },
  {
   "cell_type": "markdown",
   "metadata": {},
   "source": [
    "## Testing still"
   ]
  },
  {
   "cell_type": "code",
   "execution_count": 93,
   "metadata": {},
   "outputs": [
    {
     "name": "stdout",
     "output_type": "stream",
     "text": [
      "lat range 89.979164 -89.979164\n",
      "lon range -179.97917 179.97917\n"
     ]
    }
   ],
   "source": [
    "aggr_url = 'https://coastwatch.pfeg.noaa.gov/erddap/griddap/pmlEsaCCI31OceanColorMonthly'\n",
    "ds = xr.open_dataset(aggr_url).rename({'latitude':'lat','longitude':'lon'})\n",
    "print('lat range',ds.lat[0].data,ds.lat[-1].data)\n",
    "print('lon range',ds.lon[0].data,ds.lon[-1].data)\n",
    "\n",
    "#create  mean for pices region\n",
    "iregion=13\n",
    "mask_interp = ds_pices_revlat.interp_like(ds,method='nearest')\n",
    "cond = (mask_interp.region_mask==iregion)\n",
    "chl_mean = weighted_mean_of_data(ds,cond)\n",
    "\n",
    "#make climatology and anomalies using .groupby method\n",
    "chl_climatology = chl_mean.groupby('time.month').mean('time')\n",
    "chl_anomalies = chl_mean.groupby('time.month') - chl_climatology\n"
   ]
  },
  {
   "cell_type": "code",
   "execution_count": null,
   "metadata": {},
   "outputs": [
    {
     "name": "stdout",
     "output_type": "stream",
     "text": [
      "lat range 80.0 -80.0\n",
      "lon range 20.0 420.0\n"
     ]
    }
   ],
   "source": [
    "aggr_url = 'https://coastwatch.pfeg.noaa.gov/erddap/griddap/jplOscar'\n",
    "ds = xr.open_dataset(aggr_url).isel(depth=0).rename({'latitude':'lat','longitude':'lon'}).drop({'um','vm'})\n",
    "print('lat range',ds.lat[0].data,ds.lat[-1].data)\n",
    "print('lon range',ds.lon[0].data,ds.lon[-1].data)\n",
    "\n",
    "ds = ds.sel(lon=slice(115,250),lat=slice(70,20))\n",
    "\n",
    "#create  mean for pices region\n",
    "iregion=13\n",
    "mask_interp = ds_pices360_revlat.interp_like(ds,method='nearest')\n",
    "cond = (mask_interp.region_mask==iregion)\n",
    "cur_mean = weighted_mean_of_data(ds,cond)\n",
    "\n",
    "#make climatology and anomalies using .groupby method\n",
    "cur_climatology = cur_mean.groupby('time.month').mean('time')\n",
    "cur_anomalies = cur_mean.groupby('time.month') - cur_climatology\n"
   ]
  },
  {
   "cell_type": "code",
   "execution_count": null,
   "metadata": {},
   "outputs": [],
   "source": []
  },
  {
   "cell_type": "code",
   "execution_count": 71,
   "metadata": {},
   "outputs": [
    {
     "ename": "IndexError",
     "evalue": "The indexing operation you are attempting to perform is not valid on netCDF4.Variable object. Try loading your data into memory first by calling .load().",
     "output_type": "error",
     "traceback": [
      "\u001b[1;31m---------------------------------------------------------------------------\u001b[0m",
      "\u001b[1;31mIndexError\u001b[0m                                Traceback (most recent call last)",
      "\u001b[1;32m~\\Miniconda3\\envs\\satenv\\lib\\site-packages\\xarray\\backends\\netCDF4_.py\u001b[0m in \u001b[0;36m_getitem\u001b[1;34m(self, key)\u001b[0m\n\u001b[0;32m     74\u001b[0m                 \u001b[0moriginal_array\u001b[0m \u001b[1;33m=\u001b[0m \u001b[0mself\u001b[0m\u001b[1;33m.\u001b[0m\u001b[0mget_array\u001b[0m\u001b[1;33m(\u001b[0m\u001b[0mneeds_lock\u001b[0m\u001b[1;33m=\u001b[0m\u001b[1;32mFalse\u001b[0m\u001b[1;33m)\u001b[0m\u001b[1;33m\u001b[0m\u001b[1;33m\u001b[0m\u001b[0m\n\u001b[1;32m---> 75\u001b[1;33m                 \u001b[0marray\u001b[0m \u001b[1;33m=\u001b[0m \u001b[0mgetitem\u001b[0m\u001b[1;33m(\u001b[0m\u001b[0moriginal_array\u001b[0m\u001b[1;33m,\u001b[0m \u001b[0mkey\u001b[0m\u001b[1;33m)\u001b[0m\u001b[1;33m\u001b[0m\u001b[1;33m\u001b[0m\u001b[0m\n\u001b[0m\u001b[0;32m     76\u001b[0m         \u001b[1;32mexcept\u001b[0m \u001b[0mIndexError\u001b[0m\u001b[1;33m:\u001b[0m\u001b[1;33m\u001b[0m\u001b[1;33m\u001b[0m\u001b[0m\n",
      "\u001b[1;32m~\\Miniconda3\\envs\\satenv\\lib\\site-packages\\xarray\\backends\\common.py\u001b[0m in \u001b[0;36mrobust_getitem\u001b[1;34m(array, key, catch, max_retries, initial_delay)\u001b[0m\n\u001b[0;32m     54\u001b[0m         \u001b[1;32mtry\u001b[0m\u001b[1;33m:\u001b[0m\u001b[1;33m\u001b[0m\u001b[1;33m\u001b[0m\u001b[0m\n\u001b[1;32m---> 55\u001b[1;33m             \u001b[1;32mreturn\u001b[0m \u001b[0marray\u001b[0m\u001b[1;33m[\u001b[0m\u001b[0mkey\u001b[0m\u001b[1;33m]\u001b[0m\u001b[1;33m\u001b[0m\u001b[1;33m\u001b[0m\u001b[0m\n\u001b[0m\u001b[0;32m     56\u001b[0m         \u001b[1;32mexcept\u001b[0m \u001b[0mcatch\u001b[0m\u001b[1;33m:\u001b[0m\u001b[1;33m\u001b[0m\u001b[1;33m\u001b[0m\u001b[0m\n",
      "\u001b[1;32mnetCDF4\\_netCDF4.pyx\u001b[0m in \u001b[0;36mnetCDF4._netCDF4.Variable.__getitem__\u001b[1;34m()\u001b[0m\n",
      "\u001b[1;32mnetCDF4\\_netCDF4.pyx\u001b[0m in \u001b[0;36mnetCDF4._netCDF4.Variable._get\u001b[1;34m()\u001b[0m\n",
      "\u001b[1;31mIndexError\u001b[0m: index exceeds dimension bounds",
      "\nDuring handling of the above exception, another exception occurred:\n",
      "\u001b[1;31mIndexError\u001b[0m                                Traceback (most recent call last)",
      "\u001b[1;32m<ipython-input-71-3f6d40c5de87>\u001b[0m in \u001b[0;36m<module>\u001b[1;34m\u001b[0m\n\u001b[1;32m----> 1\u001b[1;33m \u001b[0mcur_mean\u001b[0m \u001b[1;33m=\u001b[0m \u001b[0mweighted_mean_of_data\u001b[0m\u001b[1;33m(\u001b[0m\u001b[0mds\u001b[0m\u001b[1;33m,\u001b[0m\u001b[0mcond\u001b[0m\u001b[1;33m)\u001b[0m\u001b[1;33m\u001b[0m\u001b[1;33m\u001b[0m\u001b[0m\n\u001b[0m",
      "\u001b[1;32m<ipython-input-27-291ad46172bb>\u001b[0m in \u001b[0;36mweighted_mean_of_data\u001b[1;34m(data_in, data_cond)\u001b[0m\n\u001b[0;32m     44\u001b[0m     \u001b[1;31m#pixel_area = pixel_area.where(np.isfinite(data_mask))\u001b[0m\u001b[1;33m\u001b[0m\u001b[1;33m\u001b[0m\u001b[1;33m\u001b[0m\u001b[0m\n\u001b[0;32m     45\u001b[0m     \u001b[0mtotal_ocean_area\u001b[0m \u001b[1;33m=\u001b[0m \u001b[0mpixel_area\u001b[0m\u001b[1;33m.\u001b[0m\u001b[0msum\u001b[0m\u001b[1;33m(\u001b[0m\u001b[0mdim\u001b[0m\u001b[1;33m=\u001b[0m\u001b[1;33m(\u001b[0m\u001b[1;34m'lon'\u001b[0m\u001b[1;33m,\u001b[0m \u001b[1;34m'lat'\u001b[0m\u001b[1;33m)\u001b[0m\u001b[1;33m)\u001b[0m\u001b[1;33m\u001b[0m\u001b[1;33m\u001b[0m\u001b[0m\n\u001b[1;32m---> 46\u001b[1;33m     \u001b[0mdata_weighted_mean\u001b[0m \u001b[1;33m=\u001b[0m \u001b[1;33m(\u001b[0m\u001b[0mdata_in\u001b[0m \u001b[1;33m*\u001b[0m \u001b[0mpixel_area\u001b[0m\u001b[1;33m)\u001b[0m\u001b[1;33m.\u001b[0m\u001b[0msum\u001b[0m\u001b[1;33m(\u001b[0m\u001b[0mdim\u001b[0m\u001b[1;33m=\u001b[0m\u001b[1;33m(\u001b[0m\u001b[1;34m'lon'\u001b[0m\u001b[1;33m,\u001b[0m \u001b[1;34m'lat'\u001b[0m\u001b[1;33m)\u001b[0m\u001b[1;33m)\u001b[0m \u001b[1;33m/\u001b[0m \u001b[0mtotal_ocean_area\u001b[0m\u001b[1;33m\u001b[0m\u001b[1;33m\u001b[0m\u001b[0m\n\u001b[0m\u001b[0;32m     47\u001b[0m     \u001b[1;32mreturn\u001b[0m \u001b[0mdata_weighted_mean\u001b[0m\u001b[1;33m\u001b[0m\u001b[1;33m\u001b[0m\u001b[0m\n",
      "\u001b[1;32m~\\Miniconda3\\envs\\satenv\\lib\\site-packages\\xarray\\core\\dataset.py\u001b[0m in \u001b[0;36mfunc\u001b[1;34m(self, other)\u001b[0m\n\u001b[0;32m   3570\u001b[0m                 \u001b[0mself\u001b[0m\u001b[1;33m,\u001b[0m \u001b[0mother\u001b[0m \u001b[1;33m=\u001b[0m \u001b[0malign\u001b[0m\u001b[1;33m(\u001b[0m\u001b[0mself\u001b[0m\u001b[1;33m,\u001b[0m \u001b[0mother\u001b[0m\u001b[1;33m,\u001b[0m \u001b[0mjoin\u001b[0m\u001b[1;33m=\u001b[0m\u001b[0malign_type\u001b[0m\u001b[1;33m,\u001b[0m \u001b[0mcopy\u001b[0m\u001b[1;33m=\u001b[0m\u001b[1;32mFalse\u001b[0m\u001b[1;33m)\u001b[0m\u001b[1;33m\u001b[0m\u001b[1;33m\u001b[0m\u001b[0m\n\u001b[0;32m   3571\u001b[0m             \u001b[0mg\u001b[0m \u001b[1;33m=\u001b[0m \u001b[0mf\u001b[0m \u001b[1;32mif\u001b[0m \u001b[1;32mnot\u001b[0m \u001b[0mreflexive\u001b[0m \u001b[1;32melse\u001b[0m \u001b[1;32mlambda\u001b[0m \u001b[0mx\u001b[0m\u001b[1;33m,\u001b[0m \u001b[0my\u001b[0m\u001b[1;33m:\u001b[0m \u001b[0mf\u001b[0m\u001b[1;33m(\u001b[0m\u001b[0my\u001b[0m\u001b[1;33m,\u001b[0m \u001b[0mx\u001b[0m\u001b[1;33m)\u001b[0m\u001b[1;33m\u001b[0m\u001b[1;33m\u001b[0m\u001b[0m\n\u001b[1;32m-> 3572\u001b[1;33m             \u001b[0mds\u001b[0m \u001b[1;33m=\u001b[0m \u001b[0mself\u001b[0m\u001b[1;33m.\u001b[0m\u001b[0m_calculate_binary_op\u001b[0m\u001b[1;33m(\u001b[0m\u001b[0mg\u001b[0m\u001b[1;33m,\u001b[0m \u001b[0mother\u001b[0m\u001b[1;33m,\u001b[0m \u001b[0mjoin\u001b[0m\u001b[1;33m=\u001b[0m\u001b[0malign_type\u001b[0m\u001b[1;33m)\u001b[0m\u001b[1;33m\u001b[0m\u001b[1;33m\u001b[0m\u001b[0m\n\u001b[0m\u001b[0;32m   3573\u001b[0m             \u001b[1;32mreturn\u001b[0m \u001b[0mds\u001b[0m\u001b[1;33m\u001b[0m\u001b[1;33m\u001b[0m\u001b[0m\n\u001b[0;32m   3574\u001b[0m \u001b[1;33m\u001b[0m\u001b[0m\n",
      "\u001b[1;32m~\\Miniconda3\\envs\\satenv\\lib\\site-packages\\xarray\\core\\dataset.py\u001b[0m in \u001b[0;36m_calculate_binary_op\u001b[1;34m(self, f, other, join, inplace)\u001b[0m\n\u001b[0;32m   3632\u001b[0m             \u001b[0mother_variable\u001b[0m \u001b[1;33m=\u001b[0m \u001b[0mgetattr\u001b[0m\u001b[1;33m(\u001b[0m\u001b[0mother\u001b[0m\u001b[1;33m,\u001b[0m \u001b[1;34m'variable'\u001b[0m\u001b[1;33m,\u001b[0m \u001b[0mother\u001b[0m\u001b[1;33m)\u001b[0m\u001b[1;33m\u001b[0m\u001b[1;33m\u001b[0m\u001b[0m\n\u001b[0;32m   3633\u001b[0m             new_vars = OrderedDict((k, f(self.variables[k], other_variable))\n\u001b[1;32m-> 3634\u001b[1;33m                                    for k in self.data_vars)\n\u001b[0m\u001b[0;32m   3635\u001b[0m         \u001b[0mds\u001b[0m\u001b[1;33m.\u001b[0m\u001b[0m_variables\u001b[0m\u001b[1;33m.\u001b[0m\u001b[0mupdate\u001b[0m\u001b[1;33m(\u001b[0m\u001b[0mnew_vars\u001b[0m\u001b[1;33m)\u001b[0m\u001b[1;33m\u001b[0m\u001b[1;33m\u001b[0m\u001b[0m\n\u001b[0;32m   3636\u001b[0m         \u001b[0mds\u001b[0m\u001b[1;33m.\u001b[0m\u001b[0m_dims\u001b[0m \u001b[1;33m=\u001b[0m \u001b[0mcalculate_dimensions\u001b[0m\u001b[1;33m(\u001b[0m\u001b[0mds\u001b[0m\u001b[1;33m.\u001b[0m\u001b[0m_variables\u001b[0m\u001b[1;33m)\u001b[0m\u001b[1;33m\u001b[0m\u001b[1;33m\u001b[0m\u001b[0m\n",
      "\u001b[1;32m~\\Miniconda3\\envs\\satenv\\lib\\site-packages\\xarray\\core\\dataset.py\u001b[0m in \u001b[0;36m<genexpr>\u001b[1;34m(.0)\u001b[0m\n\u001b[0;32m   3632\u001b[0m             \u001b[0mother_variable\u001b[0m \u001b[1;33m=\u001b[0m \u001b[0mgetattr\u001b[0m\u001b[1;33m(\u001b[0m\u001b[0mother\u001b[0m\u001b[1;33m,\u001b[0m \u001b[1;34m'variable'\u001b[0m\u001b[1;33m,\u001b[0m \u001b[0mother\u001b[0m\u001b[1;33m)\u001b[0m\u001b[1;33m\u001b[0m\u001b[1;33m\u001b[0m\u001b[0m\n\u001b[0;32m   3633\u001b[0m             new_vars = OrderedDict((k, f(self.variables[k], other_variable))\n\u001b[1;32m-> 3634\u001b[1;33m                                    for k in self.data_vars)\n\u001b[0m\u001b[0;32m   3635\u001b[0m         \u001b[0mds\u001b[0m\u001b[1;33m.\u001b[0m\u001b[0m_variables\u001b[0m\u001b[1;33m.\u001b[0m\u001b[0mupdate\u001b[0m\u001b[1;33m(\u001b[0m\u001b[0mnew_vars\u001b[0m\u001b[1;33m)\u001b[0m\u001b[1;33m\u001b[0m\u001b[1;33m\u001b[0m\u001b[0m\n\u001b[0;32m   3636\u001b[0m         \u001b[0mds\u001b[0m\u001b[1;33m.\u001b[0m\u001b[0m_dims\u001b[0m \u001b[1;33m=\u001b[0m \u001b[0mcalculate_dimensions\u001b[0m\u001b[1;33m(\u001b[0m\u001b[0mds\u001b[0m\u001b[1;33m.\u001b[0m\u001b[0m_variables\u001b[0m\u001b[1;33m)\u001b[0m\u001b[1;33m\u001b[0m\u001b[1;33m\u001b[0m\u001b[0m\n",
      "\u001b[1;32m~\\Miniconda3\\envs\\satenv\\lib\\site-packages\\xarray\\core\\variable.py\u001b[0m in \u001b[0;36mfunc\u001b[1;34m(self, other)\u001b[0m\n\u001b[0;32m   1765\u001b[0m             \u001b[1;32mif\u001b[0m \u001b[0misinstance\u001b[0m\u001b[1;33m(\u001b[0m\u001b[0mother\u001b[0m\u001b[1;33m,\u001b[0m \u001b[1;33m(\u001b[0m\u001b[0mxr\u001b[0m\u001b[1;33m.\u001b[0m\u001b[0mDataArray\u001b[0m\u001b[1;33m,\u001b[0m \u001b[0mxr\u001b[0m\u001b[1;33m.\u001b[0m\u001b[0mDataset\u001b[0m\u001b[1;33m)\u001b[0m\u001b[1;33m)\u001b[0m\u001b[1;33m:\u001b[0m\u001b[1;33m\u001b[0m\u001b[1;33m\u001b[0m\u001b[0m\n\u001b[0;32m   1766\u001b[0m                 \u001b[1;32mreturn\u001b[0m \u001b[0mNotImplemented\u001b[0m\u001b[1;33m\u001b[0m\u001b[1;33m\u001b[0m\u001b[0m\n\u001b[1;32m-> 1767\u001b[1;33m             \u001b[0mself_data\u001b[0m\u001b[1;33m,\u001b[0m \u001b[0mother_data\u001b[0m\u001b[1;33m,\u001b[0m \u001b[0mdims\u001b[0m \u001b[1;33m=\u001b[0m \u001b[0m_broadcast_compat_data\u001b[0m\u001b[1;33m(\u001b[0m\u001b[0mself\u001b[0m\u001b[1;33m,\u001b[0m \u001b[0mother\u001b[0m\u001b[1;33m)\u001b[0m\u001b[1;33m\u001b[0m\u001b[1;33m\u001b[0m\u001b[0m\n\u001b[0m\u001b[0;32m   1768\u001b[0m             \u001b[0mkeep_attrs\u001b[0m \u001b[1;33m=\u001b[0m \u001b[0m_get_keep_attrs\u001b[0m\u001b[1;33m(\u001b[0m\u001b[0mdefault\u001b[0m\u001b[1;33m=\u001b[0m\u001b[1;32mFalse\u001b[0m\u001b[1;33m)\u001b[0m\u001b[1;33m\u001b[0m\u001b[1;33m\u001b[0m\u001b[0m\n\u001b[0;32m   1769\u001b[0m             \u001b[0mattrs\u001b[0m \u001b[1;33m=\u001b[0m \u001b[0mself\u001b[0m\u001b[1;33m.\u001b[0m\u001b[0m_attrs\u001b[0m \u001b[1;32mif\u001b[0m \u001b[0mkeep_attrs\u001b[0m \u001b[1;32melse\u001b[0m \u001b[1;32mNone\u001b[0m\u001b[1;33m\u001b[0m\u001b[1;33m\u001b[0m\u001b[0m\n",
      "\u001b[1;32m~\\Miniconda3\\envs\\satenv\\lib\\site-packages\\xarray\\core\\variable.py\u001b[0m in \u001b[0;36m_broadcast_compat_data\u001b[1;34m(self, other)\u001b[0m\n\u001b[0;32m   2042\u001b[0m         \u001b[1;31m# `other` satisfies the necessary Variable API for broadcast_variables\u001b[0m\u001b[1;33m\u001b[0m\u001b[1;33m\u001b[0m\u001b[1;33m\u001b[0m\u001b[0m\n\u001b[0;32m   2043\u001b[0m         \u001b[0mnew_self\u001b[0m\u001b[1;33m,\u001b[0m \u001b[0mnew_other\u001b[0m \u001b[1;33m=\u001b[0m \u001b[0m_broadcast_compat_variables\u001b[0m\u001b[1;33m(\u001b[0m\u001b[0mself\u001b[0m\u001b[1;33m,\u001b[0m \u001b[0mother\u001b[0m\u001b[1;33m)\u001b[0m\u001b[1;33m\u001b[0m\u001b[1;33m\u001b[0m\u001b[0m\n\u001b[1;32m-> 2044\u001b[1;33m         \u001b[0mself_data\u001b[0m \u001b[1;33m=\u001b[0m \u001b[0mnew_self\u001b[0m\u001b[1;33m.\u001b[0m\u001b[0mdata\u001b[0m\u001b[1;33m\u001b[0m\u001b[1;33m\u001b[0m\u001b[0m\n\u001b[0m\u001b[0;32m   2045\u001b[0m         \u001b[0mother_data\u001b[0m \u001b[1;33m=\u001b[0m \u001b[0mnew_other\u001b[0m\u001b[1;33m.\u001b[0m\u001b[0mdata\u001b[0m\u001b[1;33m\u001b[0m\u001b[1;33m\u001b[0m\u001b[0m\n\u001b[0;32m   2046\u001b[0m         \u001b[0mdims\u001b[0m \u001b[1;33m=\u001b[0m \u001b[0mnew_self\u001b[0m\u001b[1;33m.\u001b[0m\u001b[0mdims\u001b[0m\u001b[1;33m\u001b[0m\u001b[1;33m\u001b[0m\u001b[0m\n",
      "\u001b[1;32m~\\Miniconda3\\envs\\satenv\\lib\\site-packages\\xarray\\core\\variable.py\u001b[0m in \u001b[0;36mdata\u001b[1;34m(self)\u001b[0m\n\u001b[0;32m    295\u001b[0m             \u001b[1;32mreturn\u001b[0m \u001b[0mself\u001b[0m\u001b[1;33m.\u001b[0m\u001b[0m_data\u001b[0m\u001b[1;33m\u001b[0m\u001b[1;33m\u001b[0m\u001b[0m\n\u001b[0;32m    296\u001b[0m         \u001b[1;32melse\u001b[0m\u001b[1;33m:\u001b[0m\u001b[1;33m\u001b[0m\u001b[1;33m\u001b[0m\u001b[0m\n\u001b[1;32m--> 297\u001b[1;33m             \u001b[1;32mreturn\u001b[0m \u001b[0mself\u001b[0m\u001b[1;33m.\u001b[0m\u001b[0mvalues\u001b[0m\u001b[1;33m\u001b[0m\u001b[1;33m\u001b[0m\u001b[0m\n\u001b[0m\u001b[0;32m    298\u001b[0m \u001b[1;33m\u001b[0m\u001b[0m\n\u001b[0;32m    299\u001b[0m     \u001b[1;33m@\u001b[0m\u001b[0mdata\u001b[0m\u001b[1;33m.\u001b[0m\u001b[0msetter\u001b[0m\u001b[1;33m\u001b[0m\u001b[1;33m\u001b[0m\u001b[0m\n",
      "\u001b[1;32m~\\Miniconda3\\envs\\satenv\\lib\\site-packages\\xarray\\core\\variable.py\u001b[0m in \u001b[0;36mvalues\u001b[1;34m(self)\u001b[0m\n\u001b[0;32m    390\u001b[0m     \u001b[1;32mdef\u001b[0m \u001b[0mvalues\u001b[0m\u001b[1;33m(\u001b[0m\u001b[0mself\u001b[0m\u001b[1;33m)\u001b[0m\u001b[1;33m:\u001b[0m\u001b[1;33m\u001b[0m\u001b[1;33m\u001b[0m\u001b[0m\n\u001b[0;32m    391\u001b[0m         \u001b[1;34m\"\"\"The variable's data as a numpy.ndarray\"\"\"\u001b[0m\u001b[1;33m\u001b[0m\u001b[1;33m\u001b[0m\u001b[0m\n\u001b[1;32m--> 392\u001b[1;33m         \u001b[1;32mreturn\u001b[0m \u001b[0m_as_array_or_item\u001b[0m\u001b[1;33m(\u001b[0m\u001b[0mself\u001b[0m\u001b[1;33m.\u001b[0m\u001b[0m_data\u001b[0m\u001b[1;33m)\u001b[0m\u001b[1;33m\u001b[0m\u001b[1;33m\u001b[0m\u001b[0m\n\u001b[0m\u001b[0;32m    393\u001b[0m \u001b[1;33m\u001b[0m\u001b[0m\n\u001b[0;32m    394\u001b[0m     \u001b[1;33m@\u001b[0m\u001b[0mvalues\u001b[0m\u001b[1;33m.\u001b[0m\u001b[0msetter\u001b[0m\u001b[1;33m\u001b[0m\u001b[1;33m\u001b[0m\u001b[0m\n",
      "\u001b[1;32m~\\Miniconda3\\envs\\satenv\\lib\\site-packages\\xarray\\core\\variable.py\u001b[0m in \u001b[0;36m_as_array_or_item\u001b[1;34m(data)\u001b[0m\n\u001b[0;32m    211\u001b[0m     \u001b[0mTODO\u001b[0m\u001b[1;33m:\u001b[0m \u001b[0mremove\u001b[0m \u001b[0mthis\u001b[0m \u001b[1;33m(\u001b[0m\u001b[0mreplace\u001b[0m \u001b[1;32mwith\u001b[0m \u001b[0mnp\u001b[0m\u001b[1;33m.\u001b[0m\u001b[0masarray\u001b[0m\u001b[1;33m)\u001b[0m \u001b[0monce\u001b[0m \u001b[0mthese\u001b[0m \u001b[0missues\u001b[0m \u001b[0mare\u001b[0m \u001b[0mfixed\u001b[0m\u001b[1;33m\u001b[0m\u001b[1;33m\u001b[0m\u001b[0m\n\u001b[0;32m    212\u001b[0m     \"\"\"\n\u001b[1;32m--> 213\u001b[1;33m     \u001b[0mdata\u001b[0m \u001b[1;33m=\u001b[0m \u001b[0mnp\u001b[0m\u001b[1;33m.\u001b[0m\u001b[0masarray\u001b[0m\u001b[1;33m(\u001b[0m\u001b[0mdata\u001b[0m\u001b[1;33m)\u001b[0m\u001b[1;33m\u001b[0m\u001b[1;33m\u001b[0m\u001b[0m\n\u001b[0m\u001b[0;32m    214\u001b[0m     \u001b[1;32mif\u001b[0m \u001b[0mdata\u001b[0m\u001b[1;33m.\u001b[0m\u001b[0mndim\u001b[0m \u001b[1;33m==\u001b[0m \u001b[1;36m0\u001b[0m\u001b[1;33m:\u001b[0m\u001b[1;33m\u001b[0m\u001b[1;33m\u001b[0m\u001b[0m\n\u001b[0;32m    215\u001b[0m         \u001b[1;32mif\u001b[0m \u001b[0mdata\u001b[0m\u001b[1;33m.\u001b[0m\u001b[0mdtype\u001b[0m\u001b[1;33m.\u001b[0m\u001b[0mkind\u001b[0m \u001b[1;33m==\u001b[0m \u001b[1;34m'M'\u001b[0m\u001b[1;33m:\u001b[0m\u001b[1;33m\u001b[0m\u001b[1;33m\u001b[0m\u001b[0m\n",
      "\u001b[1;32m~\\Miniconda3\\envs\\satenv\\lib\\site-packages\\numpy\\core\\numeric.py\u001b[0m in \u001b[0;36masarray\u001b[1;34m(a, dtype, order)\u001b[0m\n\u001b[0;32m    536\u001b[0m \u001b[1;33m\u001b[0m\u001b[0m\n\u001b[0;32m    537\u001b[0m     \"\"\"\n\u001b[1;32m--> 538\u001b[1;33m     \u001b[1;32mreturn\u001b[0m \u001b[0marray\u001b[0m\u001b[1;33m(\u001b[0m\u001b[0ma\u001b[0m\u001b[1;33m,\u001b[0m \u001b[0mdtype\u001b[0m\u001b[1;33m,\u001b[0m \u001b[0mcopy\u001b[0m\u001b[1;33m=\u001b[0m\u001b[1;32mFalse\u001b[0m\u001b[1;33m,\u001b[0m \u001b[0morder\u001b[0m\u001b[1;33m=\u001b[0m\u001b[0morder\u001b[0m\u001b[1;33m)\u001b[0m\u001b[1;33m\u001b[0m\u001b[1;33m\u001b[0m\u001b[0m\n\u001b[0m\u001b[0;32m    539\u001b[0m \u001b[1;33m\u001b[0m\u001b[0m\n\u001b[0;32m    540\u001b[0m \u001b[1;33m\u001b[0m\u001b[0m\n",
      "\u001b[1;32m~\\Miniconda3\\envs\\satenv\\lib\\site-packages\\xarray\\core\\indexing.py\u001b[0m in \u001b[0;36m__array__\u001b[1;34m(self, dtype)\u001b[0m\n\u001b[0;32m    624\u001b[0m \u001b[1;33m\u001b[0m\u001b[0m\n\u001b[0;32m    625\u001b[0m     \u001b[1;32mdef\u001b[0m \u001b[0m__array__\u001b[0m\u001b[1;33m(\u001b[0m\u001b[0mself\u001b[0m\u001b[1;33m,\u001b[0m \u001b[0mdtype\u001b[0m\u001b[1;33m=\u001b[0m\u001b[1;32mNone\u001b[0m\u001b[1;33m)\u001b[0m\u001b[1;33m:\u001b[0m\u001b[1;33m\u001b[0m\u001b[1;33m\u001b[0m\u001b[0m\n\u001b[1;32m--> 626\u001b[1;33m         \u001b[0mself\u001b[0m\u001b[1;33m.\u001b[0m\u001b[0m_ensure_cached\u001b[0m\u001b[1;33m(\u001b[0m\u001b[1;33m)\u001b[0m\u001b[1;33m\u001b[0m\u001b[1;33m\u001b[0m\u001b[0m\n\u001b[0m\u001b[0;32m    627\u001b[0m         \u001b[1;32mreturn\u001b[0m \u001b[0mnp\u001b[0m\u001b[1;33m.\u001b[0m\u001b[0masarray\u001b[0m\u001b[1;33m(\u001b[0m\u001b[0mself\u001b[0m\u001b[1;33m.\u001b[0m\u001b[0marray\u001b[0m\u001b[1;33m,\u001b[0m \u001b[0mdtype\u001b[0m\u001b[1;33m=\u001b[0m\u001b[0mdtype\u001b[0m\u001b[1;33m)\u001b[0m\u001b[1;33m\u001b[0m\u001b[1;33m\u001b[0m\u001b[0m\n\u001b[0;32m    628\u001b[0m \u001b[1;33m\u001b[0m\u001b[0m\n",
      "\u001b[1;32m~\\Miniconda3\\envs\\satenv\\lib\\site-packages\\xarray\\core\\indexing.py\u001b[0m in \u001b[0;36m_ensure_cached\u001b[1;34m(self)\u001b[0m\n\u001b[0;32m    621\u001b[0m     \u001b[1;32mdef\u001b[0m \u001b[0m_ensure_cached\u001b[0m\u001b[1;33m(\u001b[0m\u001b[0mself\u001b[0m\u001b[1;33m)\u001b[0m\u001b[1;33m:\u001b[0m\u001b[1;33m\u001b[0m\u001b[1;33m\u001b[0m\u001b[0m\n\u001b[0;32m    622\u001b[0m         \u001b[1;32mif\u001b[0m \u001b[1;32mnot\u001b[0m \u001b[0misinstance\u001b[0m\u001b[1;33m(\u001b[0m\u001b[0mself\u001b[0m\u001b[1;33m.\u001b[0m\u001b[0marray\u001b[0m\u001b[1;33m,\u001b[0m \u001b[0mNumpyIndexingAdapter\u001b[0m\u001b[1;33m)\u001b[0m\u001b[1;33m:\u001b[0m\u001b[1;33m\u001b[0m\u001b[1;33m\u001b[0m\u001b[0m\n\u001b[1;32m--> 623\u001b[1;33m             \u001b[0mself\u001b[0m\u001b[1;33m.\u001b[0m\u001b[0marray\u001b[0m \u001b[1;33m=\u001b[0m \u001b[0mNumpyIndexingAdapter\u001b[0m\u001b[1;33m(\u001b[0m\u001b[0mnp\u001b[0m\u001b[1;33m.\u001b[0m\u001b[0masarray\u001b[0m\u001b[1;33m(\u001b[0m\u001b[0mself\u001b[0m\u001b[1;33m.\u001b[0m\u001b[0marray\u001b[0m\u001b[1;33m)\u001b[0m\u001b[1;33m)\u001b[0m\u001b[1;33m\u001b[0m\u001b[1;33m\u001b[0m\u001b[0m\n\u001b[0m\u001b[0;32m    624\u001b[0m \u001b[1;33m\u001b[0m\u001b[0m\n\u001b[0;32m    625\u001b[0m     \u001b[1;32mdef\u001b[0m \u001b[0m__array__\u001b[0m\u001b[1;33m(\u001b[0m\u001b[0mself\u001b[0m\u001b[1;33m,\u001b[0m \u001b[0mdtype\u001b[0m\u001b[1;33m=\u001b[0m\u001b[1;32mNone\u001b[0m\u001b[1;33m)\u001b[0m\u001b[1;33m:\u001b[0m\u001b[1;33m\u001b[0m\u001b[1;33m\u001b[0m\u001b[0m\n",
      "\u001b[1;32m~\\Miniconda3\\envs\\satenv\\lib\\site-packages\\numpy\\core\\numeric.py\u001b[0m in \u001b[0;36masarray\u001b[1;34m(a, dtype, order)\u001b[0m\n\u001b[0;32m    536\u001b[0m \u001b[1;33m\u001b[0m\u001b[0m\n\u001b[0;32m    537\u001b[0m     \"\"\"\n\u001b[1;32m--> 538\u001b[1;33m     \u001b[1;32mreturn\u001b[0m \u001b[0marray\u001b[0m\u001b[1;33m(\u001b[0m\u001b[0ma\u001b[0m\u001b[1;33m,\u001b[0m \u001b[0mdtype\u001b[0m\u001b[1;33m,\u001b[0m \u001b[0mcopy\u001b[0m\u001b[1;33m=\u001b[0m\u001b[1;32mFalse\u001b[0m\u001b[1;33m,\u001b[0m \u001b[0morder\u001b[0m\u001b[1;33m=\u001b[0m\u001b[0morder\u001b[0m\u001b[1;33m)\u001b[0m\u001b[1;33m\u001b[0m\u001b[1;33m\u001b[0m\u001b[0m\n\u001b[0m\u001b[0;32m    539\u001b[0m \u001b[1;33m\u001b[0m\u001b[0m\n\u001b[0;32m    540\u001b[0m \u001b[1;33m\u001b[0m\u001b[0m\n",
      "\u001b[1;32m~\\Miniconda3\\envs\\satenv\\lib\\site-packages\\xarray\\core\\indexing.py\u001b[0m in \u001b[0;36m__array__\u001b[1;34m(self, dtype)\u001b[0m\n\u001b[0;32m    602\u001b[0m \u001b[1;33m\u001b[0m\u001b[0m\n\u001b[0;32m    603\u001b[0m     \u001b[1;32mdef\u001b[0m \u001b[0m__array__\u001b[0m\u001b[1;33m(\u001b[0m\u001b[0mself\u001b[0m\u001b[1;33m,\u001b[0m \u001b[0mdtype\u001b[0m\u001b[1;33m=\u001b[0m\u001b[1;32mNone\u001b[0m\u001b[1;33m)\u001b[0m\u001b[1;33m:\u001b[0m\u001b[1;33m\u001b[0m\u001b[1;33m\u001b[0m\u001b[0m\n\u001b[1;32m--> 604\u001b[1;33m         \u001b[1;32mreturn\u001b[0m \u001b[0mnp\u001b[0m\u001b[1;33m.\u001b[0m\u001b[0masarray\u001b[0m\u001b[1;33m(\u001b[0m\u001b[0mself\u001b[0m\u001b[1;33m.\u001b[0m\u001b[0marray\u001b[0m\u001b[1;33m,\u001b[0m \u001b[0mdtype\u001b[0m\u001b[1;33m=\u001b[0m\u001b[0mdtype\u001b[0m\u001b[1;33m)\u001b[0m\u001b[1;33m\u001b[0m\u001b[1;33m\u001b[0m\u001b[0m\n\u001b[0m\u001b[0;32m    605\u001b[0m \u001b[1;33m\u001b[0m\u001b[0m\n\u001b[0;32m    606\u001b[0m     \u001b[1;32mdef\u001b[0m \u001b[0m__getitem__\u001b[0m\u001b[1;33m(\u001b[0m\u001b[0mself\u001b[0m\u001b[1;33m,\u001b[0m \u001b[0mkey\u001b[0m\u001b[1;33m)\u001b[0m\u001b[1;33m:\u001b[0m\u001b[1;33m\u001b[0m\u001b[1;33m\u001b[0m\u001b[0m\n",
      "\u001b[1;32m~\\Miniconda3\\envs\\satenv\\lib\\site-packages\\numpy\\core\\numeric.py\u001b[0m in \u001b[0;36masarray\u001b[1;34m(a, dtype, order)\u001b[0m\n\u001b[0;32m    536\u001b[0m \u001b[1;33m\u001b[0m\u001b[0m\n\u001b[0;32m    537\u001b[0m     \"\"\"\n\u001b[1;32m--> 538\u001b[1;33m     \u001b[1;32mreturn\u001b[0m \u001b[0marray\u001b[0m\u001b[1;33m(\u001b[0m\u001b[0ma\u001b[0m\u001b[1;33m,\u001b[0m \u001b[0mdtype\u001b[0m\u001b[1;33m,\u001b[0m \u001b[0mcopy\u001b[0m\u001b[1;33m=\u001b[0m\u001b[1;32mFalse\u001b[0m\u001b[1;33m,\u001b[0m \u001b[0morder\u001b[0m\u001b[1;33m=\u001b[0m\u001b[0morder\u001b[0m\u001b[1;33m)\u001b[0m\u001b[1;33m\u001b[0m\u001b[1;33m\u001b[0m\u001b[0m\n\u001b[0m\u001b[0;32m    539\u001b[0m \u001b[1;33m\u001b[0m\u001b[0m\n\u001b[0;32m    540\u001b[0m \u001b[1;33m\u001b[0m\u001b[0m\n",
      "\u001b[1;32m~\\Miniconda3\\envs\\satenv\\lib\\site-packages\\xarray\\core\\indexing.py\u001b[0m in \u001b[0;36m__array__\u001b[1;34m(self, dtype)\u001b[0m\n\u001b[0;32m    508\u001b[0m     \u001b[1;32mdef\u001b[0m \u001b[0m__array__\u001b[0m\u001b[1;33m(\u001b[0m\u001b[0mself\u001b[0m\u001b[1;33m,\u001b[0m \u001b[0mdtype\u001b[0m\u001b[1;33m=\u001b[0m\u001b[1;32mNone\u001b[0m\u001b[1;33m)\u001b[0m\u001b[1;33m:\u001b[0m\u001b[1;33m\u001b[0m\u001b[1;33m\u001b[0m\u001b[0m\n\u001b[0;32m    509\u001b[0m         \u001b[0marray\u001b[0m \u001b[1;33m=\u001b[0m \u001b[0mas_indexable\u001b[0m\u001b[1;33m(\u001b[0m\u001b[0mself\u001b[0m\u001b[1;33m.\u001b[0m\u001b[0marray\u001b[0m\u001b[1;33m)\u001b[0m\u001b[1;33m\u001b[0m\u001b[1;33m\u001b[0m\u001b[0m\n\u001b[1;32m--> 510\u001b[1;33m         \u001b[1;32mreturn\u001b[0m \u001b[0mnp\u001b[0m\u001b[1;33m.\u001b[0m\u001b[0masarray\u001b[0m\u001b[1;33m(\u001b[0m\u001b[0marray\u001b[0m\u001b[1;33m[\u001b[0m\u001b[0mself\u001b[0m\u001b[1;33m.\u001b[0m\u001b[0mkey\u001b[0m\u001b[1;33m]\u001b[0m\u001b[1;33m,\u001b[0m \u001b[0mdtype\u001b[0m\u001b[1;33m=\u001b[0m\u001b[1;32mNone\u001b[0m\u001b[1;33m)\u001b[0m\u001b[1;33m\u001b[0m\u001b[1;33m\u001b[0m\u001b[0m\n\u001b[0m\u001b[0;32m    511\u001b[0m \u001b[1;33m\u001b[0m\u001b[0m\n\u001b[0;32m    512\u001b[0m     \u001b[1;32mdef\u001b[0m \u001b[0mtranspose\u001b[0m\u001b[1;33m(\u001b[0m\u001b[0mself\u001b[0m\u001b[1;33m,\u001b[0m \u001b[0morder\u001b[0m\u001b[1;33m)\u001b[0m\u001b[1;33m:\u001b[0m\u001b[1;33m\u001b[0m\u001b[1;33m\u001b[0m\u001b[0m\n",
      "\u001b[1;32m~\\Miniconda3\\envs\\satenv\\lib\\site-packages\\xarray\\backends\\netCDF4_.py\u001b[0m in \u001b[0;36m__getitem__\u001b[1;34m(self, key)\u001b[0m\n\u001b[0;32m     62\u001b[0m         return indexing.explicit_indexing_adapter(\n\u001b[0;32m     63\u001b[0m             \u001b[0mkey\u001b[0m\u001b[1;33m,\u001b[0m \u001b[0mself\u001b[0m\u001b[1;33m.\u001b[0m\u001b[0mshape\u001b[0m\u001b[1;33m,\u001b[0m \u001b[0mindexing\u001b[0m\u001b[1;33m.\u001b[0m\u001b[0mIndexingSupport\u001b[0m\u001b[1;33m.\u001b[0m\u001b[0mOUTER\u001b[0m\u001b[1;33m,\u001b[0m\u001b[1;33m\u001b[0m\u001b[1;33m\u001b[0m\u001b[0m\n\u001b[1;32m---> 64\u001b[1;33m             self._getitem)\n\u001b[0m\u001b[0;32m     65\u001b[0m \u001b[1;33m\u001b[0m\u001b[0m\n\u001b[0;32m     66\u001b[0m     \u001b[1;32mdef\u001b[0m \u001b[0m_getitem\u001b[0m\u001b[1;33m(\u001b[0m\u001b[0mself\u001b[0m\u001b[1;33m,\u001b[0m \u001b[0mkey\u001b[0m\u001b[1;33m)\u001b[0m\u001b[1;33m:\u001b[0m\u001b[1;33m\u001b[0m\u001b[1;33m\u001b[0m\u001b[0m\n",
      "\u001b[1;32m~\\Miniconda3\\envs\\satenv\\lib\\site-packages\\xarray\\core\\indexing.py\u001b[0m in \u001b[0;36mexplicit_indexing_adapter\u001b[1;34m(key, shape, indexing_support, raw_indexing_method)\u001b[0m\n\u001b[0;32m    776\u001b[0m     \"\"\"\n\u001b[0;32m    777\u001b[0m     \u001b[0mraw_key\u001b[0m\u001b[1;33m,\u001b[0m \u001b[0mnumpy_indices\u001b[0m \u001b[1;33m=\u001b[0m \u001b[0mdecompose_indexer\u001b[0m\u001b[1;33m(\u001b[0m\u001b[0mkey\u001b[0m\u001b[1;33m,\u001b[0m \u001b[0mshape\u001b[0m\u001b[1;33m,\u001b[0m \u001b[0mindexing_support\u001b[0m\u001b[1;33m)\u001b[0m\u001b[1;33m\u001b[0m\u001b[1;33m\u001b[0m\u001b[0m\n\u001b[1;32m--> 778\u001b[1;33m     \u001b[0mresult\u001b[0m \u001b[1;33m=\u001b[0m \u001b[0mraw_indexing_method\u001b[0m\u001b[1;33m(\u001b[0m\u001b[0mraw_key\u001b[0m\u001b[1;33m.\u001b[0m\u001b[0mtuple\u001b[0m\u001b[1;33m)\u001b[0m\u001b[1;33m\u001b[0m\u001b[1;33m\u001b[0m\u001b[0m\n\u001b[0m\u001b[0;32m    779\u001b[0m     \u001b[1;32mif\u001b[0m \u001b[0mnumpy_indices\u001b[0m\u001b[1;33m.\u001b[0m\u001b[0mtuple\u001b[0m\u001b[1;33m:\u001b[0m\u001b[1;33m\u001b[0m\u001b[1;33m\u001b[0m\u001b[0m\n\u001b[0;32m    780\u001b[0m         \u001b[1;31m# index the loaded np.ndarray\u001b[0m\u001b[1;33m\u001b[0m\u001b[1;33m\u001b[0m\u001b[1;33m\u001b[0m\u001b[0m\n",
      "\u001b[1;32m~\\Miniconda3\\envs\\satenv\\lib\\site-packages\\xarray\\backends\\netCDF4_.py\u001b[0m in \u001b[0;36m_getitem\u001b[1;34m(self, key)\u001b[0m\n\u001b[0;32m     81\u001b[0m                    \u001b[1;34m'is not valid on netCDF4.Variable object. Try loading '\u001b[0m\u001b[1;33m\u001b[0m\u001b[1;33m\u001b[0m\u001b[0m\n\u001b[0;32m     82\u001b[0m                    'your data into memory first by calling .load().')\n\u001b[1;32m---> 83\u001b[1;33m             \u001b[1;32mraise\u001b[0m \u001b[0mIndexError\u001b[0m\u001b[1;33m(\u001b[0m\u001b[0mmsg\u001b[0m\u001b[1;33m)\u001b[0m\u001b[1;33m\u001b[0m\u001b[1;33m\u001b[0m\u001b[0m\n\u001b[0m\u001b[0;32m     84\u001b[0m         \u001b[1;32mreturn\u001b[0m \u001b[0marray\u001b[0m\u001b[1;33m\u001b[0m\u001b[1;33m\u001b[0m\u001b[0m\n\u001b[0;32m     85\u001b[0m \u001b[1;33m\u001b[0m\u001b[0m\n",
      "\u001b[1;31mIndexError\u001b[0m: The indexing operation you are attempting to perform is not valid on netCDF4.Variable object. Try loading your data into memory first by calling .load()."
     ]
    }
   ],
   "source": [
    "cur_mean = weighted_mean_of_data(ds,cond)\n"
   ]
  },
  {
   "cell_type": "code",
   "execution_count": null,
   "metadata": {},
   "outputs": [],
   "source": [
    "aggr_url = 'https://coastwatch.pfeg.noaa.gov/erddap/griddap/pmlEsaCCI31OceanColorMonthly'\n",
    "ds = xr.open_dataset(aggr_url)\n",
    "chl_climatology = ds.groupby('time.month').mean('time')\n",
    "chl_anomalies = sst_climatology.groupby('time.month') - climatology"
   ]
  },
  {
   "cell_type": "code",
   "execution_count": 50,
   "metadata": {},
   "outputs": [
    {
     "data": {
      "text/plain": [
       "<xarray.Dataset>\n",
       "Dimensions:      (lat: 181, lon: 360, time: 272)\n",
       "Coordinates:\n",
       "  * time         (time) datetime64[ns] 1997-01-01 1997-02-01 ... 2019-08-01\n",
       "  * lat          (lat) float32 -90.0 -89.0 -88.0 -87.0 ... 87.0 88.0 89.0 90.0\n",
       "  * lon          (lon) float32 -180.0 -179.0 -178.0 -177.0 ... 177.0 178.0 179.0\n",
       "Data variables:\n",
       "    u_mean       (time, lat, lon) float32 nan nan nan ... -0.2213459 -0.22376615\n",
       "    v_mean       (time, lat, lon) float32 nan nan nan ... -0.5272126 -0.5255996\n",
       "    uv_mag_mean  (time, lat, lon) float32 nan nan nan ... 5.787453 5.7875957\n",
       "Attributes:\n",
       "    cdm_data_type:              Grid\n",
       "    Conventions:                COARDS, CF-1.6, ACDD-1.3\n",
       "    defaultGraphQuery:          &.draw=vectors\n",
       "    Easternmost_Easting:        359.0\n",
       "    geospatial_lat_max:         90.0\n",
       "    geospatial_lat_min:         -90.0\n",
       "    geospatial_lat_resolution:  1.0\n",
       "    geospatial_lat_units:       degrees_north\n",
       "    geospatial_lon_max:         359.0\n",
       "    geospatial_lon_min:         0.0\n",
       "    geospatial_lon_resolution:  1.0\n",
       "    geospatial_lon_units:       degrees_east\n",
       "    history:                    2019-10-02T01:01:03Z https://oceanview.pfeg.n...\n",
       "    infoUrl:                    https://www.pfeg.noaa.gov/products/PFEL/model...\n",
       "    institution:                FNMOC, NOAA ERD\n",
       "    keywords:                   10m, 360x181, atmosphere, atmospheric, compon...\n",
       "    keywords_vocabulary:        GCMD Science Keywords\n",
       "    license:                    The data may be used and redistributed for fr...\n",
       "    Northernmost_Northing:      90.0\n",
       "    sourceUrl:                  https://oceanview.pfeg.noaa.gov/thredds/dodsC...\n",
       "    Southernmost_Northing:      -90.0\n",
       "    standard_name_vocabulary:   CF Standard Name Table v55\n",
       "    summary:                    Global monthly derived winds can be obtained ...\n",
       "    time_coverage_end:          2019-08-01T00:00:00Z\n",
       "    time_coverage_start:        1997-01-01T00:00:00Z\n",
       "    title:                      FNMOC 10m Surface Winds, 360x181, Monthly\n",
       "    Westernmost_Easting:        0.0"
      ]
     },
     "execution_count": 50,
     "metadata": {},
     "output_type": "execute_result"
    }
   ],
   "source": []
  },
  {
   "cell_type": "code",
   "execution_count": null,
   "metadata": {},
   "outputs": [],
   "source": [
    "aggr_url = 'https://coastwatch.pfeg.noaa.gov/erddap/griddap/jplOscar_LonPM180'\n",
    "ds = xr.open_dataset(aggr_url)\n",
    "cur_climatology = ds.groupby('time.month').mean('time')\n",
    "cur_anomalies = sst_climatology.groupby('time.month') - climatology"
   ]
  },
  {
   "cell_type": "code",
   "execution_count": null,
   "metadata": {},
   "outputs": [],
   "source": []
  },
  {
   "cell_type": "code",
   "execution_count": null,
   "metadata": {},
   "outputs": [],
   "source": [
    "dir_data_oscar = 'F:/data/sat_data/oscar/L4/oscar_third_deg/'\n",
    "dir_data_sss='F:/data/model_data/CMEM/global-reanalysis-phy-001-030-monthly/'\n",
    "dir_data_sst = 'F:/data/sst/cmc/CMC0.2deg/v2/monthly/' \n",
    "dir_data_ccmp='F:/data/sat_data/ccmp/v02.0/'\n",
    "dir_data_mld='F:/data/model_data/godas/'\n",
    "dir_figs = 'F:/data/NASA_biophysical/pices/figures/'\n",
    "dir_timeseries = 'F:/data/NASA_biophysical/timeseries_data/'\n",
    "dir_shp = 'F:/data/NASA_biophysical/pices/shapefiles/'\n",
    "#oscar - reran all monthly fies & climatology, updated through 2018, 2/1/2019\n",
    "#ccmp - added RVort, from 6-hourly creating new monthly and climatology 4/2/2019 \n",
    "#sst - updated all files, reprocessed monthly, climatology 2/1/2019\n",
    "#sss - rerunning 2018, cal climatology 2/2/2019\n",
    "#ssh - re running 2018 , cal climatology 2/2/2019\n",
    "#mld - reran climatology, downloaded final 2018 file 2/1/2019\n",
    "\n",
    "\n",
    "\n",
    "def get_climatology_filename(data_type):\n",
    "    if data_type=='oscar':\n",
    "        filename = dir_data_oscar + 'climatology_2000_2018_monthly_data_oscar.nc'        \n",
    "    if data_type=='sss' or data_type=='ssh':\n",
    "        filename = dir_data_sss + 'clim/climatology_1993_2017_mercatorglorys12v1_gl12_mean.nc'\n",
    "    if data_type=='sst':\n",
    "        filename = dir_data_sst + 'monthly_climatology_1992_2017_120000-CMC-L4_GHRSST-SSTfnd-CMC0.2deg-GLOB-v02.0-fv02.0.nc'\n",
    "    if data_type == 'ccmp':\n",
    "        filename = dir_data_ccmp + 'monthly/climatology_1988_2018_CCMP_Wind_Analysis_L3.0.nc'\n",
    "    if data_type == 'mld':\n",
    "        filename = dir_data_mld + 'monthly_climatology_dbss_obml_1992_2018.nc'\n",
    "    return filename\n",
    "\n",
    "def get_data_filename(data_type,lyr):\n",
    "    if data_type == 'oscar':\n",
    "        filename = dir_data_oscar + str(lyr) + 'monthly_data_oscar.nc'\n",
    "    if data_type=='sss' or data_type=='ssh':\n",
    "        filename = dir_data_sss + str(lyr) + '/'+ 'year_subset_mercatorglorys12v1_gl12_mean_' + str(lyr) + '.nc'\n",
    "        if lyr==2018:\n",
    "            filename = 'F:/data/model_data/CMEM/global-analysis-forecast-phys_001_015/monthly/year_subset_metoffice_coupled_orca025_GL4_SAL_b2018_dm20180208.nc'\n",
    "    if data_type=='sst':\n",
    "        filename = dir_data_sst + str(lyr) + 'monthly_average_' + '120000-CMC-L4_GHRSST-SSTfnd-CMC0.2deg-GLOB-v02.0-fv02.0.nc'\n",
    "    if data_type == 'ccmp':\n",
    "        filename = dir_data_ccmp + 'monthly/CCMP_Wind_Analysis_' + str(lyr) + '_V02.0_L3.0_RSS.nc'\n",
    "    if data_type == 'mld':\n",
    "        filename = dir_data_mld + 'dbss_obml.' + str(lyr) + '.nc'\n",
    "    return filename\n",
    "\n",
    "def get_monthly_oscar(lyr,iclim):\n",
    "    if iclim==0:\n",
    "        filename = get_data_filename('oscar',lyr)\n",
    "    else:\n",
    "        filename = get_climatology_filename('oscar')\n",
    "    print(filename)\n",
    "    ds=xr.open_dataset(filename)\n",
    "    ds = ds.sel(lon=slice(20.0,379.9))\n",
    "    ds = ds.assign_coords(lon=(((ds.lon + 180) % 360) - 180)).sortby('lon').sortby('lat')\n",
    "#    ds = ds.rename({'spd': 'data'})\n",
    "#    ds = ds.mean('depth')  #get rid of depth in index\n",
    "    ds['spd']=(ds.u**2+ds.v**2)**.5\n",
    "    ds['dir']=np.arctan2(ds.v,ds.u)* 180./pi\n",
    "  #  ds=ds.drop('year')\n",
    "    ds.close()\n",
    "    return ds\n",
    "\n",
    "def get_monthly_mld(lyr,iclim):\n",
    "    if iclim==0:\n",
    "        filename = get_data_filename('mld',lyr)\n",
    "    else:\n",
    "        filename = get_climatology_filename('mld')\n",
    "    print(filename)\n",
    "    ds=xr.open_dataset(filename)\n",
    "    ds = ds.assign_coords(lon=(((ds.lon + 180) % 360) - 180)).sortby('lon').sortby('lat')\n",
    " #   ds = ds.rename({'dbss_obml': 'data'})\n",
    "    ds.close()\n",
    "    return ds\n",
    "\n",
    "def get_monthly_ccmp(lyr,iclim):\n",
    "    if iclim==0:\n",
    "        filename = get_data_filename('ccmp',lyr)\n",
    "    else:\n",
    "        filename = get_climatology_filename('ccmp')\n",
    "    print(filename)\n",
    "    ds=xr.open_dataset(filename)\n",
    "    ds = ds.assign_coords(lon=(((ds.lon + 180) % 360) - 180)).sortby('lon').sortby('lat')\n",
    "    ds['spd']=(ds.uwnd**2+ds.vwnd**2)**.5\n",
    "    ds['dir']=np.arctan2(ds.vwnd,ds.uwnd)* 180./pi    \n",
    "#    ds = ds.rename({'spd': 'data'})\n",
    "    ds.close()\n",
    "    return ds\n",
    "\n",
    "def get_monthly_sst(lyr,iclim):\n",
    "    if iclim==0:\n",
    "        filename = get_data_filename('sst',lyr)\n",
    "    else:\n",
    "        filename = get_climatology_filename('sst')\n",
    "    print(filename)\n",
    "    ds=xr.open_dataset(filename)\n",
    " #   ds = ds.rename({'analysed_sst': 'data'})\n",
    "    ds.close()\n",
    "    return ds\n",
    "\n",
    "def get_monthly_sss(lyr,iclim):\n",
    "    if iclim==0:\n",
    "        filename = get_data_filename('sss',lyr)\n",
    "    else:\n",
    "        filename = get_climatology_filename('sss')\n",
    "    if lyr<2018:\n",
    "        ds=xr.open_dataset(filename,drop_variables=['mlotst','bottomT','sithick','siconc','usi','vsi','thetao','uo','vo','zos'])\n",
    "    else:\n",
    "        ds=xr.open_dataset(filename,drop_variables=['zos'])\n",
    "    print(filename)\n",
    "#    ds = ds.rename({'so': 'data'})\n",
    "    ds.close()\n",
    "    return ds\n",
    "\n",
    "def get_monthly_ssh(lyr,iclim):\n",
    "    if iclim==0:\n",
    "        filename = get_data_filename('sss',lyr)  #same file as sss\n",
    "    else:\n",
    "        filename = get_climatology_filename('sss') #same file as sss\n",
    "    print(filename)\n",
    "    if lyr<2018:\n",
    "        ds=xr.open_dataset(filename,drop_variables=['mlotst','bottomT','sithick','siconc','usi','vsi','thetao','uo','vo','so'])\n",
    "    else:\n",
    "        ds=xr.open_dataset(filename,drop_variables=['so'])\n",
    "   # ds = ds.rename({'zos': 'data'})\n",
    "    ds.close()\n",
    "    return ds\n",
    "\n"
   ]
  },
  {
   "cell_type": "code",
   "execution_count": null,
   "metadata": {},
   "outputs": [],
   "source": [
    "darray = ['oscar','mld','ccmp','sst','sss','ssh']\n",
    "dir_shp = './data/'\n",
    "data_dir = './data/'\n",
    "data_fig = './figures/'\n",
    "\n",
    "#read in mask file\n",
    "filename = './data/PICES_all_mask.nc'\n",
    "ds_pices = xr.open_dataset(filename)\n",
    "ds_pices.close()\n",
    "\n",
    "#region = np.arange(0,21)\n",
    "for itype in range(0,6):\n",
    "    init_data = 0\n",
    "    dtype = darray[itype]\n",
    "    for lyr in range(1993,2019):\n",
    "        iclim = 0\n",
    "        if itype == 0:\n",
    "            ds = get_monthly_oscar(lyr,0)\n",
    "            ds = ds.drop({'spd','dir'})\n",
    "            ds2 = get_monthly_oscar(lyr,1)\n",
    "            ds2=xr.Dataset(data_vars={'v': (('time','lat','lon'),ds2.v),\n",
    "                                      'u': (('time','lat','lon'),ds2.u)},\n",
    "                            coords={'lat':ds2.lat,'lon':ds2.lon,'time':ds.time})\n",
    "            data_in = ds.u#[0,:,:]\n",
    "            data_in2 = ds2.u#[0,:,:]\n",
    "        if itype == 1:\n",
    "            ds = get_monthly_mld(lyr,0)\n",
    "            ds2 = get_monthly_mld(lyr,1)\n",
    "            ds2=xr.Dataset(data_vars={'dbss_obml': (('time','lat','lon'),ds2.dbss_obml),},\n",
    "                            coords={'lat':ds2.lat,'lon':ds2.lon,'time':ds.time})\n",
    "            data_in = ds.dbss_obml#[0,:,:]\n",
    "            data_in2 = ds2.dbss_obml#[0,:,:]\n",
    "        if itype == 2:\n",
    "            ds = get_monthly_ccmp(lyr,0)\n",
    "            ds = ds.drop({'spd','dir'})\n",
    "            ds2 = get_monthly_ccmp(lyr,1)\n",
    "            ds2=xr.Dataset(data_vars={'vwnd': (('time','lat','lon'),ds2.vwnd),\n",
    "                                      'uwnd': (('time','lat','lon'),ds2.uwnd),\n",
    "                                      'rel_vorticity': (('time','lat','lon'),ds2.rel_vorticity)},\n",
    "                            coords={'lat':ds2.lat,'lon':ds2.lon,'time':ds.time})\n",
    "            data_in = ds.uwnd#[0,:,:]\n",
    "            data_in2 = ds2.uwnd#[0,:,:]\n",
    "        if itype == 3:\n",
    "            ds = get_monthly_sst(lyr,0)\n",
    "            ds2 = get_monthly_sst(lyr,1)\n",
    "            ds2=xr.Dataset(data_vars={'analysed_sst': (('time','lat','lon'),ds2.analysed_sst),},\n",
    "                            coords={'lat':ds2.lat,'lon':ds2.lon,'time':ds.time})\n",
    "            data_in = ds.analysed_sst#[0,:,:]\n",
    "            data_in2 = ds2.analysed_sst#[0,:,:]\n",
    "        if itype == 4:\n",
    "            ds = get_monthly_sss(lyr,0)\n",
    "            ds2 = get_monthly_sss(lyr,1)\n",
    "            ds2=ds2.drop('depth') #0.49m\n",
    "            ds2=xr.Dataset(data_vars={'so': (('time','lat','lon'),ds2.so),},\n",
    "                            coords={'lat':ds2.lat,'lon':ds2.lon,'time':ds.time})\n",
    "            data_in = ds.so#[0,:,:]\n",
    "            data_in2 = ds2.so#[0,:,:]\n",
    "        if itype == 5:\n",
    "            ds = get_monthly_ssh(lyr,0)\n",
    "            ds2 = get_monthly_ssh(lyr,1)\n",
    "            ds2=ds2.drop('depth') #0.49m\n",
    "            ds2=xr.Dataset(data_vars={'zos': (('time','lat','lon'),ds2.zos),},\n",
    "                            coords={'lat':ds2.lat,'lon':ds2.lon,'time':ds.time})\n",
    "            data_in = ds.zos#[0,:,:]\n",
    "            data_in2 = ds2.zos#[0,:,:]\n",
    "#now iterate over regions\n",
    "        init_data2 = 0\n",
    "        coord_region=[]\n",
    "        for iregion in range(11,25):\n",
    "            mask_interp = ds_pices.interp_like(ds,method='nearest')\n",
    "            cond = (mask_interp.region_mask==iregion)\n",
    "            ds_mean = weighted_mean_of_subset(ds,data_in,data_in2,cond)\n",
    "            ds_mean_clim = weighted_mean_of_subset(ds2,data_in,data_in2,cond)\n",
    "            ds_anom = ds_mean - ds_mean_clim\n",
    "            if itype == 0:  #if currents or winds need to recal spd dir from means of u and v\n",
    "                ds_mean['spd']=(ds_mean.u**2+ds_mean.v**2)**.5\n",
    "                ds_mean['dir']=np.arctan2(ds_mean.v,ds_mean.u)* 180./pi                \n",
    "                ds_anom['spd']=(ds_anom.u**2+ds_anom.v**2)**.5\n",
    "                ds_anom['dir']=np.arctan2(ds_anom.v,ds_anom.u)* 180./pi                \n",
    "                ds_mean_clim['spd']=(ds_mean_clim.u**2+ds_mean_clim.v**2)**.5\n",
    "                ds_mean_clim['dir']=np.arctan2(ds_mean_clim.v,ds_mean_clim.u)* 180./pi                \n",
    "            if itype==2:  #if currents or winds need to recal spd dir from means of u and v\n",
    "                ds_mean['spd']=(ds_mean.uwnd**2+ds_mean.vwnd**2)**.5\n",
    "                ds_mean['dir']=np.arctan2(ds_mean.vwnd,ds_mean.uwnd)* 180./pi                \n",
    "                ds_anom['spd']=(ds_anom.uwnd**2+ds_anom.vwnd**2)**.5\n",
    "                ds_anom['dir']=np.arctan2(ds_anom.vwnd,ds_anom.uwnd)* 180./pi                \n",
    "                ds_mean_clim['spd']=(ds_mean_clim.uwnd**2+ds_mean_clim.vwnd**2)**.5\n",
    "                ds_mean_clim['dir']=np.arctan2(ds_mean_clim.vwnd,ds_mean_clim.uwnd)* 180./pi                \n",
    "            if init_data2==0:\n",
    "                ds_box = ds_mean\n",
    "                ds_box_clim = ds_mean_clim\n",
    "                ds_box_anom = ds_anom\n",
    "                coord_region.append(iregion)\n",
    "                init_data2=1\n",
    "            else:\n",
    "                ds_box = xr.concat([ds_box,ds_mean],dim='region')\n",
    "                ds_box_clim = xr.concat([ds_box_clim,ds_mean_clim],dim='region')\n",
    "                ds_box_anom = xr.concat([ds_box_anom,ds_anom],dim='region')\n",
    "                coord_region.append(iregion)\n",
    "        if init_data==0:\n",
    "            ds_newbox = ds_box\n",
    "            ds_newbox_clim = ds_box_clim\n",
    "            ds_newbox_anom = ds_box_anom\n",
    "            init_data=1\n",
    "        else:\n",
    "            ds_newbox = xr.concat([ds_newbox,ds_box],dim='time')\n",
    "            ds_newbox_clim = xr.concat([ds_newbox_clim,ds_box_clim],dim='time')\n",
    "            ds_newbox_anom = xr.concat([ds_newbox_anom,ds_box_anom],dim='time')\n",
    "        #print(ds_newbox.box)\n",
    "    ds_newbox.coords['region']=coord_region\n",
    "    ds_newbox_clim.coords['region']=coord_region\n",
    "    ds_newbox_anom.coords['region']=coord_region\n",
    "    print(ds_newbox)\n",
    "    \n",
    "    filename_out = dir_timeseries + dtype + '_pices_data_v2.nc'\n",
    "    ds_newbox.to_netcdf(filename_out)\n",
    "      filename_out_clim = dir_timeseries + dtype + '_pices_data_minus_clim_v2.nc'\n",
    "    ds_newbox_anom.to_netcdf(filename_out_clim)\n",
    "    df = ds_newbox_anom.to_dataframe()\n",
    "    filename_out = dir_timeseries + dtype + '_pices_data_minus_clim_v2.csv'\n",
    "    df.to_csv(filename_out)\n",
    "    filename_out_clim = dir_timeseries + dtype + '_pices_data_clim_v2.nc'\n",
    "    ds_newbox_clim.to_netcdf(filename_out_clim)\n",
    "    df = ds_newbox_clim.to_dataframe()\n",
    "    filename_out = dir_timeseries + dtype + '_pices_data_clim_v2.csv'\n",
    "    df.to_csv(filename_out)\n",
    "        \n",
    "    print('out!')\n"
   ]
  },
  {
   "cell_type": "code",
   "execution_count": null,
   "metadata": {},
   "outputs": [],
   "source": [
    "import numpy as np\n",
    "from netCDF4 import Dataset  # http://code.google.com/p/netcdf4-python/\n",
    "nc_f = 'https://thredds.jpl.nasa.gov/thredds/dodsC/OceanTemperature/MUR-JPL-L4-GLOB-v4.1.nc'\n",
    "nc_fid = Dataset(nc_f, 'r')  # Dataset is the class behavior to open the file\n",
    "                             # and create an instance of the ncCDF4 class\n",
    "\n",
    "# Extract data from NetCDF file\n",
    "lats = nc_fid.variables['lat'][:]  # extract/copy the data\n",
    "lons = nc_fid.variables['lon'][:]\n",
    "# Close original NetCDF file.\n",
    "nc_fid.close()\n",
    "nc_fid"
   ]
  },
  {
   "cell_type": "markdown",
   "metadata": {},
   "source": [
    "# old testing code\n",
    "this was used to fine tune the masking using in the weighted mean calculation"
   ]
  },
  {
   "cell_type": "code",
   "execution_count": null,
   "metadata": {},
   "outputs": [],
   "source": [
    "lyr=2005\n",
    "ds = get_monthly_sst(lyr,0)\n",
    "ds2 = get_monthly_sst(lyr,1)\n",
    "ds2=xr.Dataset(data_vars={'analysed_sst': (('time','lat','lon'),ds2.analysed_sst),},\n",
    "                coords={'lat':ds2.lat,'lon':ds2.lon,'time':ds.time})\n",
    "data_in = ds.analysed_sst#[0,:,:]\n",
    "data_in2 = ds2.analysed_sst#[0,:,:]\n",
    "mask_interp = ds_pices.interp_like(ds,method='nearest')\n",
    "iregion = 14\n",
    "cond = (mask_interp.region_mask==iregion)\n",
    "ds_mean = weighted_mean_of_subset(ds,data_in,data_in2,cond)\n",
    "ds_mean_clim = weighted_mean_of_subset(ds2,data_in,data_in2,cond)\n",
    "print(ds_mean.analysed_sst.data-273.15)\n",
    "print(ds_mean_clim.analysed_sst.data-273.15)\n",
    "\n",
    "\n",
    "R = 6.37e6 #radius of earth in m\n",
    "# we know already that the spacing of the points is 1/4 degree latitude\n",
    "grid_dy,grid_dx = (ds.lat[0]-ds.lat[1]).data,(ds.lon[0]-ds.lon[1]).data\n",
    "dϕ = np.deg2rad(grid_dy)\n",
    "dλ = np.deg2rad(grid_dx)\n",
    "dA = R**2 * dϕ * dλ * np.cos(np.deg2rad(ds.lat)) #dA.plot()\n",
    "pixel_area = dA.where(cond)/1000000  #pixel_area.plot()  PUT into km2\n",
    "pixel_area = pixel_area.where(np.isfinite(data_in) & np.isfinite(data_in2))\n",
    "total_ocean_area = pixel_area.sum(dim=('lon', 'lat'))\n",
    "data_weighted_mean = (ds2 * pixel_area).sum(dim=('lon', 'lat')) / total_ocean_area\n",
    "print(data_weighted_mean.analysed_sst.data-273.15)\n",
    "\n"
   ]
  }
 ],
 "metadata": {
  "kernelspec": {
   "display_name": "Python 3",
   "language": "python",
   "name": "python3"
  },
  "language_info": {
   "codemirror_mode": {
    "name": "ipython",
    "version": 3
   },
   "file_extension": ".py",
   "mimetype": "text/x-python",
   "name": "python",
   "nbconvert_exporter": "python",
   "pygments_lexer": "ipython3",
   "version": "3.7.1"
  }
 },
 "nbformat": 4,
 "nbformat_minor": 2
}
