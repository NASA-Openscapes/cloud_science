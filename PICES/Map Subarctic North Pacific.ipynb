{
 "cells": [
  {
   "cell_type": "code",
   "execution_count": null,
   "metadata": {},
   "outputs": [],
   "source": [
    "import xarray as xr\n",
    "import numpy as np\n",
    "import matplotlib.pyplot as plt\n",
    "import cartopy.crs as ccrs\n",
    "import sys\n",
    "import pandas as pd\n",
    "\n",
    "sys.path.append('./subroutines/')\n",
    "import pices\n",
    "\n",
    "adir_data = './data/'"
   ]
  },
  {
   "cell_type": "code",
   "execution_count": null,
   "metadata": {},
   "outputs": [],
   "source": [
    "\n",
    "file = 'F:/data/sst/jpl_mur/v4.1/2017/030/20170130090000-JPL-L4_GHRSST-SSTfnd-MUR-GLOB-v02.0-fv04.1.nc'\n",
    "ds = xr.open_dataset(file)\n",
    "ds2=ds.sel(lat=slice(40,62),lon=slice(-160,-120)).isel(time=0)\n",
    "(ds2.analysed_sst-273.15).plot(vmin=2,vmax=11,cmap='gist_rainbow')\n"
   ]
  },
  {
   "cell_type": "code",
   "execution_count": null,
   "metadata": {},
   "outputs": [],
   "source": [
    "file = 'F:/data/sst/jpl_mur/v4.1/2017/050/20170219090000-JPL-L4_GHRSST-SSTfnd-MUR-GLOB-v02.0-fv04.1.nc'\n",
    "ds = xr.open_dataset(file)\n",
    "ds2=ds.sel(lat=slice(40,62),lon=slice(-160,-120)).isel(time=0)\n",
    "(ds2.analysed_sst-273.15).plot(vmin=2,vmax=11,cmap='gist_rainbow')\n"
   ]
  },
  {
   "cell_type": "code",
   "execution_count": null,
   "metadata": {},
   "outputs": [],
   "source": [
    "file = 'F:/data/sst/jpl_mur/v4.1/2018/100/20180410090000-JPL-L4_GHRSST-SSTfnd-MUR-GLOB-v02.0-fv04.1.nc'\n",
    "ds = xr.open_dataset(file)\n",
    "ds2=ds.sel(lat=slice(40,62),lon=slice(-160,-120)).isel(time=0)\n",
    "(ds2.analysed_sst-273.15).plot(vmin=2,vmax=11,cmap='gist_rainbow')\n"
   ]
  },
  {
   "cell_type": "code",
   "execution_count": null,
   "metadata": {},
   "outputs": [],
   "source": [
    "file = 'F:/data/sst/jpl_mur/v4.1/2018/163/20180612090000-JPL-L4_GHRSST-SSTfnd-MUR-GLOB-v02.0-fv04.1.nc'\n",
    "ds = xr.open_dataset(file)\n",
    "ds2=ds.sel(lat=slice(40,62),lon=slice(-160,-120)).isel(time=0)\n",
    "(ds2.analysed_sst-273.15).plot(vmin=5,vmax=16,cmap='gist_rainbow')\n"
   ]
  },
  {
   "cell_type": "code",
   "execution_count": null,
   "metadata": {},
   "outputs": [],
   "source": [
    "ds"
   ]
  },
  {
   "cell_type": "code",
   "execution_count": null,
   "metadata": {},
   "outputs": [],
   "source": []
  }
 ],
 "metadata": {
  "kernelspec": {
   "display_name": "Python 3",
   "language": "python",
   "name": "python3"
  },
  "language_info": {
   "codemirror_mode": {
    "name": "ipython",
    "version": 3
   },
   "file_extension": ".py",
   "mimetype": "text/x-python",
   "name": "python",
   "nbconvert_exporter": "python",
   "pygments_lexer": "ipython3",
   "version": "3.7.1"
  }
 },
 "nbformat": 4,
 "nbformat_minor": 2
}
