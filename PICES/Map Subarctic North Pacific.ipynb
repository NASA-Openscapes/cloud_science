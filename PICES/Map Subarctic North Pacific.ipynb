{
 "cells": [
  {
   "cell_type": "code",
   "execution_count": null,
   "metadata": {},
   "outputs": [],
   "source": [
    "import xarray as xr\n",
    "import numpy as np\n",
    "import matplotlib.pyplot as plt\n",
    "import cartopy.crs as ccrs\n",
    "import sys\n",
    "import pandas as pd\n",
    "\n",
    "sys.path.append('./subroutines/')\n",
    "import pices\n",
    "\n",
    "adir_data = './data/'"
   ]
  },
  {
   "cell_type": "code",
   "execution_count": null,
   "metadata": {},
   "outputs": [],
   "source": [
    "#result = p.granule_search(dataset_id='PODAAC-GHV20-2PO61', bbox='-160,40,-120,62',start_time='2019-03-01T01:30:00Z',end_time='2019-03-05T00:00:00Z',start_index='1')\n",
    "#bbox west, south, east, north"
   ]
  },
  {
   "cell_type": "code",
   "execution_count": null,
   "metadata": {},
   "outputs": [],
   "source": [
    "ds=xr.open_dataset('.\\data\\cur.mnmean.nc')\n",
    "ds['spd']=np.sqrt(ds.u**2+ds.v**2)"
   ]
  },
  {
   "cell_type": "code",
   "execution_count": null,
   "metadata": {},
   "outputs": [],
   "source": [
    "ds2=ds.sel(lat=slice(40,62),lon=slice(200,260)).isel(time=0)\n",
    "#ds2.spd.plot()\n",
    "#plt.grid()\n",
    "ds.spd.sel(lat=56,lon=221,method='nearest').sel(time=slice('2016-01-01','2019-12-31')).plot()\n",
    "plt.grid()"
   ]
  },
  {
   "cell_type": "code",
   "execution_count": null,
   "metadata": {},
   "outputs": [],
   "source": [
    "dataset_id =   #VIIRS orbital SST\n",
    "gresult = p.granule_search(dataset_id=dataset_id,\n",
    "                           start_time=start_time,\n",
    "                           end_time=end_time,\n",
    "                           items_per_page='100')\n",
    "urls = putil.PodaacUtils.mine_opendap_urls_from_granule_search(gresult)\n",
    "urls_sst = [w[:-5] for w in urls]  #remove html from urlsurls_sst = [w.replace('-tools.jpl.nasa.gov/drive/files/', '-opendap.jpl.nasa.gov/opendap/') for w in urls_sst]\n",
    "print('num files:',len(urls_sst))\n"
   ]
  },
  {
   "cell_type": "code",
   "execution_count": null,
   "metadata": {},
   "outputs": [],
   "source": [
    "file='https://podaac-opendap.jpl.nasa.gov/opendap/allData/ghrsst/data/GDS2/L4/GLOB/JPL/MUR/v4.1/2019/030/20190130090000-JPL-L4_GHRSST-SSTfnd-MUR-GLOB-v02.0-fv04.1.nc'\n",
    "ds = xr.open_dataset(file)\n",
    "ds = ds.sel(lat=slice(50,62),lon=slice(-160,-120)).isel(time=0)\n",
    "ds2 = ds.assign_coords(lon=np.mod(ds['lon'], 360)).sortby('lon')\n",
    "plt.figure(figsize=(13,6.2))\n",
    "ax = plt.subplot(111, projection=ccrs.PlateCarree(central_longitude=180))#, \n",
    "#                                               min_latitude=-80, max_latitude=80))\n",
    "ax.background_img(name='ne_shaded', resolution='low')\n",
    "ax.set_extent([1,-1,-80,80])\n",
    "mm = ax.pcolormesh(ds2.lon,\\\n",
    "                   ds2.lat,\\\n",
    "                   ds2.analysed_sst-273.15,vmin=4, vmax=9, transform=ccrs.PlateCarree(),cmap='gist_rainbow' )\n",
    "ax.coastlines(resolution='10m');\n",
    "ax.set_extent([-160,-120,50,62])\n",
    "#plt.title('LME regions')\n",
    "#plt.colorbar(mm,ax=ax,shrink=.7,pad=.01,label='LME region number')\n",
    "#plt.savefig(dir_figs+'/LME_all_regions_mask_be.png', dpi=100)\n"
   ]
  },
  {
   "cell_type": "code",
   "execution_count": null,
   "metadata": {},
   "outputs": [],
   "source": [
    "ds=ds.drop({'analysis_error','mask','sea_ice_fraction','dt_1km_data'})\n",
    "ds"
   ]
  },
  {
   "cell_type": "code",
   "execution_count": null,
   "metadata": {},
   "outputs": [],
   "source": [
    "file='F:/data/sat_data/oscar/L4/oscar_third_deg/oscar_vel2019.nc'\n",
    "ds = xr.open_dataset(file).isel(depth=0).rename({'latitude':'lat','longitude':'lon'}).drop({'um','vm'})\n",
    "ds=ds.sel(lon=slice(20.0,379.9))#.drop({'date'}).load()\n",
    "ds = ds.assign_coords(lon=(ds.coords['lon'] + 180) % 360 - 180).sortby('lon').sortby('lat',ascending=True)\n",
    "#ds = ds.coords['lon'] = (ds.coords['lon'] + 180) % 360 - 180\n",
    "#ds = ds.sortby('lon')\n",
    "ds = ds.sel(lat=slice(50,62),lon=slice(-160,-120),time='2019-01-31')\n",
    "ds['spd']=np.sqrt(ds.u**2+ds.v**2)\n",
    "ds2 = ds.assign_coords(lon=np.mod(ds['lon'], 360)).sortby('lon')\n",
    "plt.figure(figsize=(13,6.2))\n",
    "ax = plt.subplot(111, projection=ccrs.PlateCarree(central_longitude=180))#, \n",
    "#                                               min_latitude=-80, max_latitude=80))\n",
    "ax.background_img(name='ne_shaded', resolution='low')\n",
    "ax.set_extent([1,-1,-80,80])\n",
    "mm = ax.pcolormesh(ds2.lon,\\\n",
    "                   ds2.lat,\\\n",
    "                   ds2.spd,vmin=0, vmax=1, transform=ccrs.PlateCarree(),cmap='gist_rainbow' )\n",
    "ax.coastlines(resolution='10m');\n",
    "ax.set_extent([-160,-120,50,62])\n"
   ]
  },
  {
   "cell_type": "code",
   "execution_count": null,
   "metadata": {},
   "outputs": [],
   "source": [
    "\n",
    "file='F:/data/sat_data/oscar/L4/oscar_third_deg/oscar_vel2019.nc'\n",
    "ds = xr.open_dataset(file).isel(depth=0).rename({'latitude':'lat','longitude':'lon'}).drop({'um','vm'})\n",
    "ds=ds.sel(lon=slice(20.0,379.9))#.drop({'date'}).load()\n",
    "ds = ds.assign_coords(lon=(ds.coords['lon'] + 180) % 360 - 180).sortby('lon').sortby('lat',ascending=True)\n",
    "#ds = ds.coords['lon'] = (ds.coords['lon'] + 180) % 360 - 180\n",
    "#ds = ds.sortby('lon')\n",
    "ds = ds.sel(lat=slice(30,62),lon=slice(-180,-120),time='2019-01-31')\n",
    "ds['spd']=np.sqrt(ds.u**2+ds.v**2)\n",
    "ds2 = ds.assign_coords(lon=np.mod(ds['lon'], 360)).sortby('lon')\n",
    "plt.figure(figsize=(13,6.2))\n",
    "ax = plt.subplot(111, projection=ccrs.PlateCarree(central_longitude=180))#, \n",
    "#                                               min_latitude=-80, max_latitude=80))\n",
    "ax.background_img(name='ne_shaded', resolution='low')\n",
    "#ax.set_extent([1,-1,-80,80])\n",
    "mm = ax.pcolormesh(ds2.lon,\\\n",
    "                   ds2.lat,\\\n",
    "                   ds2.spd,vmin=0, vmax=.35, transform=ccrs.PlateCarree(),cmap='jet' )\n",
    "X,Y = np.meshgrid(ds2.lon.data,ds2.lat.data)\n",
    "U,V = ds2.u.data,ds2.v.data\n",
    "ax.streamplot(X, Y, U, V, density=[1,1],color=ds2.spd.data,transform=ccrs.PlateCarree())\n",
    "ax.coastlines();\n",
    "#ax.coastlines(resolution='10m');\n",
    "ax.set_extent([-180,-120,30,59])"
   ]
  },
  {
   "cell_type": "code",
   "execution_count": null,
   "metadata": {},
   "outputs": [],
   "source": [
    "from __future__ import print_function\n",
    "\n",
    "import os\n",
    "#import subprocess\n",
    "import matplotlib.pyplot as plt\n",
    "import numpy as np\n",
    "# Fixing random state for reproducibility\n",
    "np.random.seed(19680801)\n",
    "\n",
    "\n",
    "icnt=0\n",
    "plt.figure(figsize=(13,6.2))\n",
    "\n",
    "for lyr in range(2015,2020):\n",
    "    file='F:/data/sat_data/oscar/L4/oscar_third_deg/oscar_vel'+str(lyr)+'.nc'\n",
    "    ds = xr.open_dataset(file).isel(depth=0).rename({'latitude':'lat','longitude':'lon'}).drop({'um','vm'})\n",
    "    ds=ds.sel(lon=slice(20.0,379.9))#.drop({'date'}).load()\n",
    "    ds = ds.assign_coords(lon=(ds.coords['lon'] + 180) % 360 - 180).sortby('lon').sortby('lat',ascending=True)\n",
    "    ds = ds.sel(lat=slice(30,62),lon=slice(-180,-120)) #,time='2019-01-31')\n",
    "    ds['spd']=np.sqrt(ds.u**2+ds.v**2)\n",
    "    ds2 = ds.assign_coords(lon=np.mod(ds['lon'], 360)).sortby('lon')\n",
    "\n",
    "    files = []\n",
    "    for i in range(ds.time.size):  # 50 frames\n",
    "        icnt+=1\n",
    "        plt.cla()\n",
    "        ax = plt.subplot(111, projection=ccrs.PlateCarree(central_longitude=180))#, \n",
    "        ax.background_img(name='ne_shaded', resolution='low')\n",
    "        mm = ax.pcolormesh(ds2.lon,\\\n",
    "                           ds2.lat,\\\n",
    "                           ds2.spd[i,:,:],vmin=0, vmax=.35, transform=ccrs.PlateCarree(),cmap='jet' )\n",
    "        ax.coastlines();\n",
    "        ax.set_extent([-180,-120,30,59])\n",
    "        dstr=str(ds2.time[i].dt.year.data)+'-'+str(ds2.time[i].dt.month.data)+'-'+str(ds2.time[i].dt.day.data)\n",
    "        ax.text(-138,60,'Date:'+ dstr, transform=ccrs.PlateCarree(), fontweight='bold',fontsize=18)\n",
    "\n",
    "        ax.set_xticks([-180,-170,-160,-150,-140,-130,-120], crs=ccrs.PlateCarree())\n",
    "        ax.set_yticks([30,35,40,45,50,55], crs=ccrs.PlateCarree())\n",
    "        lon_formatter = LongitudeFormatter(zero_direction_label=True)\n",
    "        lat_formatter = LatitudeFormatter()\n",
    "        ax.xaxis.set_major_formatter(lon_formatter)\n",
    "        ax.yaxis.set_major_formatter(lat_formatter)\n",
    "\n",
    "        \n",
    "        fname = 'f:/data/tem/_tmp%03d.png' % icnt\n",
    "        print('Saving frame', fname)\n",
    "        plt.savefig(fname)\n",
    "\n",
    "\n",
    "#print('Making movie animation.mpg - this may take a while')\n",
    "#subprocess.call(\"mencoder 'mf://_tmp*.png' -mf type=png:fps=10 -ovc lavc \"\n",
    "#                \"-lavcopts vcodec=wmv2 -oac copy -o animation.mpg\", shell=True)\n",
    "\n",
    "# cleanup\n",
    "#for fname in files:\n",
    "#    os.remove(fname)\n"
   ]
  },
  {
   "cell_type": "code",
   "execution_count": null,
   "metadata": {},
   "outputs": [],
   "source": [
    "file='F:/data/sat_data/oscar/L4/oscar_third_deg/oscar_vel2018.nc'\n",
    "ds = xr.open_dataset(file).isel(depth=0).rename({'latitude':'lat','longitude':'lon'}).drop({'um','vm'})\n",
    "ds.time.size"
   ]
  },
  {
   "cell_type": "code",
   "execution_count": null,
   "metadata": {},
   "outputs": [],
   "source": [
    "date1=pd.date_range('2018-01-01','2019-10-01')\n",
    "for d in date1:\n",
    "    d.year"
   ]
  },
  {
   "cell_type": "code",
   "execution_count": null,
   "metadata": {},
   "outputs": [],
   "source": [
    "from __future__ import print_function\n",
    "\n",
    "import os\n",
    "#import subprocess\n",
    "import matplotlib.pyplot as plt\n",
    "import numpy as np\n",
    "# Fixing random state for reproducibility\n",
    "np.random.seed(19680801)\n",
    "from cartopy.mpl.ticker import LongitudeFormatter, LatitudeFormatter\n",
    "\n",
    "\n",
    "plt.figure(figsize=(13,6.2))\n",
    "\n",
    "icnt=0\n",
    "plt.figure(figsize=(13,6.2))\n",
    "\n",
    "date1=pd.date_range('2019-01-01','2019-10-10')\n",
    "for d in date1:\n",
    "    sjdy,syr=str(d.dayofyear).zfill(3),str(d.year)\n",
    "    sdate=syr+str(d.month).zfill(2)+str(d.day).zfill(2)\n",
    "    file='https://podaac-opendap.jpl.nasa.gov/opendap/allData/ghrsst/data/GDS2/L4/GLOB/JPL/MUR/v4.1/'+syr+'/'+sjdy+'/'+sdate+'090000-JPL-L4_GHRSST-SSTfnd-MUR-GLOB-v02.0-fv04.1.nc'\n",
    "    ds = xr.open_dataset(file).drop({'analysis_error','mask','sea_ice_fraction','dt_1km_data'})\n",
    "    ds = ds.sel(lat=slice(50,62),lon=slice(-160,-120)).isel(time=0)\n",
    "    ds2 = ds.assign_coords(lon=np.mod(ds['lon'], 360)).sortby('lon')\n",
    "\n",
    "    icnt+=1\n",
    "    plt.cla()\n",
    "    ax = plt.subplot(111, projection=ccrs.PlateCarree(central_longitude=180))#, \n",
    "    ax.background_img(name='ne_shaded', resolution='low')\n",
    "    #ax.set_extent([1,-1,-80,80])\n",
    "    mm = ax.pcolormesh(ds2.lon,\\\n",
    "                       ds2.lat,\\\n",
    "                       ds2.analysed_sst-273.15,vmin=4, vmax=9, transform=ccrs.PlateCarree(),cmap='gist_rainbow' )\n",
    "    ax.coastlines(resolution='10m');\n",
    "    ax.set_extent([-160,-120,50,62])\n",
    "    dstr=sdate=syr+'-'+str(d.month).zfill(2)+'-'+str(d.day).zfill(2)\n",
    "    ax.text(-130,60,'Date:'+ dstr, transform=ccrs.PlateCarree(), fontweight='bold',fontsize=18)\n",
    "\n",
    "    ax.set_xticks([-160,-150,-140,-130,-120], crs=ccrs.PlateCarree())\n",
    "    ax.set_yticks([50,55,60], crs=ccrs.PlateCarree())\n",
    "    lon_formatter = LongitudeFormatter(zero_direction_label=True)\n",
    "    lat_formatter = LatitudeFormatter()\n",
    "    ax.xaxis.set_major_formatter(lon_formatter)\n",
    "    ax.yaxis.set_major_formatter(lat_formatter)\n",
    "\n",
    "    fname = 'f:/data/tem2/_tmp%03d.png' % icnt\n",
    "    print('Saving frame', fname)\n",
    "    plt.savefig(fname)\n",
    "        \n",
    "\n",
    "#print('Making movie animation.mpg - this may take a while')\n",
    "#subprocess.call(\"mencoder 'mf://_tmp*.png' -mf type=png:fps=10 -ovc lavc \"\n",
    "#                \"-lavcopts vcodec=wmv2 -oac copy -o animation.mpg\", shell=True)\n",
    "\n",
    "# cleanup\n",
    "#for fname in files:\n",
    "#    os.remove(fname)\n"
   ]
  },
  {
   "cell_type": "code",
   "execution_count": null,
   "metadata": {},
   "outputs": [],
   "source": [
    "str(ds.time[i].data)"
   ]
  },
  {
   "cell_type": "code",
   "execution_count": null,
   "metadata": {},
   "outputs": [],
   "source": [
    "s='Date:'+ str(ds.time[i].data)"
   ]
  },
  {
   "cell_type": "code",
   "execution_count": null,
   "metadata": {},
   "outputs": [],
   "source": [
    "s"
   ]
  },
  {
   "cell_type": "code",
   "execution_count": null,
   "metadata": {},
   "outputs": [],
   "source": [
    "str(ds2.time[i].dt.year.data)+'-'+str(ds2.time[i].dt.month.data)+'-'+str(ds2.time[i].dt.day.data)"
   ]
  },
  {
   "cell_type": "code",
   "execution_count": null,
   "metadata": {},
   "outputs": [],
   "source": []
  },
  {
   "cell_type": "code",
   "execution_count": null,
   "metadata": {},
   "outputs": [],
   "source": []
  }
 ],
 "metadata": {
  "kernelspec": {
   "display_name": "Python 3",
   "language": "python",
   "name": "python3"
  },
  "language_info": {
   "codemirror_mode": {
    "name": "ipython",
    "version": 3
   },
   "file_extension": ".py",
   "mimetype": "text/x-python",
   "name": "python",
   "nbconvert_exporter": "python",
   "pygments_lexer": "ipython3",
   "version": "3.7.1"
  }
 },
 "nbformat": 4,
 "nbformat_minor": 2
}
