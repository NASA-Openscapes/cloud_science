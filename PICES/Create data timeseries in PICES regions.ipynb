{
 "cells": [
  {
   "cell_type": "markdown",
   "metadata": {},
   "source": [
    "# Read data and create timeseries using PICES LME\n",
    "\n",
    "Look at SST, ocean currents, chl-a"
   ]
  },
  {
   "cell_type": "code",
   "execution_count": 1,
   "metadata": {},
   "outputs": [],
   "source": [
    "import xarray as xr\n",
    "import numpy as np\n",
    "import matplotlib.pyplot as plt\n",
    "import cartopy.crs as ccrs\n",
    "import sys\n",
    "import pandas as pd\n",
    "\n",
    "sys.path.append('./subroutines/')\n",
    "import pices\n",
    "\n",
    "adir_data = './data/'"
   ]
  },
  {
   "cell_type": "markdown",
   "metadata": {},
   "source": [
    "# Read in PICES mask\n",
    "\n",
    "- Each dataset finds a unique and different way to define lat / lon or order them.\n",
    "- There is a need for standardization in this area\n",
    "- The basic PICES mask is -180 to 180 lon and -90 to 90 lat\n",
    "- Below different maps are created for 0 to 360 lon\n",
    "- Then each of the two different lon maps are also copied to reverse lat, 90 to -90"
   ]
  },
  {
   "cell_type": "code",
   "execution_count": null,
   "metadata": {},
   "outputs": [],
   "source": [
    "ds_pices360 = pices.get_pices_mask()"
   ]
  },
  {
   "cell_type": "code",
   "execution_count": null,
   "metadata": {},
   "outputs": [],
   "source": [
    "ds_pices360.sel(lon=slice(115,250),lat=slice(20,70)).region_mask.plot(vmin=11,vmax=24)"
   ]
  },
  {
   "cell_type": "code",
   "execution_count": null,
   "metadata": {},
   "outputs": [],
   "source": [
    "ds_pices360.region_mask.plot.hist(bins=np.arange(10.5,27))"
   ]
  },
  {
   "cell_type": "markdown",
   "metadata": {},
   "source": [
    "## Read in SST data"
   ]
  },
  {
   "cell_type": "code",
   "execution_count": null,
   "metadata": {},
   "outputs": [],
   "source": [
    "mn,clim,anom = pices.get_pices_data('sst',13,'1992-01-01','2019-08-01')"
   ]
  },
  {
   "cell_type": "code",
   "execution_count": null,
   "metadata": {},
   "outputs": [],
   "source": [
    "anom.sst.plot()"
   ]
  },
  {
   "cell_type": "markdown",
   "metadata": {},
   "source": [
    "# stop here\n",
    "\n",
    "The code below here is slow and takes a while to run because it is accessing data online"
   ]
  },
  {
   "cell_type": "markdown",
   "metadata": {},
   "source": [
    "# Read in SST data"
   ]
  },
  {
   "cell_type": "code",
   "execution_count": null,
   "metadata": {},
   "outputs": [],
   "source": [
    "file = pices.get_filename('sst')\n",
    "\n",
    "ds = xr.open_dataset(file)\n",
    "print('lat range',ds.lat[0].data,ds.lat[-1].data)\n",
    "print('lon range',ds.lon[0].data,ds.lon[-1].data)\n",
    "\n",
    "#interpolate mask\n",
    "mask_interp = ds_pices360_revlat.interp_like(ds,method='nearest')\n",
    "\n",
    "\n",
    "#create sst mean for pices region\n",
    "for iregion in range(11,25):\n",
    "    cond = (mask_interp.region_mask==iregion)\n",
    "    tem = weighted_mean_of_data(ds.sst,cond)\n",
    "    tem=tem.assign_coords(region=iregion)\n",
    "    if iregion==11:\n",
    "        sst_mean=tem\n",
    "    else:\n",
    "        sst_mean = xr.concat([sst_mean, tem], dim='region')\n",
    "\n",
    "#make climatology and anomalies using .groupby method\n",
    "sst_climatology = sst_mean.groupby('time.month').mean('time')\n",
    "sst_anomalies = sst_mean.groupby('time.month') - sst_climatology\n",
    "\n",
    "sst_mean.to_netcdf(adir_data+'sst_mean.nc')\n",
    "sst_climatology.to_netcdf(adir_data+'sst_climatology.nc')\n",
    "sst_anomalies.to_netcdf(adir_data+'sst_anomalies.nc')"
   ]
  },
  {
   "cell_type": "markdown",
   "metadata": {},
   "source": [
    "## Read in wind data"
   ]
  },
  {
   "cell_type": "code",
   "execution_count": null,
   "metadata": {},
   "outputs": [],
   "source": [
    "aggr_url = 'https://coastwatch.pfeg.noaa.gov/erddap/griddap/erdlasFnWind10'\n",
    "ds = xr.open_dataset(aggr_url).rename({'latitude':'lat','longitude':'lon'}).drop({'taux_mean','tauy_mean','curl'})\n",
    "print('lat range',ds.lat[0].data,ds.lat[-1].data)\n",
    "print('lon range',ds.lon[0].data,ds.lon[-1].data)\n",
    "\n",
    "#interpolate mask\n",
    "mask_interp = ds_pices360.interp_like(ds,method='nearest')\n",
    "\n",
    "for iregion in range(11,25):\n",
    "    cond = (mask_interp.region_mask==iregion)\n",
    "    tem = weighted_mean_of_data(ds,cond)\n",
    "    tem=tem.assign_coords(region=iregion)\n",
    "    if iregion==11:\n",
    "        wnd_mean=tem\n",
    "    else:\n",
    "        wnd_mean = xr.concat([wnd_mean, tem], dim='region')\n",
    "\n",
    "#make climatology and anomalies using .groupby method\n",
    "wnd_climatology = wnd_mean.groupby('time.month').mean('time')\n",
    "wnd_anomalies = wnd_mean.groupby('time.month') - wnd_climatology\n",
    "\n",
    "wnd_mean.to_netcdf(adir_data+'wnd_mean.nc')\n",
    "wnd_climatology.to_netcdf(adir_data+'wnd_climatology.nc')\n",
    "wnd_anomalies.to_netcdf(adir_data+'wnd_anomalies.nc')"
   ]
  },
  {
   "cell_type": "markdown",
   "metadata": {},
   "source": [
    "## Read in Ocean current data"
   ]
  },
  {
   "cell_type": "code",
   "execution_count": null,
   "metadata": {},
   "outputs": [],
   "source": [
    "aggr_url = 'https://coastwatch.pfeg.noaa.gov/erddap/griddap/jplOscar'\n",
    "ds = xr.open_dataset(aggr_url).isel(depth=0).rename({'latitude':'lat','longitude':'lon'}).drop({'um','vm'})\n",
    "print('lat range',ds.lat[0].data,ds.lat[-1].data)\n",
    "print('lon range',ds.lon[0].data,ds.lon[-1].data)\n",
    "\n",
    "#subset\n",
    "ds = ds.sel(lon=slice(115,250),lat=slice(70,20))\n",
    "\n",
    "#interpolate mask\n",
    "mask_interp = ds_pices360_revlat.interp_like(ds,method='nearest')\n",
    "\n",
    "for iregion in range(11,25):\n",
    "    cond = (mask_interp.region_mask==iregion)\n",
    "    tem = weighted_mean_of_data(ds,cond)\n",
    "    tem=tem.assign_coords(region=iregion)\n",
    "    if iregion==11:\n",
    "        cur_mean=tem\n",
    "    else:\n",
    "        cur_mean = xr.concat([cur_mean, tem], dim='region')\n",
    "\n",
    "#make climatology and anomalies using .groupby method\n",
    "cur_climatology = cur_mean.groupby('time.month').mean('time')\n",
    "cur_anomalies = cur_mean.groupby('time.month') - cur_climatology\n",
    "\n",
    "cur_mean.to_netcdf(adir_data+'cur_mean.nc')\n",
    "cur_climatology.to_netcdf(adir_data+'cur_climatology.nc')\n",
    "cur_anomalies.to_netcdf(adir_data+'cur_anomalies.nc')"
   ]
  },
  {
   "cell_type": "markdown",
   "metadata": {},
   "source": [
    "## Read in chl-a data\n",
    "\n",
    "- The chl-a data is on a 4km grid, too high resolution to deal unless running on the cloud.\n",
    "- For now, it is subsetted and interpolated onto a 1 deg grid"
   ]
  },
  {
   "cell_type": "code",
   "execution_count": null,
   "metadata": {},
   "outputs": [],
   "source": [
    "aggr_url = 'https://coastwatch.pfeg.noaa.gov/erddap/griddap/pmlEsaCCI31OceanColorMonthly'\n",
    "ds = xr.open_dataset(aggr_url).rename({'latitude':'lat','longitude':'lon'})\n",
    "print('lat range',ds.lat[0].data,ds.lat[-1].data)\n",
    "print('lon range',ds.lon[0].data,ds.lon[-1].data)\n",
    "\n",
    "#subset\n",
    "#ds = ds.sel(lon=slice(115,250),lat=slice(70,20))\n",
    "dsA = ds.chlor_a.sel(lon=slice(-180,-110),lat=slice(70,20))\n",
    "dsB = ds.chlor_a.sel(lon=slice(115,180),lat=slice(70,20))\n",
    "\n",
    "\n",
    "m=[]\n",
    "for imon in range(0,250,5):\n",
    "    ds2 = dsA.isel(time=slice(imon,imon+5))\n",
    "    ds3 = ds2.interp(lat=np.arange(20,70),lon=np.arange(-180,-110))\n",
    "    if imon==0:\n",
    "        m=ds3\n",
    "    else:\n",
    "        m = xr.concat([m,ds3],dim='time')\n",
    "dsA = m  \n",
    "\n",
    "m=[]\n",
    "for imon in range(0,250,5):\n",
    "    ds2 = dsB.isel(time=slice(imon,imon+5))\n",
    "    ds3 = ds2.interp(lat=np.arange(20,70),lon=np.arange(115,180))\n",
    "    if imon==0:\n",
    "        m=ds3\n",
    "    else:\n",
    "        m = xr.concat([m,ds3],dim='time')\n",
    "dsB = m  \n",
    "ds = xr.concat([dsA,dsB],dim='lon')\n",
    "ds.coords['lon'] = np.mod(ds['lon'], 360)\n",
    "ds = ds.sortby(ds.lon)\n",
    "#create  mean for pices region\n",
    "iregion=13\n",
    "mask_interp = ds_pices360.interp_like(ds,method='nearest')\n",
    "cond = (mask_interp.region_mask==iregion)\n",
    "chl_mean = weighted_mean_of_data(ds,cond)\n",
    "\n",
    "#make climatology and anomalies using .groupby method\n",
    "chl_climatology = chl_mean.groupby('time.month').mean('time')\n",
    "chl_anomalies = chl_mean.groupby('time.month') - chl_climatology\n",
    "\n",
    "chl_mean.to_netcdf(adir_data+'chl_mean.nc')\n",
    "chl_climatology.to_netcdf(adir_data+'chl_climatology.nc')\n",
    "chl_anomalies.to_netcdf(adir_data+'chl_anomalies.nc')"
   ]
  },
  {
   "cell_type": "markdown",
   "metadata": {},
   "source": [
    "## Testing still"
   ]
  },
  {
   "cell_type": "code",
   "execution_count": null,
   "metadata": {},
   "outputs": [],
   "source": []
  },
  {
   "cell_type": "markdown",
   "metadata": {},
   "source": [
    "# don't run this\n",
    "- create local files"
   ]
  },
  {
   "cell_type": "code",
   "execution_count": null,
   "metadata": {},
   "outputs": [],
   "source": [
    "#ds.to_netcdf(file)\n",
    "file = pices.get_filename('sst')\n",
    "ds=xr.open_dataset(file)\n",
    "ds.close()\n",
    "#ds=ds.sortby(ds.lat,ascending=True)\n",
    "#ds = ds.drop('time_bnds')\n",
    "#ds.to_netcdf(file)\n",
    "ds_sst = ds\n",
    "\n",
    "#wind\n",
    "file = pices.get_filename('wind')\n",
    "aggr_url = 'https://coastwatch.pfeg.noaa.gov/erddap/griddap/erdlasFnWind10'\n",
    "ds = xr.open_dataset(aggr_url).rename({'latitude':'lat','longitude':'lon'}).drop({'taux_mean','tauy_mean','curl'})\n",
    "ds.to_netcdf(file)\n",
    "\n",
    "#currents\n",
    "aggr_url = 'https://coastwatch.pfeg.noaa.gov/erddap/griddap/jplOscar'\n",
    "ds = xr.open_dataset(aggr_url).isel(depth=0).rename({'latitude':'lat','longitude':'lon'}).drop({'um','vm'})\n",
    "#date1 = pd.Series(pd.date_range('2019-09-01', periods=3*24, freq='H'))\n",
    "date1 = pd.Series(pd.period_range('1992-10-01', periods=27*12, freq='M'))\n",
    "init=0\n",
    "for d in date1:\n",
    "    dstr=str(d.year)+'-'+str(d.month).zfill(2)\n",
    "    dstr2=str(d.year)+'-'+str(d.month).zfill(2)+'-01'\n",
    "    ds2=ds.sel(time=slice(dstr,dstr)).sel(lon=slice(20.0,379.9))\n",
    "    ds2 = ds2.assign_coords(lon=(((ds2.lon + 180) % 360) - 180)).sortby('lon').sortby('lat',ascending=True)\n",
    "    ds3 = ds2.interp(lat=ds_sst.lat,lon=ds_sst.lon,method='linear').mean('time',keep_attrs=True)\n",
    "    ds3=ds3.assign_coords(time=np.datetime64(dstr2))\n",
    "    if init==0:\n",
    "        ts=ds3\n",
    "        init=init+1\n",
    "    else:\n",
    "        ts=xr.concat((ts,ds3),dim='time')\n",
    "        #break\n",
    "ts.to_netcdf('cur_mean.nc')    "
   ]
  },
  {
   "cell_type": "code",
   "execution_count": null,
   "metadata": {},
   "outputs": [],
   "source": [
    "sst_mean.to_netcdf(adir_data+'sst_mean.nc')\n"
   ]
  },
  {
   "cell_type": "code",
   "execution_count": 8,
   "metadata": {},
   "outputs": [
    {
     "data": {
      "text/plain": [
       "<xarray.Dataset>\n",
       "Dimensions:  (lat: 180, lon: 360, time: 453)\n",
       "Coordinates:\n",
       "  * lat      (lat) float32 -89.5 -88.5 -87.5 -86.5 -85.5 ... 86.5 87.5 88.5 89.5\n",
       "  * lon      (lon) float32 0.5 1.5 2.5 3.5 4.5 ... 355.5 356.5 357.5 358.5 359.5\n",
       "  * time     (time) datetime64[ns] 1981-12-01 1982-01-01 ... 2019-08-01\n",
       "Data variables:\n",
       "    sst      (time, lat, lon) float32 ...\n",
       "Attributes:\n",
       "    title:          NOAA Optimum Interpolation (OI) SST V2\n",
       "    Conventions:    CF-1.0\n",
       "    history:        Wed Apr  6 13:47:45 2005: ncks -d time,0,278 SAVEs/sst.mn...\n",
       "    comments:       Data described in  Reynolds, R.W., N.A. Rayner, T.M.\\nSmi...\n",
       "    platform:       Model\n",
       "    source:         NCEP Climate Modeling Branch\n",
       "    institution:    National Centers for Environmental Prediction\n",
       "    References:     https://www.esrl.noaa.gov/psd/data/gridded/data.noaa.oiss...\n",
       "    dataset_title:  NOAA Optimum Interpolation (OI) SST V2\n",
       "    source_url:     http://www.emc.ncep.noaa.gov/research/cmb/sst_analysis/"
      ]
     },
     "execution_count": 8,
     "metadata": {},
     "output_type": "execute_result"
    }
   ],
   "source": [
    "file = pices.get_filename('sst')\n",
    "ds = xr.open_dataset(file)\n",
    "ds"
   ]
  },
  {
   "cell_type": "code",
   "execution_count": 9,
   "metadata": {},
   "outputs": [
    {
     "data": {
      "text/plain": [
       "<xarray.DataArray 'sst' (time: 453, lat: 180, lon: 360)>\n",
       "[29354400 values with dtype=float32]\n",
       "Coordinates:\n",
       "  * lat      (lat) float32 -89.5 -88.5 -87.5 -86.5 -85.5 ... 86.5 87.5 88.5 89.5\n",
       "  * lon      (lon) float32 0.5 1.5 2.5 3.5 4.5 ... 355.5 356.5 357.5 358.5 359.5\n",
       "  * time     (time) datetime64[ns] 1981-12-01 1982-01-01 ... 2019-08-01\n",
       "Attributes:\n",
       "    long_name:             Monthly Mean of Sea Surface Temperature\n",
       "    unpacked_valid_range:  [-5. 40.]\n",
       "    actual_range:          [-1.7999996 35.56862  ]\n",
       "    units:                 degC\n",
       "    precision:             2\n",
       "    var_desc:              Sea Surface Temperature\n",
       "    dataset:               NOAA Optimum Interpolation (OI) SST V2\n",
       "    level_desc:            Surface\n",
       "    statistic:             Mean\n",
       "    parent_stat:           Weekly Mean\n",
       "    standard_name:         sea_surface_temperature\n",
       "    cell_methods:          time: mean (monthly from weekly values interpolate...\n",
       "    valid_range:           [-500 4000]"
      ]
     },
     "execution_count": 9,
     "metadata": {},
     "output_type": "execute_result"
    }
   ],
   "source": [
    "ds.sst"
   ]
  },
  {
   "cell_type": "code",
   "execution_count": 5,
   "metadata": {},
   "outputs": [
    {
     "data": {
      "text/plain": [
       "<xarray.Dataset>\n",
       "Dimensions:             (lat: 4320, lon: 8640, time: 250)\n",
       "Coordinates:\n",
       "  * time                (time) datetime64[ns] 1997-09-04 ... 2018-06-01\n",
       "  * lat                 (lat) float32 89.979164 89.9375 ... -89.9375 -89.979164\n",
       "  * lon                 (lon) float32 -179.97917 -179.9375 ... 179.97917\n",
       "Data variables:\n",
       "    Rrs_412             (time, lat, lon) float32 ...\n",
       "    Rrs_443             (time, lat, lon) float32 ...\n",
       "    Rrs_490             (time, lat, lon) float32 ...\n",
       "    Rrs_510             (time, lat, lon) float32 ...\n",
       "    Rrs_555             (time, lat, lon) float32 ...\n",
       "    Rrs_670             (time, lat, lon) float32 ...\n",
       "    water_class1        (time, lat, lon) float32 ...\n",
       "    water_class2        (time, lat, lon) float32 ...\n",
       "    water_class3        (time, lat, lon) float32 ...\n",
       "    water_class4        (time, lat, lon) float32 ...\n",
       "    water_class5        (time, lat, lon) float32 ...\n",
       "    water_class6        (time, lat, lon) float32 ...\n",
       "    water_class7        (time, lat, lon) float32 ...\n",
       "    water_class8        (time, lat, lon) float32 ...\n",
       "    water_class9        (time, lat, lon) float32 ...\n",
       "    water_class10       (time, lat, lon) float32 ...\n",
       "    water_class11       (time, lat, lon) float32 ...\n",
       "    water_class12       (time, lat, lon) float32 ...\n",
       "    water_class13       (time, lat, lon) float32 ...\n",
       "    water_class14       (time, lat, lon) float32 ...\n",
       "    atot_412            (time, lat, lon) float32 ...\n",
       "    atot_443            (time, lat, lon) float32 ...\n",
       "    atot_490            (time, lat, lon) float32 ...\n",
       "    atot_510            (time, lat, lon) float32 ...\n",
       "    atot_555            (time, lat, lon) float32 ...\n",
       "    atot_670            (time, lat, lon) float32 ...\n",
       "    aph_412             (time, lat, lon) float32 ...\n",
       "    aph_443             (time, lat, lon) float32 ...\n",
       "    aph_490             (time, lat, lon) float32 ...\n",
       "    aph_510             (time, lat, lon) float32 ...\n",
       "    aph_555             (time, lat, lon) float32 ...\n",
       "    aph_670             (time, lat, lon) float32 ...\n",
       "    adg_412             (time, lat, lon) float32 ...\n",
       "    adg_443             (time, lat, lon) float32 ...\n",
       "    adg_490             (time, lat, lon) float32 ...\n",
       "    adg_510             (time, lat, lon) float32 ...\n",
       "    adg_555             (time, lat, lon) float32 ...\n",
       "    adg_670             (time, lat, lon) float32 ...\n",
       "    bbp_412             (time, lat, lon) float32 ...\n",
       "    bbp_443             (time, lat, lon) float32 ...\n",
       "    bbp_490             (time, lat, lon) float32 ...\n",
       "    bbp_510             (time, lat, lon) float32 ...\n",
       "    bbp_555             (time, lat, lon) float32 ...\n",
       "    bbp_670             (time, lat, lon) float32 ...\n",
       "    chlor_a             (time, lat, lon) float32 ...\n",
       "    kd_490              (time, lat, lon) float32 ...\n",
       "    Rrs_412_rmsd        (time, lat, lon) float32 ...\n",
       "    Rrs_443_rmsd        (time, lat, lon) float32 ...\n",
       "    Rrs_490_rmsd        (time, lat, lon) float32 ...\n",
       "    Rrs_510_rmsd        (time, lat, lon) float32 ...\n",
       "    Rrs_555_rmsd        (time, lat, lon) float32 ...\n",
       "    Rrs_670_rmsd        (time, lat, lon) float32 ...\n",
       "    Rrs_412_bias        (time, lat, lon) float32 ...\n",
       "    Rrs_443_bias        (time, lat, lon) float32 ...\n",
       "    Rrs_490_bias        (time, lat, lon) float32 ...\n",
       "    Rrs_510_bias        (time, lat, lon) float32 ...\n",
       "    Rrs_555_bias        (time, lat, lon) float32 ...\n",
       "    Rrs_670_bias        (time, lat, lon) float32 ...\n",
       "    chlor_a_log10_rmsd  (time, lat, lon) float32 ...\n",
       "    chlor_a_log10_bias  (time, lat, lon) float32 ...\n",
       "    aph_412_rmsd        (time, lat, lon) float32 ...\n",
       "    aph_443_rmsd        (time, lat, lon) float32 ...\n",
       "    aph_490_rmsd        (time, lat, lon) float32 ...\n",
       "    aph_510_rmsd        (time, lat, lon) float32 ...\n",
       "    aph_555_rmsd        (time, lat, lon) float32 ...\n",
       "    aph_670_rmsd        (time, lat, lon) float32 ...\n",
       "    aph_412_bias        (time, lat, lon) float32 ...\n",
       "    aph_443_bias        (time, lat, lon) float32 ...\n",
       "    aph_490_bias        (time, lat, lon) float32 ...\n",
       "    aph_510_bias        (time, lat, lon) float32 ...\n",
       "    aph_555_bias        (time, lat, lon) float32 ...\n",
       "    aph_670_bias        (time, lat, lon) float32 ...\n",
       "    adg_412_rmsd        (time, lat, lon) float32 ...\n",
       "    adg_443_rmsd        (time, lat, lon) float32 ...\n",
       "    adg_490_rmsd        (time, lat, lon) float32 ...\n",
       "    adg_510_rmsd        (time, lat, lon) float32 ...\n",
       "    adg_555_rmsd        (time, lat, lon) float32 ...\n",
       "    adg_670_rmsd        (time, lat, lon) float32 ...\n",
       "    adg_412_bias        (time, lat, lon) float32 ...\n",
       "    adg_443_bias        (time, lat, lon) float32 ...\n",
       "    adg_490_bias        (time, lat, lon) float32 ...\n",
       "    adg_510_bias        (time, lat, lon) float32 ...\n",
       "    adg_555_bias        (time, lat, lon) float32 ...\n",
       "    adg_670_bias        (time, lat, lon) float32 ...\n",
       "    kd_490_rmsd         (time, lat, lon) float32 ...\n",
       "    kd_490_bias         (time, lat, lon) float32 ...\n",
       "    MODISA_nobs_sum     (time, lat, lon) float32 ...\n",
       "    VIIRS_nobs_sum      (time, lat, lon) float32 ...\n",
       "    MERIS_nobs_sum      (time, lat, lon) float32 ...\n",
       "    SeaWiFS_nobs_sum    (time, lat, lon) float32 ...\n",
       "    total_nobs_sum      (time, lat, lon) float32 ...\n",
       "Attributes:\n",
       "    cdm_data_type:                  Grid\n",
       "    comment:                        See summary attribute\n",
       "    Conventions:                    CF-1.6, COARDS, ACDD-1.3\n",
       "    creation_date:                  Fri Aug 31 09:45:40 2018\n",
       "    creator_email:                  help@esa-oceancolour-cci.org\n",
       "    creator_name:                   Plymouth Marine Laboratory\n",
       "    creator_url:                    http://esa-oceancolour-cci.org\n",
       "    date_created:                   2018-08-31T09:45:40Z\n",
       "    defaultGraphQuery:              &.vars=longitude%7Clatitude%7Cchlor_a\n",
       "    Easternmost_Easting:            179.9792\n",
       "    geospatial_lat_max:             89.97916\n",
       "    geospatial_lat_min:             -89.97916\n",
       "    geospatial_lat_resolution:      0.0416666635795323\n",
       "    geospatial_lat_units:           degrees_north\n",
       "    geospatial_lon_max:             179.9792\n",
       "    geospatial_lon_min:             -179.9792\n",
       "    geospatial_lon_resolution:      0.041666674383609215\n",
       "    geospatial_lon_units:           degrees_east\n",
       "    history:                        Source data were: ESACCI-OC-L3S-OC_PRODUC...\n",
       "    infoUrl:                        http://www.esa-oceancolour-cci.org/\n",
       "    institution:                    Plymouth Marine Laboratory\n",
       "    keywords:                       490nm, absorption, adg_412, adg_412_bias,...\n",
       "    keywords_vocabulary:            GCMD Science Keywords\n",
       "    license:                        ESA CCI Data Policy: free and open access...\n",
       "    naming_authority:               uk.ac.pml\n",
       "    Northernmost_Northing:          89.97916\n",
       "    number_of_files_composited:     31\n",
       "    number_of_optical_water_types:  14\n",
       "    platform:                       Orbview-2,Aqua,Envisat,Suomi-NPP\n",
       "    processing_level:               Level-3\n",
       "    product_version:                3.1\n",
       "    project:                        Climate Change Initiative - European Spac...\n",
       "    references:                     http://www.esa-oceancolour-cci.org/\n",
       "    sensor:                         SeaWiFS,MODIS,MERIS,VIIRS\n",
       "    sensors_present:                MODISA VIIRSN\n",
       "    source:                         NASA SeaWiFS L2 R2014.0 LAC and GAC, MODI...\n",
       "    sourceUrl:                      https://rsg.pml.ac.uk/thredds/dodsC/CCI_A...\n",
       "    Southernmost_Northing:          -89.97916\n",
       "    spatial_resolution:             4km nominal at equator\n",
       "    standard_name_vocabulary:       CF Standard Name Table v55\n",
       "    summary:                        Data products generated by the Ocean Colo...\n",
       "    time_coverage_duration:         P1M\n",
       "    time_coverage_end:              2018-06-01T00:00:00Z\n",
       "    time_coverage_resolution:       P1M\n",
       "    time_coverage_start:            1997-09-04T00:00:00Z\n",
       "    title:                          ESA CCI Ocean Colour Product (CCI ALL-v3....\n",
       "    tracking_id:                    ae0feb9b-c15d-47d7-bfce-2882141818b3\n",
       "    Westernmost_Easting:            -179.9792"
      ]
     },
     "execution_count": 5,
     "metadata": {},
     "output_type": "execute_result"
    }
   ],
   "source": [
    "aggr_url = 'https://coastwatch.pfeg.noaa.gov/erddap/griddap/pmlEsaCCI31OceanColorMonthly'\n",
    "ds = xr.open_dataset(aggr_url).rename({'latitude':'lat','longitude':'lon'})\n",
    "ds"
   ]
  },
  {
   "cell_type": "code",
   "execution_count": 6,
   "metadata": {},
   "outputs": [
    {
     "data": {
      "text/plain": [
       "<xarray.Dataset>\n",
       "Dimensions:      (lat: 181, lon: 360, time: 273)\n",
       "Coordinates:\n",
       "  * time         (time) datetime64[ns] 1997-01-01 1997-02-01 ... 2019-09-01\n",
       "  * lat          (lat) float32 -90.0 -89.0 -88.0 -87.0 ... 87.0 88.0 89.0 90.0\n",
       "  * lon          (lon) float32 0.0 1.0 2.0 3.0 4.0 ... 356.0 357.0 358.0 359.0\n",
       "Data variables:\n",
       "    u_mean       (time, lat, lon) float32 ...\n",
       "    v_mean       (time, lat, lon) float32 ...\n",
       "    uv_mag_mean  (time, lat, lon) float32 ...\n",
       "Attributes:\n",
       "    cdm_data_type:              Grid\n",
       "    Conventions:                COARDS, CF-1.6, ACDD-1.3\n",
       "    defaultGraphQuery:          &.draw=vectors\n",
       "    Easternmost_Easting:        359.0\n",
       "    geospatial_lat_max:         90.0\n",
       "    geospatial_lat_min:         -90.0\n",
       "    geospatial_lat_resolution:  1.0\n",
       "    geospatial_lat_units:       degrees_north\n",
       "    geospatial_lon_max:         359.0\n",
       "    geospatial_lon_min:         0.0\n",
       "    geospatial_lon_resolution:  1.0\n",
       "    geospatial_lon_units:       degrees_east\n",
       "    history:                    2019-10-08T21:43:29Z https://oceanview.pfeg.n...\n",
       "    infoUrl:                    https://www.pfeg.noaa.gov/products/PFEL/model...\n",
       "    institution:                FNMOC, NOAA ERD\n",
       "    keywords:                   10m, 360x181, atmosphere, atmospheric, compon...\n",
       "    keywords_vocabulary:        GCMD Science Keywords\n",
       "    license:                    The data may be used and redistributed for fr...\n",
       "    Northernmost_Northing:      90.0\n",
       "    sourceUrl:                  https://oceanview.pfeg.noaa.gov/thredds/dodsC...\n",
       "    Southernmost_Northing:      -90.0\n",
       "    standard_name_vocabulary:   CF Standard Name Table v55\n",
       "    summary:                    Global monthly derived winds can be obtained ...\n",
       "    time_coverage_end:          2019-09-01T00:00:00Z\n",
       "    time_coverage_start:        1997-01-01T00:00:00Z\n",
       "    title:                      FNMOC 10m Surface Winds, 360x181, Monthly\n",
       "    Westernmost_Easting:        0.0"
      ]
     },
     "execution_count": 6,
     "metadata": {},
     "output_type": "execute_result"
    }
   ],
   "source": [
    "file = pices.get_filename('wind')\n",
    "aggr_url = 'https://coastwatch.pfeg.noaa.gov/erddap/griddap/erdlasFnWind10'\n",
    "ds = xr.open_dataset(aggr_url).rename({'latitude':'lat','longitude':'lon'}).drop({'taux_mean','tauy_mean','curl'})\n",
    "ds"
   ]
  },
  {
   "cell_type": "code",
   "execution_count": 7,
   "metadata": {},
   "outputs": [
    {
     "data": {
      "text/plain": [
       "<xarray.Dataset>\n",
       "Dimensions:  (lat: 481, lon: 1201, time: 1767)\n",
       "Coordinates:\n",
       "  * time     (time) datetime64[ns] 1992-10-21 1992-10-26 ... 2018-06-12\n",
       "    depth    float32 15.0\n",
       "  * lat      (lat) float64 80.0 79.67 79.33 79.0 ... -79.0 -79.33 -79.67 -80.0\n",
       "  * lon      (lon) float64 20.0 20.33 20.67 21.0 ... 419.0 419.3 419.7 420.0\n",
       "Data variables:\n",
       "    u        (time, lat, lon) float64 ...\n",
       "    v        (time, lat, lon) float64 ...\n",
       "Attributes:\n",
       "    cdm_data_type:              Grid\n",
       "    company:                    Earth & Space Research, Seattle, WA\n",
       "    contact:                    Kathleen Dohan (kdohan@esr.org)\n",
       "    Conventions:                COARDS, CF-1.6, ACDD-1.3\n",
       "    creator_email:              kdohan@esr.org\n",
       "    creator_name:               K Dohan\n",
       "    creator_type:               person\n",
       "    creator_url:                https://www.esr.org\n",
       "    datasubtype:                unfiltered\n",
       "    datatype:                   1/72 YEAR Interval\n",
       "    defaultGraphQuery:          &.draw=vectors\n",
       "    Easternmost_Easting:        420.0\n",
       "    geospatial_lat_max:         80.0\n",
       "    geospatial_lat_min:         -80.0\n",
       "    geospatial_lat_resolution:  0.3333333333333333\n",
       "    geospatial_lat_units:       degrees_north\n",
       "    geospatial_lon_max:         420.0\n",
       "    geospatial_lon_min:         20.0\n",
       "    geospatial_lon_resolution:  0.3333333333333333\n",
       "    geospatial_lon_units:       degrees_east\n",
       "    history:                    Principal Investigator: Kathleen Dohan (kdoha...\n",
       "    infoUrl:                    https://www.esr.org/research/oscar/oscar-surf...\n",
       "    institution:                ESR\n",
       "    keywords:                   all, currents, data, degree, depth, esr, glob...\n",
       "    license:                    The data may be used and redistributed for fr...\n",
       "    Northernmost_Northing:      80.0\n",
       "    references:                 Bonjean F. and G.S.E. Lagerloef, 2002 ,Diagno...\n",
       "    source:                     Kathleen Dohan, ESR (kdohan@esr.org)\n",
       "    sourceUrl:                  https://thredds.jpl.nasa.gov/thredds/dodsC/oc...\n",
       "    Southernmost_Northing:      -80.0\n",
       "    standard_name_vocabulary:   CF Standard Name Table v55\n",
       "    summary:                    Ocean Surface Current Analyses Real-time (OSC...\n",
       "    time_coverage_end:          2018-06-12T00:00:00Z\n",
       "    time_coverage_start:        1992-10-21T00:00:00Z\n",
       "    title:                      OSCAR Sea Surface Velocity, 1/3�, L4, Global,...\n",
       "    variable:                   Ocean Surface Currents\n",
       "    version:                    2017.0\n",
       "    Westernmost_Easting:        20.0"
      ]
     },
     "execution_count": 7,
     "metadata": {},
     "output_type": "execute_result"
    }
   ],
   "source": [
    "aggr_url = 'https://coastwatch.pfeg.noaa.gov/erddap/griddap/jplOscar'\n",
    "ds = xr.open_dataset(aggr_url).isel(depth=0).rename({'latitude':'lat','longitude':'lon'}).drop({'um','vm'})\n",
    "ds"
   ]
  },
  {
   "cell_type": "code",
   "execution_count": null,
   "metadata": {},
   "outputs": [],
   "source": []
  }
 ],
 "metadata": {
  "kernelspec": {
   "display_name": "Python 3",
   "language": "python",
   "name": "python3"
  },
  "language_info": {
   "codemirror_mode": {
    "name": "ipython",
    "version": 3
   },
   "file_extension": ".py",
   "mimetype": "text/x-python",
   "name": "python",
   "nbconvert_exporter": "python",
   "pygments_lexer": "ipython3",
   "version": "3.7.1"
  }
 },
 "nbformat": 4,
 "nbformat_minor": 2
}
