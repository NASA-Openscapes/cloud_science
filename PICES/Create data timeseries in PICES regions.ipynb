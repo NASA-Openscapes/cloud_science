{
 "cells": [
  {
   "cell_type": "markdown",
   "metadata": {},
   "source": [
    "# Read data and create timeseries using PICES LME\n",
    "\n",
    "Look at SST, ocean currents, chl-a"
   ]
  },
  {
   "cell_type": "code",
   "execution_count": 27,
   "metadata": {},
   "outputs": [],
   "source": [
    "import xarray as xr\n",
    "import numpy as np\n",
    "import matplotlib.pyplot as plt\n",
    "import cartopy.crs as ccrs\n",
    "\n",
    "def weighted_mean_of_masked_data(data_in,data_mask,data_cond):\n",
    "    #data_in = input xarray data to have weighted mean\n",
    "    #data_mask = nan mask eg. land values\n",
    "    #LME mask T or F values\n",
    "    R = 6.37e6 #radius of earth in m\n",
    "    grid_dy,grid_dx = (data_in.lat[0]-data_in.lat[1]).data,(data_in.lon[0]-data_in.lon[1]).data\n",
    "    dϕ = np.deg2rad(grid_dy)\n",
    "    dλ = np.deg2rad(grid_dx)\n",
    "    dA = R**2 * dϕ * dλ * np.cos(np.deg2rad(ds.lat)) \n",
    "    pixel_area = dA.where(data_cond)  #pixel_area.plot()\n",
    "    pixel_area = pixel_area.where(np.isfinite(data_mask))\n",
    "    total_ocean_area = pixel_area.sum(dim=('lon', 'lat'))\n",
    "    data_weighted_mean = (data_in * pixel_area).sum(dim=('lon', 'lat')) / total_ocean_area\n",
    "    return data_weighted_mean\n",
    "\n",
    "def weighted_mean_of_data(data_in,data_cond):\n",
    "    #data_in = input xarray data to have weighted mean\n",
    "    #data_mask = nan mask eg. land values\n",
    "    #LME mask T or F values\n",
    "    R = 6.37e6 #radius of earth in m\n",
    "    grid_dy,grid_dx = (data_in.lat[0]-data_in.lat[1]).data,(data_in.lon[0]-data_in.lon[1]).data\n",
    "    dϕ = np.deg2rad(grid_dy)\n",
    "    dλ = np.deg2rad(grid_dx)\n",
    "    dA = R**2 * dϕ * dλ * np.cos(np.deg2rad(ds.lat)) \n",
    "    pixel_area = dA.where(data_cond)  #pixel_area.plot()\n",
    "    #pixel_area = pixel_area.where(np.isfinite(data_mask))\n",
    "    total_ocean_area = pixel_area.sum(dim=('lon', 'lat'))\n",
    "    data_weighted_mean = (data_in * pixel_area).sum(dim=('lon', 'lat')) / total_ocean_area\n",
    "    return data_weighted_mean\n"
   ]
  },
  {
   "cell_type": "markdown",
   "metadata": {},
   "source": [
    "# Read in PICES mask\n",
    "\n",
    "- Each dataset finds a unique and different way to define lat / lon or order them.\n",
    "- There is a need for standardization in this area\n",
    "- The basic PICES mask is -180 to 180 lon and -90 to 90 lat\n",
    "- Below different maps are created for 0 to 360 lon\n",
    "- Then each of the two different lon maps are also copied to reverse lat, 90 to -90"
   ]
  },
  {
   "cell_type": "code",
   "execution_count": 87,
   "metadata": {},
   "outputs": [],
   "source": [
    "#read in mask file\n",
    "filename = './data/PICES_all_mask.nc'\n",
    "ds_pices = xr.open_dataset(filename)\n",
    "ds_pices.close()\n",
    "#read in mask file\n",
    "filename = './data/PICES_all_mask360.nc'\n",
    "ds_pices360 = xr.open_dataset(filename)\n",
    "ds_pices360.close()\n",
    "\n",
    "ds_pices_revlat = ds_pices.sortby(ds_pices.lat, ascending = False)\n",
    "ds_pices360_revlat = ds_pices360.sortby(ds_pices360.lat, ascending = False)\n",
    "\n"
   ]
  },
  {
   "cell_type": "code",
   "execution_count": 101,
   "metadata": {},
   "outputs": [
    {
     "data": {
      "text/plain": [
       "<matplotlib.collections.QuadMesh at 0x13f9d769748>"
      ]
     },
     "execution_count": 101,
     "metadata": {},
     "output_type": "execute_result"
    },
    {
     "data": {
      "image/png": "[encoded data removed]",
      "text/plain": [
       "<Figure size 432x288 with 2 Axes>"
      ]
     },
     "metadata": {
      "needs_background": "light"
     },
     "output_type": "display_data"
    }
   ],
   "source": [
    "ds_pices360.sel(lon=slice(115,250),lat=slice(20,70)).region_mask.plot()"
   ]
  },
  {
   "cell_type": "markdown",
   "metadata": {},
   "source": [
    "## Read in SST data"
   ]
  },
  {
   "cell_type": "code",
   "execution_count": 90,
   "metadata": {},
   "outputs": [
    {
     "name": "stdout",
     "output_type": "stream",
     "text": [
      "lat range 89.5 -89.5\n",
      "lon range 0.5 359.5\n"
     ]
    }
   ],
   "source": [
    "ds = xr.open_dataset('./data/sst.mnmean.nc')\n",
    "print('lat range',ds.lat[0].data,ds.lat[-1].data)\n",
    "print('lon range',ds.lon[0].data,ds.lon[-1].data)\n",
    "#create sst mean for pices region\n",
    "iregion=13\n",
    "mask_interp = ds_pices360_revlat.interp_like(ds,method='nearest')\n",
    "cond = (mask_interp.region_mask==iregion)\n",
    "sst_mean = weighted_mean_of_data(ds.sst,cond)\n",
    "\n",
    "#make climatology and anomalies using .groupby method\n",
    "sst_climatology = sst_mean.groupby('time.month').mean('time')\n",
    "sst_anomalies = sst_mean.groupby('time.month') - sst_climatology"
   ]
  },
  {
   "cell_type": "markdown",
   "metadata": {},
   "source": [
    "## Read in wind data"
   ]
  },
  {
   "cell_type": "code",
   "execution_count": 92,
   "metadata": {},
   "outputs": [
    {
     "name": "stdout",
     "output_type": "stream",
     "text": [
      "lat range -90.0 90.0\n",
      "lon range 0.0 359.0\n"
     ]
    }
   ],
   "source": [
    "aggr_url = 'https://coastwatch.pfeg.noaa.gov/erddap/griddap/erdlasFnWind10'\n",
    "ds = xr.open_dataset(aggr_url).rename({'latitude':'lat','longitude':'lon'}).drop({'taux_mean','tauy_mean','curl'})\n",
    "print('lat range',ds.lat[0].data,ds.lat[-1].data)\n",
    "print('lon range',ds.lon[0].data,ds.lon[-1].data)\n",
    "\n",
    "#create  mean for pices region\n",
    "iregion=13\n",
    "mask_interp = ds_pices360.interp_like(ds,method='nearest')\n",
    "cond = (mask_interp.region_mask==iregion)\n",
    "wnd_mean = weighted_mean_of_data(ds,cond)\n",
    "\n",
    "#make climatology and anomalies using .groupby method\n",
    "wnd_climatology = wnd_mean.groupby('time.month').mean('time')\n",
    "wnd_anomalies = wnd_mean.groupby('time.month') - wnd_climatology\n"
   ]
  },
  {
   "cell_type": "markdown",
   "metadata": {},
   "source": [
    "## Testing still"
   ]
  },
  {
   "cell_type": "code",
   "execution_count": 93,
   "metadata": {},
   "outputs": [
    {
     "name": "stdout",
     "output_type": "stream",
     "text": [
      "lat range 89.979164 -89.979164\n",
      "lon range -179.97917 179.97917\n"
     ]
    }
   ],
   "source": [
    "aggr_url = 'https://coastwatch.pfeg.noaa.gov/erddap/griddap/pmlEsaCCI31OceanColorMonthly'\n",
    "ds = xr.open_dataset(aggr_url).rename({'latitude':'lat','longitude':'lon'})\n",
    "print('lat range',ds.lat[0].data,ds.lat[-1].data)\n",
    "print('lon range',ds.lon[0].data,ds.lon[-1].data)\n",
    "\n",
    "#create  mean for pices region\n",
    "iregion=13\n",
    "mask_interp = ds_pices_revlat.interp_like(ds,method='nearest')\n",
    "cond = (mask_interp.region_mask==iregion)\n",
    "chl_mean = weighted_mean_of_data(ds,cond)\n",
    "\n",
    "#make climatology and anomalies using .groupby method\n",
    "chl_climatology = chl_mean.groupby('time.month').mean('time')\n",
    "chl_anomalies = chl_mean.groupby('time.month') - chl_climatology\n"
   ]
  },
  {
   "cell_type": "code",
   "execution_count": null,
   "metadata": {},
   "outputs": [
    {
     "name": "stdout",
     "output_type": "stream",
     "text": [
      "lat range 80.0 -80.0\n",
      "lon range 20.0 420.0\n"
     ]
    }
   ],
   "source": [
    "aggr_url = 'https://coastwatch.pfeg.noaa.gov/erddap/griddap/jplOscar'\n",
    "ds = xr.open_dataset(aggr_url).isel(depth=0).rename({'latitude':'lat','longitude':'lon'}).drop({'um','vm'})\n",
    "print('lat range',ds.lat[0].data,ds.lat[-1].data)\n",
    "print('lon range',ds.lon[0].data,ds.lon[-1].data)\n",
    "\n",
    "ds = ds.sel(lon=slice(115,250),lat=slice(70,20))\n",
    "\n",
    "#create  mean for pices region\n",
    "iregion=13\n",
    "mask_interp = ds_pices360_revlat.interp_like(ds,method='nearest')\n",
    "cond = (mask_interp.region_mask==iregion)\n",
    "cur_mean = weighted_mean_of_data(ds,cond)\n",
    "\n",
    "#make climatology and anomalies using .groupby method\n",
    "cur_climatology = cur_mean.groupby('time.month').mean('time')\n",
    "cur_anomalies = cur_mean.groupby('time.month') - cur_climatology\n"
   ]
  },
  {
   "cell_type": "code",
   "execution_count": null,
   "metadata": {},
   "outputs": [],
   "source": []
  },
  {
   "cell_type": "code",
   "execution_count": null,
   "metadata": {},
   "outputs": [],
   "source": [
    "                ds_mean['spd']=(ds_mean.uwnd**2+ds_mean.vwnd**2)**.5\n",
    "                ds_mean['dir']=np.arctan2(ds_mean.vwnd,ds_mean.uwnd)* 180./pi                \n"
   ]
  }
 ],
 "metadata": {
  "kernelspec": {
   "display_name": "Python 3",
   "language": "python",
   "name": "python3"
  },
  "language_info": {
   "codemirror_mode": {
    "name": "ipython",
    "version": 3
   },
   "file_extension": ".py",
   "mimetype": "text/x-python",
   "name": "python",
   "nbconvert_exporter": "python",
   "pygments_lexer": "ipython3",
   "version": "3.7.1"
  }
 },
 "nbformat": 4,
 "nbformat_minor": 2
}
