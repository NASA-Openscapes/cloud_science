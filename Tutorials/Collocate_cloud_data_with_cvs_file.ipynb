{
 "cells": [
  {
   "cell_type": "markdown",
   "metadata": {},
   "source": [
    "# Tutorial on collocating a dataset  with lagged data\n",
    "\n",
    "#1) You will need to point the code to your input file.\n",
    "\n",
    "#2) Ensure that your input file has the following Variables and Names:\n",
    "    #Latitude = 'lat'\n",
    "    #Longitude = 'lon'\n",
    "    #Time = 'time'\n",
    "    #Year = 'year'\n",
    "    #Month = 'month'\n",
    "    #Day = 'day'\n",
    "    #Date = 'date'\n"
   ]
  },
  {
   "cell_type": "code",
   "execution_count": 1,
   "metadata": {},
   "outputs": [
    {
     "name": "stderr",
     "output_type": "stream",
     "text": [
      "/Users/jeffdorman/anaconda3/lib/python3.7/site-packages/dask/config.py:168: YAMLLoadWarning: calling yaml.load() without Loader=... is deprecated, as the default Loader is unsafe. Please read https://msg.pyyaml.org/load for full details.\n",
      "  data = yaml.load(f.read()) or {}\n",
      "/Users/jeffdorman/anaconda3/lib/python3.7/site-packages/distributed/config.py:20: YAMLLoadWarning: calling yaml.load() without Loader=... is deprecated, as the default Loader is unsafe. Please read https://msg.pyyaml.org/load for full details.\n",
      "  defaults = yaml.load(f)\n"
     ]
    }
   ],
   "source": [
    "import matplotlib.pyplot as plt\n",
    "import numpy as np\n",
    "import xarray as xr\n",
    "import pandas as pd\n",
    "import warnings\n",
    "import timeit\n",
    "# filter some warning messages\n",
    "warnings.filterwarnings(\"ignore\") \n",
    "#from geopy.distance import geodesic \n",
    "\n",
    "####################you will need to change some paths here!#####################\n",
    "#list of input files\n",
    "#filename_bird='f:/data/project_data/NASA_biophysical/collocated_data/zoo_selgroups_HadSST_relabundance_5aug2019_plumchrusV_4regions_final.csv'\n",
    "filename_bird='/Users/jeffdorman/Documents/python/data/allStationMetadata.csv'\n",
    "\n",
    "#output files\n",
    "filename_bird_out='~/Desktop/zoo_selgroups_HadSST_relabundance_5aug2019_plumchrusV_4regions_final_satsst.csv'\n",
    "filename_bird_out_netcdf='~/Desktop/zoo_selgroups_HadSST_relabundance_5aug2019_plumchrusV_4regions_final_satsst.nc'\n",
    "#################################################################################\n"
   ]
  },
  {
   "cell_type": "markdown",
   "metadata": {},
   "source": [
    "## Reading CSV datasets"
   ]
  },
  {
   "cell_type": "code",
   "execution_count": 2,
   "metadata": {},
   "outputs": [
    {
     "data": {
      "text/html": [
       "<div>\n",
       "<style scoped>\n",
       "    .dataframe tbody tr th:only-of-type {\n",
       "        vertical-align: middle;\n",
       "    }\n",
       "\n",
       "    .dataframe tbody tr th {\n",
       "        vertical-align: top;\n",
       "    }\n",
       "\n",
       "    .dataframe thead th {\n",
       "        text-align: right;\n",
       "    }\n",
       "</style>\n",
       "<table border=\"1\" class=\"dataframe\">\n",
       "  <thead>\n",
       "    <tr style=\"text-align: right;\">\n",
       "      <th></th>\n",
       "      <th>Unnamed: 0</th>\n",
       "      <th>year</th>\n",
       "      <th>station</th>\n",
       "      <th>date</th>\n",
       "      <th>time</th>\n",
       "      <th>lat</th>\n",
       "      <th>lon</th>\n",
       "      <th>bottom_depth</th>\n",
       "      <th>tdr_depth</th>\n",
       "      <th>month</th>\n",
       "      <th>day</th>\n",
       "    </tr>\n",
       "  </thead>\n",
       "  <tbody>\n",
       "    <tr>\n",
       "      <th>0</th>\n",
       "      <td>1</td>\n",
       "      <td>2011</td>\n",
       "      <td>110</td>\n",
       "      <td>5/13/11</td>\n",
       "      <td>12:00</td>\n",
       "      <td>36.5833</td>\n",
       "      <td>-122.1750</td>\n",
       "      <td>2304</td>\n",
       "      <td>34.0</td>\n",
       "      <td>5</td>\n",
       "      <td>13</td>\n",
       "    </tr>\n",
       "    <tr>\n",
       "      <th>1</th>\n",
       "      <td>3</td>\n",
       "      <td>2012</td>\n",
       "      <td>110</td>\n",
       "      <td>5/8/12</td>\n",
       "      <td>12:00</td>\n",
       "      <td>36.5833</td>\n",
       "      <td>-122.1750</td>\n",
       "      <td>2304</td>\n",
       "      <td>34.0</td>\n",
       "      <td>5</td>\n",
       "      <td>8</td>\n",
       "    </tr>\n",
       "    <tr>\n",
       "      <th>2</th>\n",
       "      <td>4</td>\n",
       "      <td>2011</td>\n",
       "      <td>112</td>\n",
       "      <td>5/13/11</td>\n",
       "      <td>12:00</td>\n",
       "      <td>36.6550</td>\n",
       "      <td>-121.9467</td>\n",
       "      <td>73</td>\n",
       "      <td>37.0</td>\n",
       "      <td>5</td>\n",
       "      <td>13</td>\n",
       "    </tr>\n",
       "    <tr>\n",
       "      <th>3</th>\n",
       "      <td>5</td>\n",
       "      <td>2012</td>\n",
       "      <td>112</td>\n",
       "      <td>5/8/12</td>\n",
       "      <td>12:00</td>\n",
       "      <td>36.6550</td>\n",
       "      <td>-121.9467</td>\n",
       "      <td>73</td>\n",
       "      <td>27.0</td>\n",
       "      <td>5</td>\n",
       "      <td>8</td>\n",
       "    </tr>\n",
       "    <tr>\n",
       "      <th>4</th>\n",
       "      <td>6</td>\n",
       "      <td>2011</td>\n",
       "      <td>114</td>\n",
       "      <td>5/12/11</td>\n",
       "      <td>12:00</td>\n",
       "      <td>36.7667</td>\n",
       "      <td>-121.8667</td>\n",
       "      <td>73</td>\n",
       "      <td>36.0</td>\n",
       "      <td>5</td>\n",
       "      <td>12</td>\n",
       "    </tr>\n",
       "    <tr>\n",
       "      <th>...</th>\n",
       "      <td>...</td>\n",
       "      <td>...</td>\n",
       "      <td>...</td>\n",
       "      <td>...</td>\n",
       "      <td>...</td>\n",
       "      <td>...</td>\n",
       "      <td>...</td>\n",
       "      <td>...</td>\n",
       "      <td>...</td>\n",
       "      <td>...</td>\n",
       "      <td>...</td>\n",
       "    </tr>\n",
       "    <tr>\n",
       "      <th>134</th>\n",
       "      <td>142</td>\n",
       "      <td>2017</td>\n",
       "      <td>493</td>\n",
       "      <td>5/11/17</td>\n",
       "      <td>12:00</td>\n",
       "      <td>35.0000</td>\n",
       "      <td>-120.8833</td>\n",
       "      <td>192</td>\n",
       "      <td>33.0</td>\n",
       "      <td>5</td>\n",
       "      <td>11</td>\n",
       "    </tr>\n",
       "    <tr>\n",
       "      <th>135</th>\n",
       "      <td>143</td>\n",
       "      <td>2015</td>\n",
       "      <td>495</td>\n",
       "      <td>6/10/15</td>\n",
       "      <td>12:00</td>\n",
       "      <td>35.0000</td>\n",
       "      <td>-121.1167</td>\n",
       "      <td>532</td>\n",
       "      <td>32.0</td>\n",
       "      <td>6</td>\n",
       "      <td>10</td>\n",
       "    </tr>\n",
       "    <tr>\n",
       "      <th>136</th>\n",
       "      <td>144</td>\n",
       "      <td>2016</td>\n",
       "      <td>495</td>\n",
       "      <td>5/13/16</td>\n",
       "      <td>12:00</td>\n",
       "      <td>35.0000</td>\n",
       "      <td>-121.1167</td>\n",
       "      <td>532</td>\n",
       "      <td>27.0</td>\n",
       "      <td>5</td>\n",
       "      <td>13</td>\n",
       "    </tr>\n",
       "    <tr>\n",
       "      <th>137</th>\n",
       "      <td>145</td>\n",
       "      <td>2017</td>\n",
       "      <td>495</td>\n",
       "      <td>5/12/17</td>\n",
       "      <td>12:00</td>\n",
       "      <td>35.0000</td>\n",
       "      <td>-121.1167</td>\n",
       "      <td>532</td>\n",
       "      <td>30.0</td>\n",
       "      <td>5</td>\n",
       "      <td>12</td>\n",
       "    </tr>\n",
       "    <tr>\n",
       "      <th>138</th>\n",
       "      <td>146</td>\n",
       "      <td>2018</td>\n",
       "      <td>495</td>\n",
       "      <td>6/13/18</td>\n",
       "      <td>12:00</td>\n",
       "      <td>35.0000</td>\n",
       "      <td>-121.1167</td>\n",
       "      <td>532</td>\n",
       "      <td>36.0</td>\n",
       "      <td>6</td>\n",
       "      <td>13</td>\n",
       "    </tr>\n",
       "  </tbody>\n",
       "</table>\n",
       "<p>139 rows × 11 columns</p>\n",
       "</div>"
      ],
      "text/plain": [
       "     Unnamed: 0  year  station     date   time      lat       lon  \\\n",
       "0             1  2011      110  5/13/11  12:00  36.5833 -122.1750   \n",
       "1             3  2012      110   5/8/12  12:00  36.5833 -122.1750   \n",
       "2             4  2011      112  5/13/11  12:00  36.6550 -121.9467   \n",
       "3             5  2012      112   5/8/12  12:00  36.6550 -121.9467   \n",
       "4             6  2011      114  5/12/11  12:00  36.7667 -121.8667   \n",
       "..          ...   ...      ...      ...    ...      ...       ...   \n",
       "134         142  2017      493  5/11/17  12:00  35.0000 -120.8833   \n",
       "135         143  2015      495  6/10/15  12:00  35.0000 -121.1167   \n",
       "136         144  2016      495  5/13/16  12:00  35.0000 -121.1167   \n",
       "137         145  2017      495  5/12/17  12:00  35.0000 -121.1167   \n",
       "138         146  2018      495  6/13/18  12:00  35.0000 -121.1167   \n",
       "\n",
       "     bottom_depth  tdr_depth  month  day  \n",
       "0            2304       34.0      5   13  \n",
       "1            2304       34.0      5    8  \n",
       "2              73       37.0      5   13  \n",
       "3              73       27.0      5    8  \n",
       "4              73       36.0      5   12  \n",
       "..            ...        ...    ...  ...  \n",
       "134           192       33.0      5   11  \n",
       "135           532       32.0      6   10  \n",
       "136           532       27.0      5   13  \n",
       "137           532       30.0      5   12  \n",
       "138           532       36.0      6   13  \n",
       "\n",
       "[139 rows x 11 columns]"
      ]
     },
     "execution_count": 2,
     "metadata": {},
     "output_type": "execute_result"
    }
   ],
   "source": [
    "#read in csv file in to panda dataframe & into xarray\n",
    "df_bird = pd.read_csv(filename_bird)\n",
    "\n",
    "df_bird"
   ]
  },
  {
   "cell_type": "code",
   "execution_count": 3,
   "metadata": {},
   "outputs": [],
   "source": [
    "# calculate time, it needs a datetime64[ns] format\n",
    "df_bird.insert(0,'Year',df_bird['year'])\n",
    "df_bird.insert(1,'Month',df_bird['month'])\n",
    "df_bird.insert(2,'Day',df_bird['day'])\n",
    "df_bird=df_bird.drop(columns={'day','month','year'})\n",
    "df_bird['time'] = df_bird['time'].apply(lambda x: x.zfill(8))\n",
    "df_bird.insert(3,'Hour',df_bird['time'].apply(lambda x: x[:2]))\n",
    "df_bird.insert(4,'Min',df_bird['time'].apply(lambda x: x[3:5]))\n",
    "df_bird.insert(0,'time64',pd.to_datetime(df_bird[list(df_bird)[0:4]]))\n",
    "df_bird=df_bird.drop(columns={'Day','Month','Year','Hour','Min','time','date'})\n",
    "\n",
    "# transform to x array\n",
    "ds_bird = df_bird.to_xarray()"
   ]
  },
  {
   "cell_type": "code",
   "execution_count": null,
   "metadata": {},
   "outputs": [],
   "source": [
    "df_bird"
   ]
  },
  {
   "cell_type": "code",
   "execution_count": 4,
   "metadata": {},
   "outputs": [
    {
     "name": "stdout",
     "output_type": "stream",
     "text": [
      "<xarray.DataArray 'lat' ()>\n",
      "array(32.7167) <xarray.DataArray 'lat' ()>\n",
      "array(38.4667) <xarray.DataArray 'lon' ()>\n",
      "array(-123.71) <xarray.DataArray 'lon' ()>\n",
      "array(-117.5833)\n"
     ]
    },
    {
     "data": {
      "image/png": "[encoded data removed]",
      "text/plain": [
       "<Figure size 432x288 with 1 Axes>"
      ]
     },
     "metadata": {
      "needs_background": "light"
     },
     "output_type": "display_data"
    }
   ],
   "source": [
    "#just check lat/lon & see looks okay\n",
    "minlat,maxlat=ds_bird.lat.min(),ds_bird.lat.max()\n",
    "minlon,maxlon=ds_bird.lon.min(),ds_bird.lon.max()\n",
    "plt.scatter(ds_bird.lon,ds_bird.lat)\n",
    "print(minlat,maxlat,minlon,maxlon)"
   ]
  },
  {
   "cell_type": "code",
   "execution_count": null,
   "metadata": {},
   "outputs": [],
   "source": [
    "#open cmc sst\n",
    "ds = xr.open_zarr('F:/data/sat_data/sst/cmc/zarr').drop({'analysis_error','mask','sea_ice_fraction'})\n",
    "ds"
   ]
  },
  {
   "cell_type": "code",
   "execution_count": null,
   "metadata": {},
   "outputs": [],
   "source": [
    "#Resolution of the Satellite Data is 0.2 degrees.\n",
    "#If you want to smooth the data, change smooth_lat and smooth lon to the number of \n",
    "#grid cells you want to include.  \n",
    "#example: smooth_lat = 3 will compute a rolling average over 3 grid cells which equals 0.6 deg \n",
    "smooth_lat=1\n",
    "smooth_lon=1\n",
    "ds = ds.rolling(lat=smooth_lat,center=True,keep_attrs=True).mean(keep_attrs=True)\n",
    "ds = ds.rolling(lon=smooth_lon,center=True,keep_attrs=True).mean(keep_attrs=True)\n",
    "ds"
   ]
  },
  {
   "cell_type": "code",
   "execution_count": null,
   "metadata": {},
   "outputs": [],
   "source": [
    "ds_mon = ds.rolling(time=30, center=False,keep_attrs=True).mean(keep_attrs=True)\n",
    "ds_15 = ds.rolling(time=15, center=False,keep_attrs=True).mean(keep_attrs=True)\n",
    "ds_week = ds.rolling(time=7, center=False,keep_attrs=True).mean(keep_attrs=True)\n",
    "ds['analysed_sst_1mon']=ds_mon['analysed_sst']\n",
    "ds['analysed_sst_15dy']=ds_15['analysed_sst']\n",
    "ds['analysed_sst_1week']=ds_week['analysed_sst']\n",
    "ds"
   ]
  },
  {
   "cell_type": "markdown",
   "metadata": {},
   "source": [
    "# Collocate all data with bird data"
   ]
  },
  {
   "cell_type": "code",
   "execution_count": null,
   "metadata": {},
   "outputs": [],
   "source": [
    "len(ds_bird.lat)\n"
   ]
  },
  {
   "cell_type": "code",
   "execution_count": null,
   "metadata": {},
   "outputs": [],
   "source": [
    "ds_data = ds\n",
    "for var in ds_data:\n",
    "    var_tem=var\n",
    "    ds_bird[var_tem]=xr.DataArray(np.empty(ilen_bird, dtype=str(ds_data[var].dtype)), coords={'index': ds_bird.index}, dims=('index'))\n",
    "    ds_bird[var_tem].attrs=ds_data[var].attrs\n",
    "print('var',var_tem)\n",
    "for i in range(len(ds_bird.lat)):\n",
    "#    for i in range(len(ds_bird.lat)):\n",
    "#    if ds_bird.time[i]<ds_data.time.min():\n",
    "#        continue\n",
    "#    if ds_bird.time[i]>ds_data.time.max():\n",
    "#        continue\n",
    "    t1,t2 = ds_bird.time64[i]-np.timedelta64(24,'h'), ds_bird.time64[i]+np.timedelta64(24,'h')\n",
    "    lat1,lat2=ds_bird.lat[i]-.5,ds_bird.lat[i]+.5\n",
    "    lon1,lon2=ds_bird.lon[i]-.5,ds_bird.lon[i]+.5\n",
    "    tem = ds_data.sel(time=slice(t1,t2),lat=slice(lat1,lat2),lon=slice(lon1,lon2)).load()\n",
    "    tem = tem.interp(time=ds_bird.time64[i],lat=ds_bird.lat[i],lon=ds_bird.lon[i])\n",
    "    #tem = tem.load()\n",
    "    for var in ds_data:\n",
    "        var_tem=var\n",
    "        ds_bird[var_tem][i]=tem[var].data\n",
    "    if int(i/100)*100==i:\n",
    "        print(i,len(ds_bird.lat))\n",
    "\n",
    "#output data\n",
    "df_bird = ds_bird.to_dataframe()\n",
    "df_bird.to_csv(filename_bird_out)\n",
    "#ds_bird.to_netcdf(filename_bird_out_netcdf)"
   ]
  },
  {
   "cell_type": "code",
   "execution_count": null,
   "metadata": {},
   "outputs": [],
   "source": []
  },
  {
   "cell_type": "code",
   "execution_count": null,
   "metadata": {},
   "outputs": [],
   "source": [
    "var2\n"
   ]
  },
  {
   "cell_type": "code",
   "execution_count": null,
   "metadata": {},
   "outputs": [],
   "source": [
    "#test rolling to check\n",
    "print(da.data)\n",
    "da = xr.DataArray(np.linspace(0, 11, num=12),coords=[pd.date_range( \"15/12/1999\", periods=12, freq=pd.DateOffset(months=1), )],dims=\"time\",)\n",
    "dar = da.rolling(time=3,center=False).mean()  #before and up too\n",
    "print(dar.data)"
   ]
  },
  {
   "cell_type": "code",
   "execution_count": null,
   "metadata": {},
   "outputs": [],
   "source": []
  }
 ],
 "metadata": {
  "kernelspec": {
   "display_name": "Python 3",
   "language": "python",
   "name": "python3"
  },
  "language_info": {
   "codemirror_mode": {
    "name": "ipython",
    "version": 3
   },
   "file_extension": ".py",
   "mimetype": "text/x-python",
   "name": "python",
   "nbconvert_exporter": "python",
   "pygments_lexer": "ipython3",
   "version": "3.7.3"
  }
 },
 "nbformat": 4,
 "nbformat_minor": 2
}
