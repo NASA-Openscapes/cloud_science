{
 "cells": [
  {
   "cell_type": "code",
   "execution_count": null,
   "metadata": {},
   "outputs": [],
   "source": [
    "#import the xarray library described here:  http://xarray.pydata.org/en/stable/\n",
    "#xarray reads in multidimentional arrays from netcdf (and some other format)\n",
    "#for older-stype formatted files, try xarray, but if it doesn't work (eg older files with groups) \n",
    "#you may need to revert to the netcdf4 library https://github.com/Unidata/netcdf4-python\n",
    "#xarray is preferred and works with most files from podaac\n",
    "\n",
    "import xarray as xr\n",
    "xr.set_options(display_style=\"html\")  #display dataset nicely \n",
    "\n",
    "#this can be a URL or local filename if you have the data downloaded\n",
    "#it is important to note that xarray does lazy-loading of files, so you don't need to subset before\n",
    "#reading.  data is only read into memory when needed for a calculation.\n",
    "#more on xarray IO here: http://xarray.pydata.org/en/stable/io.html\n",
    "url = 'https://podaac-opendap.jpl.nasa.gov/opendap/allData/ghrsst/data/GDS2/L4/GLOB/CMC/CMC0.2deg/v2/2011/305/20111101120000-CMC-L4_GHRSST-SSTfnd-CMC0.2deg-GLOB-v02.0-fv02.0.nc'\n",
    "\n",
    "#open the dataset and store it in the xarray dataset ds_sst\n",
    "ds_sst = xr.open_dataset(url)\n",
    "\n",
    "#make a plot, note how xarray integrates with matplotlib and uses metadata to label the plot\n",
    "ds_sst.analysed_sst.isel(time=0).plot()\n",
    "\n",
    "#print out the dataset, you can examine the files by clicking below to expand information and metadata\n",
    "ds_sst"
   ]
  }
 ],
 "metadata": {
  "kernelspec": {
   "display_name": "Python 3",
   "language": "python",
   "name": "python3"
  },
  "language_info": {
   "codemirror_mode": {
    "name": "ipython",
    "version": 3
   },
   "file_extension": ".py",
   "mimetype": "text/x-python",
   "name": "python",
   "nbconvert_exporter": "python",
   "pygments_lexer": "ipython3",
   "version": "3.7.6"
  }
 },
 "nbformat": 4,
 "nbformat_minor": 4
}
