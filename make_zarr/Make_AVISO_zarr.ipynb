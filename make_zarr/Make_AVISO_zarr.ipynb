{
 "cells": [
  {
   "cell_type": "code",
   "execution_count": null,
   "metadata": {},
   "outputs": [],
   "source": [
    "import xarray as xr\n",
    "from glob import glob\n",
    "from os import path\n",
    "import os\n",
    "import numpy as np\n"
   ]
  },
  {
   "cell_type": "markdown",
   "metadata": {},
   "source": [
    "# create AVISO zarr data files"
   ]
  },
  {
   "cell_type": "code",
   "execution_count": null,
   "metadata": {},
   "outputs": [],
   "source": [
    "dir_pattern = 'F:/data/sat_data/aviso/data'\n",
    "dir_pattern_zarr = 'F:/data/sat_data/aviso/zarr2/'\n",
    "pattern = 'F:/data/sat_data/aviso/data/*/*.nc'\n",
    "files = [x for x in glob(pattern)]"
   ]
  },
  {
   "cell_type": "code",
   "execution_count": null,
   "metadata": {},
   "outputs": [],
   "source": [
    "%%time\n",
    "#open dataset\n",
    "ds=xr.open_mfdataset(files,combine='nested',concat_dim='time',decode_cf=False,mask_and_scale=False)\n",
    "ds.close()\n",
    "#remove any duplicates\n",
    "_, index = np.unique(ds['time'], return_index=True)\n",
    "ds=ds.isel(time=index)\n",
    "#rechunck data  #data in int16 = 2 bytes \n",
    "ds = ds.chunk({'time':1000,'latitude':180,'longitude':180})"
   ]
  },
  {
   "cell_type": "code",
   "execution_count": null,
   "metadata": {},
   "outputs": [],
   "source": [
    "#output data to zarr format\n",
    "ds.to_zarr(dir_pattern_zarr, consolidated=True)"
   ]
  },
  {
   "cell_type": "markdown",
   "metadata": {},
   "source": [
    "# test on opening zarr time"
   ]
  },
  {
   "cell_type": "code",
   "execution_count": null,
   "metadata": {},
   "outputs": [],
   "source": [
    "%%time\n",
    "dir_pattern_zarr = 'F:/data/sat_data/aviso/zarr2/'\n",
    "ds_zarr = xr.open_zarr(dir_pattern_zarr, consolidated=True)\n",
    "ts = ds_zarr.sla.sel(latitude=slice(-10,0),longitude=slice(170,180)).mean({'latitude','longitude'}).plot()"
   ]
  },
  {
   "cell_type": "markdown",
   "metadata": {},
   "source": [
    "# test time to make area average time series using netCDF and zarr files"
   ]
  },
  {
   "cell_type": "code",
   "execution_count": null,
   "metadata": {},
   "outputs": [],
   "source": [
    "%%time\n",
    "dir_pattern_zarr = 'F:/data/sat_data/aviso/zarr/'\n",
    "ds_zarr = xr.open_zarr(dir_pattern_zarr)\n",
    "ts = ds_zarr.sla.sel(latitude=slice(-50,0),longitude=slice(100,210)).mean({'latitude','longitude'}).plot()"
   ]
  },
  {
   "cell_type": "code",
   "execution_count": null,
   "metadata": {},
   "outputs": [],
   "source": [
    "%%time\n",
    "dir_pattern_zarr = 'F:/data/sat_data/aviso/zarr2/'\n",
    "ds_zarr = xr.open_zarr(dir_pattern_zarr, consolidated=True)\n",
    "ts = ds_zarr.sla.sel(latitude=slice(-50,0),longitude=slice(100,210)).mean({'latitude','longitude'}).plot()\n"
   ]
  },
  {
   "cell_type": "code",
   "execution_count": null,
   "metadata": {},
   "outputs": [],
   "source": []
  },
  {
   "cell_type": "code",
   "execution_count": null,
   "metadata": {},
   "outputs": [],
   "source": []
  },
  {
   "cell_type": "code",
   "execution_count": null,
   "metadata": {},
   "outputs": [],
   "source": []
  }
 ],
 "metadata": {
  "kernelspec": {
   "display_name": "Python 3",
   "language": "python",
   "name": "python3"
  },
  "language_info": {
   "codemirror_mode": {
    "name": "ipython",
    "version": 3
   },
   "file_extension": ".py",
   "mimetype": "text/x-python",
   "name": "python",
   "nbconvert_exporter": "python",
   "pygments_lexer": "ipython3",
   "version": "3.7.6"
  }
 },
 "nbformat": 4,
 "nbformat_minor": 4
}
