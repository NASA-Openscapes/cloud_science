{
 "cells": [
  {
   "cell_type": "code",
   "execution_count": null,
   "metadata": {},
   "outputs": [],
   "source": [
    "import matplotlib.pyplot as plt\n",
    "from matplotlib.patches import Ellipse\n",
    "\n",
    "w=[62,42,22,12] #amsr2\n",
    "l=[35,24,14,7]  #amsr2\n",
    "tsat='AMSR2'\n",
    "#w=[58,39,21,11] #amsr3\n",
    "#l=[34,22,12,7]  #amsr3\n",
    "#tsat='AMSR3'\n",
    "ch=['7 GHz','10 GHz','19 GHz','37 GHz']\n",
    "co=['r','b','g','c']\n",
    "plt.figure(figsize=(5,4))\n",
    "ax = plt.gca()\n",
    "for i in range(len(w)):\n",
    "    ellipse = Ellipse(xy=(0,0), width=l[i], height=w[i], \n",
    "                        edgecolor=co[i], fc='none', lw=2)\n",
    "    ax.add_patch(ellipse)\n",
    "    ax.text(20,28-i*4,ch[i],color=co[i])\n",
    "ax.text(-7,-37,tsat,fontsize=16)\n",
    "    \n",
    "\n",
    "w=[25,17,13,12]\n",
    "l=[22,14,12,10]\n",
    "for i in range(len(w)):\n",
    "    ellipse = Ellipse(xy=(35,0), width=l[i], height=w[i], \n",
    "                        edgecolor=co[i], fc='none', lw=2)\n",
    "    ax.add_patch(ellipse)\n",
    "ax.text(26,-18,'Butterfly',fontsize=16)\n",
    "\n",
    "ax.set_xlim([-20,55])\n",
    "ax.set_ylim([-40,35])\n",
    "ax.set_xlabel('across scan (km)')\n",
    "ax.set_ylabel('along scan (km)')\n",
    "plt.savefig('./figures/footprint'+tsat+'.png')"
   ]
  },
  {
   "cell_type": "code",
   "execution_count": null,
   "metadata": {},
   "outputs": [],
   "source": [
    "\n"
   ]
  }
 ],
 "metadata": {
  "kernelspec": {
   "display_name": "Python 3",
   "language": "python",
   "name": "python3"
  },
  "language_info": {
   "codemirror_mode": {
    "name": "ipython",
    "version": 3
   },
   "file_extension": ".py",
   "mimetype": "text/x-python",
   "name": "python",
   "nbconvert_exporter": "python",
   "pygments_lexer": "ipython3",
   "version": "3.8.5"
  }
 },
 "nbformat": 4,
 "nbformat_minor": 4
}
