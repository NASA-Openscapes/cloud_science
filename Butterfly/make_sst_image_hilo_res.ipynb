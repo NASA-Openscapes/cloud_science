{
 "cells": [
  {
   "cell_type": "markdown",
   "metadata": {},
   "source": [
    "# make a box of eddies"
   ]
  },
  {
   "cell_type": "code",
   "execution_count": null,
   "metadata": {},
   "outputs": [],
   "source": [
    "!pip install ecco_v4_py"
   ]
  },
  {
   "cell_type": "code",
   "execution_count": null,
   "metadata": {},
   "outputs": [],
   "source": [
    "import numpy as np\n",
    "import xarray as xr\n",
    "import xmitgcm.llcreader as llcreader\n",
    "%matplotlib inline\n",
    "import matplotlib.pyplot as plt\n",
    "import ecco_v4_py as ecco\n",
    "import cmocean\n",
    "\n",
    "#3D plot\n",
    "from mpl_toolkits.mplot3d import Axes3D\n",
    "plt.rcParams['figure.figsize'] = (10,10)"
   ]
  },
  {
   "cell_type": "markdown",
   "metadata": {},
   "source": [
    "# Read in ECCO data"
   ]
  },
  {
   "cell_type": "code",
   "execution_count": null,
   "metadata": {},
   "outputs": [],
   "source": [
    "## read in 3D data and get Theta\n",
    "model = llcreader.ECCOPortalLLC2160Model()\n",
    "ds_sst = model.get_dataset(varnames=['Theta'], k_levels=[0], type='latlon')\n",
    "ds_sst"
   ]
  },
  {
   "cell_type": "markdown",
   "metadata": {},
   "source": [
    "## regrid data onto new uniform grid using eccopy"
   ]
  },
  {
   "cell_type": "code",
   "execution_count": null,
   "metadata": {},
   "outputs": [],
   "source": [
    "ecco_ds = ds_sst\n",
    "new_grid_delta_lat = 360/8640\n",
    "new_grid_delta_lon = 360/8640\n",
    "\n",
    "new_grid_min_lat = -90+new_grid_delta_lat/2\n",
    "new_grid_max_lat = 90-new_grid_delta_lat/2\n",
    "\n",
    "new_grid_min_lon = -180+new_grid_delta_lon/2\n",
    "new_grid_max_lon = 180-new_grid_delta_lon/2\n",
    "\n",
    "new_grid_lon, new_grid_lat, field_nearest_1deg =\\\n",
    "        ecco.resample_to_latlon(ecco_ds.XC, \\\n",
    "                                ecco_ds.YC, \\\n",
    "                                ecco_ds.Theta.isel(time=6200),\\\n",
    "                                new_grid_min_lat, new_grid_max_lat, new_grid_delta_lat,\\\n",
    "                                new_grid_min_lon, new_grid_max_lon, new_grid_delta_lon,\\\n",
    "                                fill_value = np.NaN, \\\n",
    "                                mapping_method = 'nearest_neighbor',\n",
    "                                radius_of_influence = 120000)"
   ]
  },
  {
   "cell_type": "code",
   "execution_count": null,
   "metadata": {},
   "outputs": [],
   "source": [
    "da = xr.DataArray(field_nearest_1deg,name='Theta',coords={'lat':new_grid_lat[:,0],'lon':new_grid_lon[0,:]},dims=('lat','lon'))\n",
    "da.coords['lon'] = np.mod(da['lon'], 360)\n",
    "da = da.sortby(da.lon)\n"
   ]
  },
  {
   "cell_type": "code",
   "execution_count": null,
   "metadata": {},
   "outputs": [],
   "source": [
    "plt.rcParams['figure.figsize'] = (10,5)\n",
    "subset = da.sel(lat=slice(48,60),lon=slice(180,240))\n",
    "subset.plot(vmin=3,vmax=10,cmap='cmo.thermal')"
   ]
  },
  {
   "cell_type": "code",
   "execution_count": null,
   "metadata": {},
   "outputs": [],
   "source": [
    "111*(subset.lat[0]-subset.lat[1])"
   ]
  },
  {
   "cell_type": "code",
   "execution_count": null,
   "metadata": {},
   "outputs": [],
   "source": [
    "subset25 = subset.coarsen(dim={'lat':4,'lon':4}, boundary=\"trim\").mean()\n",
    "print(111*(subset25.lat[0]-subset25.lat[1]))\n",
    "subset50 = subset.coarsen(dim={'lat':12,'lon':12}, boundary=\"trim\").mean()\n",
    "print(111*(subset50.lat[0]-subset50.lat[1]))\n",
    "da25 = da.coarsen(dim={'lat':4,'lon':4}, boundary=\"trim\").mean()\n",
    "print(111*(subset25.lat[0]-subset25.lat[1]))\n",
    "da50 = da.coarsen(dim={'lat':12,'lon':12}, boundary=\"trim\").mean()\n",
    "                            "
   ]
  },
  {
   "cell_type": "code",
   "execution_count": null,
   "metadata": {},
   "outputs": [],
   "source": [
    "import cartopy\n",
    "import cartopy.crs as ccrs\n",
    "ortho = ccrs.Orthographic(-170, 20)           # define target coordinate frame\n",
    "geo = ccrs.PlateCarree()                     # define origin coordinate frame\n",
    "\n",
    "plt.figure(figsize=(10,5))                    #set the figure size\n",
    "ax = plt.subplot(1, 1, 1, projection=ortho)  #create the axis for plotting\n",
    "\n",
    "q = da25.plot(ax=ax, \n",
    "                            transform = geo, \n",
    "                            cmap='cmo.thermal', \n",
    "                            vmin=4, \n",
    "                            vmax=12,cbar_kwargs={'label':'SST ($\\circ$C)'}) # plot a colormap in transformed coordinates cmap='OrRd', \n",
    "\n",
    "global_extent = ax.get_extent(crs=ccrs.PlateCarree())\n",
    "gg = global_extent[:2] + (45,57)\n",
    "gg = (195,242)+gg[2:] \n",
    "ax.set_extent(gg, crs=ccrs.PlateCarree())\n",
    "ax.add_feature(cartopy.feature.LAND,color='gray')\n",
    "plt.savefig('./../figures/GOA_25kmSST.png')\n",
    "ax.add_feature(cartopy.feature.COASTLINE)"
   ]
  },
  {
   "cell_type": "code",
   "execution_count": null,
   "metadata": {},
   "outputs": [],
   "source": [
    "import cartopy\n",
    "import cartopy.crs as ccrs\n",
    "ortho = ccrs.Orthographic(-170, 20)           # define target coordinate frame\n",
    "geo = ccrs.PlateCarree()                     # define origin coordinate frame\n",
    "\n",
    "plt.figure(figsize=(10,5))                    #set the figure size\n",
    "ax = plt.subplot(1, 1, 1, projection=ortho)  #create the axis for plotting\n",
    "\n",
    "q = da50.plot(ax=ax, \n",
    "                            transform = geo, \n",
    "                            cmap='cmo.thermal', \n",
    "                            vmin=4, \n",
    "                            vmax=12,cbar_kwargs={'label':'SST ($\\circ$C)'}) # plot a colormap in transformed coordinates cmap='OrRd', \n",
    "\n",
    "global_extent = ax.get_extent(crs=ccrs.PlateCarree())\n",
    "gg = global_extent[:2] + (45,57)\n",
    "gg = (195,242)+gg[2:] \n",
    "ax.set_extent(gg, crs=ccrs.PlateCarree())\n",
    "ax.add_feature(cartopy.feature.LAND,color='gray')\n",
    "plt.savefig('./../figures/GOA_50kmSST.png')\n",
    "ax.add_feature(cartopy.feature.COASTLINE)"
   ]
  },
  {
   "cell_type": "code",
   "execution_count": null,
   "metadata": {},
   "outputs": [],
   "source": [
    "len2 = 111*np.abs(da.lat[0]-lat[1])\n",
    "print(len2)\n",
    "den_grad =  np.abs(np.gradient(da))#/len2)\n",
    "result,xx = np.histogram(den_grad,bins=xx_in)\n"
   ]
  },
  {
   "cell_type": "code",
   "execution_count": null,
   "metadata": {},
   "outputs": [],
   "source": [
    "gradxy =  np.abs(np.gradient(da))/4\n",
    "grad=np.sqrt(gradxy[0,:,:]**2+gradxy[0,:,:]**2)"
   ]
  },
  {
   "cell_type": "code",
   "execution_count": null,
   "metadata": {},
   "outputs": [],
   "source": [
    "plt.imshow(grad,vmin=0,vmax=.01)"
   ]
  },
  {
   "cell_type": "code",
   "execution_count": null,
   "metadata": {},
   "outputs": [],
   "source": [
    "rlen.data"
   ]
  },
  {
   "cell_type": "code",
   "execution_count": null,
   "metadata": {},
   "outputs": [],
   "source": [
    "length_scale = np.arange(1,50)\n",
    "## create the empty data arrays to store the normalized histograms (normalized the *100 for percentage count)\n",
    "xx_in = np.arange(0,.2,.001)\n",
    "xx_in2 = np.arange(0,.2-.001,.001)\n",
    "data = np.zeros((len(length_scale),len(xx_in2)))\n",
    "ddn=xr.DataArray(data,dims=('length_scale','gradx'),coords={'length_scale':length_scale,'gradx':xx_in2})\n",
    "for ilen2,len2 in enumerate(length_scale):\n",
    "    da2 = da.coarsen(dim={'lat':len2,'lon':len2}, boundary=\"trim\").mean()\n",
    "    rlen = 111*np.abs(da2.lat[0]-da2.lat[1])\n",
    "    gradxy =  np.abs(np.gradient(da2))/rlen.data\n",
    "    grad=np.sqrt(gradxy[0,:,:]**2+gradxy[0,:,:]**2)\n",
    "    result,xx = np.histogram(grad,bins=xx_in)\n",
    "    ddn[ilen2,:]=ddn[ilen2,:]+result\n"
   ]
  },
  {
   "cell_type": "code",
   "execution_count": null,
   "metadata": {},
   "outputs": [],
   "source": [
    "plt.imshow(ddn,vmin=0,vmax=100)"
   ]
  },
  {
   "cell_type": "markdown",
   "metadata": {},
   "source": [
    "# explore the data and image surface"
   ]
  },
  {
   "cell_type": "code",
   "execution_count": null,
   "metadata": {},
   "outputs": [],
   "source": [
    "#some nice eddies off of BC\n",
    "ds_sst.Theta.isel(time=-1,j=slice(5450,5550),i=slice(6300,6400)).plot(vmin=6,vmax=8,cmap='turbo')"
   ]
  },
  {
   "cell_type": "markdown",
   "metadata": {},
   "source": [
    "# make a subset and load the data\n",
    "ecco data has a lot of dims/coords here I'm going to simplify by just putting it into a new data array to do this correctly use ecco_py, but I'm just doing a small region so okay to do this way\n"
   ]
  },
  {
   "cell_type": "code",
   "execution_count": null,
   "metadata": {},
   "outputs": [],
   "source": [
    "subset = ds_sst.isel(time=-1,j=slice(5450,5550),i=slice(6300,6400),k=slice(0,40))\n",
    "array = xr.DataArray(subset.Theta.data,dims=['depth','lat','lon'],coords={'depth':subset.Z.data,'lat':subset.YC[:,0].data,'lon':subset.XC[0,:].data})\n",
    "#load the data to avoid streaming errors that sometimes pop up, also makes playing around with plots faster\n",
    "array = array.load()"
   ]
  },
  {
   "cell_type": "markdown",
   "metadata": {},
   "source": [
    "# make a box of eddies"
   ]
  },
  {
   "cell_type": "code",
   "execution_count": null,
   "metadata": {},
   "outputs": [],
   "source": [
    "z_cut = array.isel(depth=0).data\n",
    "x_cut = array.isel(lon=-1).data \n",
    "y_cut = array.isel(lat=0).data \n",
    "xx = array.lon\n",
    "yy = array.lat\n",
    "zz = array.depth\n",
    "\n",
    "z_cut.shape\n",
    "\n",
    "fig = plt.figure()\n",
    "ax = fig.add_subplot(111, projection='3d')\n",
    "cmap,vmin,vmax='turbo',6.3,8.5\n",
    "\n",
    "#offset is used to shift it to the top of the cube\n",
    "X,Y=np.meshgrid(xx,yy)\n",
    "ax.contourf(X,Y,z_cut,60,zdir='z',offset=zz[0],cmap=cmap,vmin=vmin,vmax=vmax)\n",
    "Y,Z=np.meshgrid(yy,zz)\n",
    "ax.contourf(x_cut,Y,Z,60,zdir='x',offset=xx[-1],cmap=cmap,vmin=vmin,vmax=vmax) \n",
    "X,Z=np.meshgrid(xx,zz)\n",
    "ax.contourf(X,y_cut,Z,60,zdir='y',offset=yy[0],cmap=cmap,vmin=vmin,vmax=vmax)\n",
    "\n",
    "#ax.set_frame_on(True)\n",
    "ax.set_zlim(zz[-1],zz[0])\n",
    "ax.set_xlim(xx[0],xx[-1])\n",
    "ax.set_ylim(yy[0],yy[-1])\n",
    "#ax.plot([xx[0],xx[-1]],[yy[0],yy[0]],zs=zz[0],zdir='z',color='k') #tried to add edge to contourf plots but shows up underneath\n",
    "\n",
    "plt.savefig('./figures/3D_ecco_axes.png')\n",
    "ax._axis3don = False\n",
    "plt.savefig('./figures/3D_ecco_noaxes.png')"
   ]
  },
  {
   "cell_type": "markdown",
   "metadata": {},
   "source": [
    "# flip it, reverse it, Ti esrever dna ti pilf, nwod gniht ym tup\n",
    "look at other side of box"
   ]
  },
  {
   "cell_type": "code",
   "execution_count": null,
   "metadata": {},
   "outputs": [],
   "source": [
    "from mpl_toolkits.mplot3d import Axes3D\n",
    "plt.rcParams['figure.figsize'] = (10,10)\n",
    "\n",
    "array2 = array[:,:-10,:-10] #reduce because nan (land) in bottom of data\n",
    "\n",
    "z_cut = array2.isel(depth=0).data\n",
    "z_cut = np.flip(z_cut, axis=0) #flip the data, I want to see other side of eddy\n",
    "x_cut = array2.isel(lon=-1).data \n",
    "x_cut = np.flip(x_cut, axis=1) #flip the data, I want to see other side of eddy\n",
    "y_cut = array2.isel(lat=-1).data \n",
    "xx = array2.lon\n",
    "yy = array2.lat\n",
    "zz = array2.depth\n",
    "\n",
    "#set up figure\n",
    "fig = plt.figure()\n",
    "ax = fig.add_subplot(111, projection='3d')\n",
    "cmap,vmin,vmax='turbo',6.3,8.5\n",
    "\n",
    "#offset is used to shift it to the top of the cube\n",
    "X,Y=np.meshgrid(xx,yy)\n",
    "ax.contourf(X,Y,z_cut.data,60,zdir='z',offset=zz[0],cmap=cmap,vmin=vmin,vmax=vmax)\n",
    "Y,Z=np.meshgrid(yy,zz)\n",
    "ax.contourf(x_cut.data,Y,Z,60,zdir='x',offset=xx[-1],cmap=cmap,vmin=vmin,vmax=vmax) \n",
    "X,Z=np.meshgrid(xx,zz)\n",
    "ax.contourf(X,y_cut.data,Z,60,zdir='y',offset=yy[0],cmap=cmap,vmin=vmin,vmax=vmax)\n",
    "ax.set_zlim(zz[-1],zz[0])\n",
    "ax.set_xlim(xx[0],xx[-1])\n",
    "ax.set_ylim(yy[0],yy[-1])\n",
    "plt.savefig('./figures/3D_ecco_axesR.png')\n",
    "ax._axis3don = False\n",
    "plt.savefig('./figures/3D_ecco_noaxesR.png')"
   ]
  },
  {
   "cell_type": "markdown",
   "metadata": {},
   "source": [
    "# change colormap"
   ]
  },
  {
   "cell_type": "code",
   "execution_count": null,
   "metadata": {},
   "outputs": [],
   "source": [
    "from mpl_toolkits.mplot3d import Axes3D\n",
    "plt.rcParams['figure.figsize'] = (10,10)\n",
    "\n",
    "array2 = array[:,:-10,:-10] #reduce because nan (land) in bottom of data\n",
    "\n",
    "z_cut = array2.isel(depth=0).data\n",
    "z_cut = np.flip(z_cut, axis=0) #flip the data, I want to see other side of eddy\n",
    "x_cut = array2.isel(lon=-1).data \n",
    "x_cut = np.flip(x_cut, axis=1) #flip the data, I want to see other side of eddy\n",
    "y_cut = array2.isel(lat=-1).data \n",
    "xx = array2.lon\n",
    "yy = array2.lat\n",
    "zz = array2.depth\n",
    "\n",
    "#set up figure\n",
    "fig = plt.figure()\n",
    "ax = fig.add_subplot(111, projection='3d')\n",
    "cmap,vmin,vmax='RdYlBu_r',6.3,8.5\n",
    "\n",
    "#offset is used to shift it to the top of the cube\n",
    "X,Y=np.meshgrid(xx,yy)\n",
    "ax.contourf(X,Y,z_cut.data,60,zdir='z',offset=zz[0],cmap=cmap,vmin=vmin,vmax=vmax)\n",
    "Y,Z=np.meshgrid(yy,zz)\n",
    "ax.contourf(x_cut.data,Y,Z,60,zdir='x',offset=xx[-1],cmap=cmap,vmin=vmin,vmax=vmax) \n",
    "X,Z=np.meshgrid(xx,zz)\n",
    "ax.contourf(X,y_cut.data,Z,60,zdir='y',offset=yy[0],cmap=cmap,vmin=vmin,vmax=vmax)\n",
    "ax.set_zlim(zz[-1],zz[0])\n",
    "ax.set_xlim(xx[0],xx[-1])\n",
    "ax.set_ylim(yy[0],yy[-1])\n",
    "plt.savefig('./figures/3D_ecco_axesRa.png')\n",
    "ax._axis3don = False\n",
    "plt.savefig('./figures/3D_ecco_noaxesRa.png')"
   ]
  },
  {
   "cell_type": "markdown",
   "metadata": {},
   "source": [
    "# bigger box of eddies"
   ]
  },
  {
   "cell_type": "code",
   "execution_count": null,
   "metadata": {},
   "outputs": [],
   "source": [
    "subset = ds_sst.isel(time=-1,j=slice(5350,5550),i=slice(6200,6400),k=slice(0,40))\n",
    "array = xr.DataArray(subset.Theta.data,dims=['depth','lat','lon'],coords={'depth':subset.Z.data,'lat':subset.YC[:,0].data,'lon':subset.XC[0,:].data})\n",
    "#load the data to avoid streaming errors that sometimes pop up, also makes playing around with plots faster\n",
    "array = array.load()"
   ]
  },
  {
   "cell_type": "code",
   "execution_count": null,
   "metadata": {},
   "outputs": [],
   "source": [
    "from mpl_toolkits.mplot3d import Axes3D\n",
    "plt.rcParams['figure.figsize'] = (20,20)\n",
    "\n",
    "array2 = array[:,:-10,:-10] #reduce because nan (land) in bottom of data\n",
    "\n",
    "z_cut = array2.isel(depth=0).data\n",
    "z_cut = np.flip(z_cut, axis=0) #flip the data, I want to see other side of eddy\n",
    "x_cut = array2.isel(lon=-1).data \n",
    "x_cut = np.flip(x_cut, axis=1) #flip the data, I want to see other side of eddy\n",
    "y_cut = array2.isel(lat=-1).data \n",
    "xx = array2.lon\n",
    "yy = array2.lat\n",
    "zz = array2.depth\n",
    "\n",
    "#set up figure\n",
    "fig = plt.figure()\n",
    "ax = fig.add_subplot(111, projection='3d')\n",
    "cmap,vmin,vmax='RdYlBu_r',5.3,8.5\n",
    "\n",
    "#offset is used to shift it to the top of the cube\n",
    "X,Y=np.meshgrid(xx,yy)\n",
    "ax.contourf(X,Y,z_cut.data,60,zdir='z',offset=zz[0],cmap=cmap,vmin=vmin,vmax=vmax)\n",
    "Y,Z=np.meshgrid(yy,zz)\n",
    "ax.contourf(x_cut.data,Y,Z,60,zdir='x',offset=xx[-1],cmap=cmap,vmin=vmin,vmax=vmax) \n",
    "X,Z=np.meshgrid(xx,zz)\n",
    "ax.contourf(X,y_cut.data,Z,60,zdir='y',offset=yy[0],cmap=cmap,vmin=vmin,vmax=vmax)\n",
    "ax.set_zlim(zz[-1],zz[0])\n",
    "ax.set_xlim(xx[0],xx[-1])\n",
    "ax.set_ylim(yy[0],yy[-1])\n",
    "\n",
    "\n",
    "color = '0.5' #color of the line of the corners\n",
    "#Get xlim,ylim and zlim\n",
    "xlim,ylim,zlim = list(map(np.array,[ax.get_xlim(),ax.get_ylim(),ax.get_zlim()]))\n",
    "#Plot corners\n",
    "ax.plot(xlim*0+xlim[1],ylim,zlim*0,color,linewidth=1,zorder=1e4)\n",
    "ax.plot(xlim*0+xlim[1],ylim,zlim*0+zlim[-2],color,linewidth=2,zorder=1e4)\n",
    "ax.plot(xlim*0+xlim[-2],ylim,zlim*0,color,linewidth=1,zorder=1e4)\n",
    "ax.plot(xlim,ylim*0+ylim[0],zlim*0,color,linewidth=1,zorder=1e4)\n",
    "ax.plot(xlim,ylim*0+ylim[0],zlim*0+zlim[-2],color,linewidth=2,zorder=1e4)\n",
    "ax.plot(xlim,ylim*0+ylim[-1],zlim*0,color,linewidth=1,zorder=1e4)\n",
    "ax.plot(xlim*0+xlim[1],ylim*0+ylim[0],zlim,color,linewidth=1,zorder=1e4)\n",
    "ax.plot(xlim*0+xlim[-2],ylim*0+ylim[0],zlim,color,linewidth=2,zorder=1e4)\n",
    "ax.plot(xlim*0+xlim[1],ylim*0+ylim[-1],zlim,color,linewidth=2,zorder=1e4)\n",
    "\n",
    "plt.savefig('./figures/3D_ecco_axes_region2_Ra.png')\n",
    "ax._axis3don = False\n",
    "plt.savefig('./figures/3D_ecco_noaxes_region2_Ra.png')"
   ]
  },
  {
   "cell_type": "code",
   "execution_count": null,
   "metadata": {},
   "outputs": [],
   "source": []
  }
 ],
 "metadata": {
  "kernelspec": {
   "display_name": "Python 3",
   "language": "python",
   "name": "python3"
  },
  "language_info": {
   "codemirror_mode": {
    "name": "ipython",
    "version": 3
   },
   "file_extension": ".py",
   "mimetype": "text/x-python",
   "name": "python",
   "nbconvert_exporter": "python",
   "pygments_lexer": "ipython3",
   "version": "3.8.6"
  }
 },
 "nbformat": 4,
 "nbformat_minor": 4
}
