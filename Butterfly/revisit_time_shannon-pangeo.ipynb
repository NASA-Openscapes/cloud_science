{
 "cells": [
  {
   "cell_type": "code",
   "execution_count": null,
   "metadata": {},
   "outputs": [],
   "source": [
    "from scipy.io import loadmat\n",
    "\n",
    "import h5py\n",
    "import xarray as xr\n",
    "import numpy as np\n",
    "\n",
    "#PLOTTING\n",
    "import cartopy\n",
    "from mpl_toolkits.axes_grid1.inset_locator import inset_axes\n",
    "import matplotlib.pyplot as plt\n",
    "import matplotlib.gridspec as gridspec\n",
    "from matplotlib.colorbar import Colorbar\n",
    "import matplotlib.ticker as mticker\n",
    "\n",
    "import cartopy.crs as ccrs\n",
    "import cartopy.feature as cfeature\n",
    "from cartopy.mpl.gridliner import LONGITUDE_FORMATTER, LATITUDE_FORMATTER\n",
    "\n",
    "#resampling to grid\n",
    "from pyresample.geometry import AreaDefinition\n",
    "from pyresample.geometry import GridDefinition\n",
    "from pyresample import image, geometry, load_area, save_quicklook, SwathDefinition, area_def2basemap\n",
    "from pyresample.kd_tree import resample_nearest\n",
    "from pyresample.utils import check_and_wrap\n",
    "from scipy import spatial\n",
    "\n",
    "\n",
    "import xmitgcm.llcreader as llcreader\n",
    "%matplotlib inline\n",
    "import holoviews as hv\n",
    "#from holoviews.operation.datashader import regrid\n",
    "#hv.extension('bokeh')\n",
    "\n",
    "import matplotlib.pyplot as plt\n",
    "plt.rcParams['figure.figsize'] = (15,10)\n",
    "\n",
    "%matplotlib inline\n",
    "import holoviews as hv\n",
    "from holoviews.operation.datashader import regrid\n",
    "hv.extension('bokeh')\n",
    "\n",
    "import glob\n",
    "\n",
    "#where to find the data\n",
    "adir_data= './../../data/orbit/'\n",
    "adir_figs= './../../data/orbit/figures/'\n",
    "\n",
    "# add land mask\n",
    "#get bathymetry from ETOPO1\n",
    "#fname_topo = './../../data/topo/ETOPO1_Ice_g_gmt4.grd'\n",
    "fname_topo = 'f:/data/topo/ETOPO1_Ice_g_gmt4.grd'\n",
    "ds = xr.open_dataset(fname_topo)\n",
    "ds_topo = ds.rename_dims({'x':'lon','y':'lat'}).rename({'x':'lon','y':'lat'})\n",
    "tem = ds_topo.attrs\n",
    "ds_topo = ds_topo.rename({'z':'etopo_depth'})\n",
    "ds_topo.etopo_depth.attrs=tem\n",
    "_, index = np.unique(ds_topo['lon'], return_index=True)\n",
    "ds_topo = ds_topo.isel(lon=index)\n",
    "_, index = np.unique(ds_topo['lat'], return_index=True)\n",
    "ds_topo = ds_topo.isel(lat=index)"
   ]
  },
  {
   "cell_type": "code",
   "execution_count": null,
   "metadata": {},
   "outputs": [],
   "source": [
    "#import sys\n",
    "#sys.path.append('C:/Users/gentemann/Desktop/git_python/ECCOv4-py')\n",
    "#import ecco_v4_py as ecco"
   ]
  },
  {
   "cell_type": "code",
   "execution_count": null,
   "metadata": {},
   "outputs": [],
   "source": [
    "ds_topo2 = ds_topo.interp(lat=np.arange(-90,90,0.1),lon=np.arange(-180,180,0.1))\n",
    "ds_topo2.etopo_depth.plot()"
   ]
  },
  {
   "cell_type": "code",
   "execution_count": null,
   "metadata": {},
   "outputs": [],
   "source": [
    "#get all filenames\n",
    "filenames = glob.glob(adir_data+'*.nc')\n",
    "ds = xr.open_mfdataset(filenames)\n",
    "da2 = ds.sec\n",
    "da2"
   ]
  },
  {
   "cell_type": "code",
   "execution_count": null,
   "metadata": {},
   "outputs": [],
   "source": [
    "da2a = da2.fillna(0)\n",
    "dy = da2a[:,:,0:16].sum(dim=['orbit'])\n",
    "dy.plot(vmin=0,vmax=5)"
   ]
  },
  {
   "cell_type": "code",
   "execution_count": null,
   "metadata": {},
   "outputs": [],
   "source": [
    "da2a = da2.fillna(0)\n",
    "dy = da2a[:,:,0:16].sum(dim=['orbit'])\n",
    "dy = dy.where(ds_topo2.etopo_depth<0)\n",
    "dy.plot(vmin=0,vmax=5)"
   ]
  },
  {
   "cell_type": "code",
   "execution_count": null,
   "metadata": {},
   "outputs": [],
   "source": [
    "ds2 = da2#.isel(lat=0)\n",
    "#dy = da2a[:,:,0]+da2a[:,:,1]+da2a[:,:,16]+da2a[:,:,32]\n",
    "#dy.plot(c=\n",
    "#plt.plot(da2[900,:,0],linewidth=15)\n",
    "#plt.plot(da2[900,:,1],linewidth=15)\n",
    "#plt.plot(da2[900,:,2],linewidth=15)\n",
    "#plt.plot(da2[900,:,16],linewidth=10)\n",
    "#plt.plot(da2[900,:,17],linewidth=10)\n",
    "#plt.plot(da2[900,:,18],linewidth=10)\n",
    "#plt.plot(da2[900,:,32],linewidth=5)\n",
    "#plt.plot(da2[900,:,33],linewidth=5)\n",
    "#plt.plot(da2[900,:,34],linewidth=5)\n",
    "\n",
    "plt.plot(da2[900,:,0],'r*')\n",
    "plt.plot(da2[900,:,1],'r*')\n",
    "plt.plot(da2[900,:,2],'r*')\n",
    "plt.plot(da2[900,:,16]+.0001,'b*')\n",
    "plt.plot(da2[900,:,17]+.0001,'b*')\n",
    "plt.plot(da2[900,:,18]+.0001,'b*')\n",
    "plt.plot(da2[900,:,32]+.0002,'g*')\n",
    "plt.plot(da2[900,:,33]+.0002,'g*')\n",
    "plt.plot(da2[900,:,34]+.0002,'g*')\n",
    "\n",
    "\n",
    "plt.ylim(.995,1.005)\n",
    "plt.xlim(1550,2300)\n",
    "plt.savefig(adir_figs+'data_cov.png', dpi=100)"
   ]
  },
  {
   "cell_type": "code",
   "execution_count": null,
   "metadata": {},
   "outputs": [],
   "source": [
    "#can put in any mask from here: https://neo.sci.gsfc.nasa.gov/view.php?datasetId=MOD_NDVI_M&date=2020-11-01\n",
    "import cartopy.feature as cfeature\n",
    "land_50m = cfeature.NaturalEarthFeature('physical', 'land', '50m',\n",
    "                                        edgecolor='face',\n",
    "                                        facecolor=cfeature.COLORS['land'])\n",
    "img = plt.imread('./../../data/background_images/bluemarble_10km_august.png')\n",
    "img_extent = (-180, 180, -90, 90)\n",
    "#plt.imshow(img, origin='upper', extent=img_extent)\n",
    "img2 = np.flip(img,0)\n",
    "for i in range(3):\n",
    "    img2[:,:,i] = np.where(ds_topo2.etopo_depth.data>0,img2[:,:,i],np.nan)\n",
    "img2 = np.flip(img2,0)\n",
    "img_white = np.where(np.isfinite(img2),img2,1.0)\n",
    "plt.imshow(img3, origin='upper', extent=img_extent)"
   ]
  },
  {
   "cell_type": "code",
   "execution_count": null,
   "metadata": {},
   "outputs": [],
   "source": [
    "fig = plt.figure(figsize=(10, 8))\n",
    "coord1 = 121\n",
    "coord2 = 122\n",
    "da2a = da2.fillna(0)\n",
    "dy = da2a[:,:,0:32].sum(dim=['orbit'])\n",
    "dy = dy.where(ds_topo2.etopo_depth<0)  #mask land regions\n",
    "dy = dy.where(dy>0,np.nan)\n",
    "ax = plt.subplot(coord1,projection=ccrs.Orthographic(-20, 10))\n",
    "ax.imshow(img2, origin='upper', extent=img_extent, transform=ccrs.PlateCarree())\n",
    "dy.plot(ax=ax, transform=ccrs.PlateCarree(),cmap='jet',vmin=0,vmax=5,add_colorbar=False)\n",
    "\n",
    "dy = da2a[:,:,0:48].sum(dim=['orbit'])\n",
    "dy = dy.where(ds_topo2.etopo_depth<0)  #mask land regions\n",
    "dy = dy.where(dy>0,np.nan)\n",
    "ax2 = plt.subplot(coord2,projection=ccrs.Orthographic(-20, 10))\n",
    "ax2.imshow(img3, origin='upper', extent=img_extent, transform=ccrs.PlateCarree())\n",
    "im=dy.plot(ax=ax2, transform=ccrs.PlateCarree(),cmap='jet',vmin=0,vmax=5,add_colorbar=False)\n",
    "#ax2.coastlines()\n",
    "#ax2.stock_img()\n",
    "#ax2.add_feature(cartopy.feature.LAND, zorder=100, edgecolor='k')\n",
    "#ax2.add_feature(land_50m, zorder=100, edgecolor='k')\n",
    "plt.savefig(adir_figs+'2dy_3dy_numA.png', dpi=100)"
   ]
  },
  {
   "cell_type": "code",
   "execution_count": null,
   "metadata": {},
   "outputs": [],
   "source": [
    "fig = plt.figure(figsize=(10, 8))\n",
    "coord1 = 121\n",
    "coord2 = 122\n",
    "da2a = da2.fillna(0)\n",
    "dy = da2a[:,:,0:32].sum(dim=['orbit'])\n",
    "dy = dy.where(ds_topo2.etopo_depth<0)  #mask land regions\n",
    "dy = dy.where(dy>0,np.nan)\n",
    "ax = plt.subplot(coord1,projection=ccrs.Orthographic(180, 10))\n",
    "ax.imshow(img2, origin='upper', extent=img_extent, transform=ccrs.PlateCarree())\n",
    "dy.plot(ax=ax, transform=ccrs.PlateCarree(),cmap='jet',vmin=0,vmax=5,add_colorbar=False)\n",
    "\n",
    "dy = da2a[:,:,0:48].sum(dim=['orbit'])\n",
    "dy = dy.where(ds_topo2.etopo_depth<0)  #mask land regions\n",
    "dy = dy.where(dy>0,np.nan)\n",
    "ax2 = plt.subplot(coord2,projection=ccrs.Orthographic(180, 10))\n",
    "ax2.imshow(img2, origin='upper', extent=img_extent, transform=ccrs.PlateCarree())\n",
    "im=dy.plot(ax=ax2, transform=ccrs.PlateCarree(),cmap='jet',vmin=0,vmax=5,add_colorbar=False)\n",
    "#ax2.coastlines()\n",
    "#ax2.stock_img()\n",
    "#ax2.add_feature(cartopy.feature.LAND, zorder=100, edgecolor='k')\n",
    "#ax2.add_feature(land_50m, zorder=100, edgecolor='k')\n",
    "plt.savefig(adir_figs+'2dy_3dy_num.png', dpi=100)"
   ]
  },
  {
   "cell_type": "code",
   "execution_count": null,
   "metadata": {},
   "outputs": [],
   "source": [
    "da2a = da2.fillna(0)\n",
    "dy1 = da2a[:,:,0:16].max(dim=['orbit']).sum(dim=['lon'])/3600\n",
    "dy2 = da2a[:,:,0:32].max(dim=['orbit']).sum(dim=['lon'])/3600\n",
    "dy3 = da2a[:,:,0:48].max(dim=['orbit']).sum(dim=['lon'])/3600\n",
    "plt.barh(dy3.lat,dy3.data*100,color='green')\n",
    "plt.barh(dy2.lat,dy2.data*100,color='blue')\n",
    "plt.barh(dy1.lat,dy1.data*100,color='cyan')\n",
    "plt.xlim(0,100)\n",
    "plt.ylim(-85,85)\n"
   ]
  },
  {
   "cell_type": "code",
   "execution_count": null,
   "metadata": {},
   "outputs": [],
   "source": [
    "# calc %\n",
    "R = 6.37e6\n",
    "# we know already that the spacing of the points is one degree latitude\n",
    "dϕ = np.deg2rad(1.)\n",
    "dλ = np.deg2rad(1.)\n",
    "dA = R**2 * dϕ * dλ * np.cos(np.deg2rad(dy.lat))\n",
    "#dA.where(dy.notnull())\n",
    "dy = da2a[:,:,0:16].max(dim=['orbit'])\n",
    "pixel_area = dA.where(dy.notnull())\n",
    "total_ocean_area = pixel_area.sum(dim=('lon', 'lat'))\n",
    "sst_weighted_mean = (dy * pixel_area).sum(dim=('lon', 'lat')) / total_ocean_area\n",
    "print(sst_weighted_mean)\n",
    "dy = da2a[:,:,0:32].max(dim=['orbit'])\n",
    "pixel_area = dA.where(dy.notnull())\n",
    "total_ocean_area = pixel_area.sum(dim=('lon', 'lat'))\n",
    "sst_weighted_mean = (dy * pixel_area).sum(dim=('lon', 'lat')) / total_ocean_area\n",
    "print(sst_weighted_mean)\n",
    "dy = da2a[:,:,0:48].max(dim=['orbit'])\n",
    "pixel_area = dA.where(dy.notnull())\n",
    "total_ocean_area = pixel_area.sum(dim=('lon', 'lat'))\n",
    "sst_weighted_mean = (dy * pixel_area).sum(dim=('lon', 'lat')) / total_ocean_area\n",
    "print(sst_weighted_mean)"
   ]
  },
  {
   "cell_type": "code",
   "execution_count": null,
   "metadata": {},
   "outputs": [],
   "source": [
    "# now lets add in some real data to the orbits\n",
    "fname = 'https://podaac-opendap.jpl.nasa.gov/opendap/allData/ghrsst/data/L4/GLOB/UKMO/OSTIA/2019/012/20190112-UKMO-L4HRfnd-GLOB-v01-fv02-OSTIA.nc.bz2'\n",
    "ds_sst = xr.open_dataset(fname)\n",
    "ds_sst = ds_sst.interp(lat=np.arange(-90,90,0.1),lon=np.arange(-180,180,0.1))\n",
    "da_sst=[]\n",
    "for i in range(48):\n",
    "    tem = np.where(da2[:,:,i]==1,ds_sst.analysed_sst[0,:,:].data,np.nan)\n",
    "    tem = np.expand_dims(tem,2)\n",
    "    tem = xr.DataArray(tem,name='sst',\n",
    "                  coords={'lat':grid_def_lats,'lon':grid_def_lons,'orbit':[i]},\n",
    "                  dims=('lat','lon','orbit'))\n",
    "    da_sst.append(tem)\n",
    "da_sst2 = xr.concat(da_sst, dim='orbit')"
   ]
  },
  {
   "cell_type": "code",
   "execution_count": null,
   "metadata": {},
   "outputs": [],
   "source": [
    "da_sst2[:,:,0].plot()"
   ]
  },
  {
   "cell_type": "code",
   "execution_count": null,
   "metadata": {},
   "outputs": [],
   "source": [
    "fig = plt.figure(figsize=(10, 8))\n",
    "coord1 = 121\n",
    "coord2 = 122\n",
    "da2a = da2.fillna(0)\n",
    "dy = da2a[:,:,7:10].sum(dim=['orbit'])\n",
    "sst = da_sst2[:,:,9:12].max(['orbit'])-273.15\n",
    "dy = dy.where(dy<0,sst)\n",
    "dy = dy.where(ds_topo2.etopo_depth<0)  #mask land regions\n",
    "dy = dy.where(dy>0,np.nan)\n",
    "ax = plt.subplot(coord1,projection=ccrs.Orthographic(150, 10))\n",
    "ax.imshow(img_white, origin='upper', extent=img_extent, transform=ccrs.PlateCarree())\n",
    "dy.plot(ax=ax, transform=ccrs.PlateCarree(),cmap='jet',vmin=0,vmax=30,add_colorbar=False)\n",
    "plt.savefig(adir_figs+'sst_data_orbit.png', dpi=100)"
   ]
  },
  {
   "cell_type": "code",
   "execution_count": null,
   "metadata": {},
   "outputs": [],
   "source": [
    "# ecco\n",
    "!pip install git+https://github.com/rabernat/xmitgcm.git@fix-llcreader-klevels-bug"
   ]
  },
  {
   "cell_type": "code",
   "execution_count": null,
   "metadata": {},
   "outputs": [],
   "source": [
    "from xmitgcm import llcreader\n",
    "model = llcreader.PleiadesLLC2160Model()\n",
    "ds = model.get_dataset(varnames=['Theta'], type='latlon')"
   ]
  },
  {
   "cell_type": "code",
   "execution_count": null,
   "metadata": {},
   "outputs": [],
   "source": []
  }
 ],
 "metadata": {
  "kernelspec": {
   "display_name": "Python 3",
   "language": "python",
   "name": "python3"
  },
  "language_info": {
   "codemirror_mode": {
    "name": "ipython",
    "version": 3
   },
   "file_extension": ".py",
   "mimetype": "text/x-python",
   "name": "python",
   "nbconvert_exporter": "python",
   "pygments_lexer": "ipython3",
   "version": "3.7.9"
  }
 },
 "nbformat": 4,
 "nbformat_minor": 4
}
