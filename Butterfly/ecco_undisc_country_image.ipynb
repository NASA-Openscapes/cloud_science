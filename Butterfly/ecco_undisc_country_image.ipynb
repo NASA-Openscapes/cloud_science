{
 "cells": [
  {
   "cell_type": "code",
   "execution_count": null,
   "metadata": {},
   "outputs": [],
   "source": [
    "#!pip install git+https://github.com/rabernat/xmitgcm.git@fix-llcreader-klevels-bug"
   ]
  },
  {
   "cell_type": "code",
   "execution_count": null,
   "metadata": {},
   "outputs": [],
   "source": [
    "import numpy as np\n",
    "import xmitgcm.llcreader as llcreader\n",
    "%matplotlib inline\n",
    "import holoviews as hv\n",
    "#from holoviews.operation.datashader import regrid\n",
    "#hv.extension('bokeh')\n",
    "import xarray as xr\n",
    "import matplotlib.pyplot as plt\n",
    "plt.rcParams['figure.figsize'] = (15,10)\n",
    "\n",
    "%matplotlib inline\n",
    "import holoviews as hv\n",
    "from holoviews.operation.datashader import regrid\n",
    "hv.extension('bokeh')"
   ]
  },
  {
   "cell_type": "code",
   "execution_count": null,
   "metadata": {},
   "outputs": [],
   "source": [
    "plt.rcParams['figure.figsize'] = (15,10)\n"
   ]
  },
  {
   "cell_type": "code",
   "execution_count": null,
   "metadata": {},
   "outputs": [],
   "source": [
    "model = llcreader.ECCOPortalLLC2160Model()\n",
    "model"
   ]
  },
  {
   "cell_type": "code",
   "execution_count": null,
   "metadata": {},
   "outputs": [],
   "source": [
    "ds_sst = model.get_dataset(varnames=['Theta'], k_levels=[0], type='latlon')\n",
    "ds_sst"
   ]
  },
  {
   "cell_type": "code",
   "execution_count": null,
   "metadata": {},
   "outputs": [],
   "source": [
    "#create a daily climatology and anomaly\n",
    "climatology_mean = ds_sst.groupby('time.dayofyear').mean('time',keep_attrs=True,skipna=False)\n",
    "ds_anomaly = ds_sst.groupby('time.dayofyear')-climatology_mean  #take out annual mean to remove trends\n",
    "anom = ds_anomaly.Theta.isel(k=0,time=6200,j=slice(4900,5400),i=slice(4600,5200)).load()"
   ]
  },
  {
   "cell_type": "code",
   "execution_count": null,
   "metadata": {},
   "outputs": [],
   "source": [
    "# okay, now in x direction smooth by radius, convolution ?\n",
    "noise = 1\n",
    "sst = ds_sst.Theta.isel(k=0,time=6200,j=slice(4900,5400),i=slice(4600,5200)).load()\n",
    "#create random array 0 to 1\n",
    "tem1a = (sst/sst)*np.random.rand(500,600)\n",
    "#tem1a.plot()\n",
    "#create linearly increasing random array\n",
    "tem2 = (sst/sst).load()\n",
    "for j in range(500):\n",
    "    tem2[j,:]=tem2[j,:]*((j/500)**3*noise)\n",
    "noise = tem1a*tem2\n",
    "sstnoise = sst+sst*noise\n",
    "anomsmooth=sstnoise.copy(deep=True).load()\n",
    "noisesmooth=sstnoise.copy(deep=True).load()\n",
    "for i in range(600):\n",
    "    w = int(i/20)+1 #window for smoothing\n",
    "    i1,i2=i-w+1,i+w\n",
    "    if i1<0:\n",
    "        i1=0\n",
    "    if i2>599:\n",
    "        i2=599\n",
    "    for j in range(500):\n",
    "        j1,j2=j-w+1,j+w\n",
    "        if j1<0:\n",
    "            j1=0\n",
    "        if j2>499:\n",
    "            j2=499\n",
    "        anomsmooth[j,i]=sst[j1:j2,i1:i2].mean()\n",
    "        noisesmooth[j,i]=noise[j1:j2,i1:i2].mean()\n",
    "    if int(i/100)*100==i:\n",
    "        print(i,600)\n",
    "anomsmooth.to_netcdf('anomsmooth45a.nc')\n",
    "noisesmooth.to_netcdf('anomsmooth45a.nc')"
   ]
  },
  {
   "cell_type": "code",
   "execution_count": null,
   "metadata": {},
   "outputs": [],
   "source": [
    "plt.rcParams['figure.figsize'] = (18,10)\n",
    "#(anomsmooth+noisesmooth*anomsmooth).plot(vmin=10,vmax=20,cmap='turbo')\n",
    "#(anomsmooth).plot(vmin=-2,vmax=2,cmap='seismic')\n",
    "\n",
    "xx = np.arange(600)/600*260 \n",
    "xlabel = [20,60,100,140,180,220]\n",
    "yy = np.arange(500)/500*30+5\n",
    "ylabel = [10,20,30]\n",
    "dotx = [35,250,50,62,80,200,20]\n",
    "doty = [17,18,32,22,25,18,11]\n",
    "plt.pcolormesh(xx,yy,anomsmooth+noisesmooth*anomsmooth,vmin=8,vmax=22,cmap='turbo')\n",
    "plt.scatter(dotx,doty)\n",
    "plt.tick_params(labelsize=30)\n",
    "plt.xlabel('Spatial Scale (km)',size=30)\n",
    "plt.ylabel('Random Uncertainty \\n Latent + Sensible Heat Flux (%)',size=30)\n",
    "plt.savefig('discovered_country_sst_smoothed_A_20210208.png')\n",
    "plt.savefig('discovered_country_sst_smoothed_A_20210208.pdf')"
   ]
  },
  {
   "cell_type": "code",
   "execution_count": null,
   "metadata": {},
   "outputs": [],
   "source": []
  }
 ],
 "metadata": {
  "kernelspec": {
   "display_name": "Python 3",
   "language": "python",
   "name": "python3"
  },
  "language_info": {
   "codemirror_mode": {
    "name": "ipython",
    "version": 3
   },
   "file_extension": ".py",
   "mimetype": "text/x-python",
   "name": "python",
   "nbconvert_exporter": "python",
   "pygments_lexer": "ipython3",
   "version": "3.8.6"
  }
 },
 "nbformat": 4,
 "nbformat_minor": 4
}
