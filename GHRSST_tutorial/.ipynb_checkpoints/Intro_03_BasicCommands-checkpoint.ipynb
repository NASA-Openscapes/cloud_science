{
 "cells": [
  {
   "attachments": {},
   "cell_type": "markdown",
   "metadata": {
    "slideshow": {
     "slide_type": "slide"
    }
   },
   "source": [
    "# Basic `Python`\n",
    "We are going to learn the most basic commands of Python. The objective is not to teach you to program, but to learn the syntaxis of the language & recongnize it throught the next notebooks\n",
    "<br><br>\n",
    "At the end of this notebook you can find some links to more comprehensible tutorials & references"
   ]
  },
  {
   "cell_type": "markdown",
   "metadata": {
    "slideshow": {
     "slide_type": "slide"
    }
   },
   "source": [
    "## Basic operations \n",
    "### +, -, \\*, /, **\n",
    "<div class=\"alert alert-block alert-info\">\n",
    "    - Define two integer variables & print the result of basic operations\n",
    "</div>"
   ]
  },
  {
   "cell_type": "code",
   "execution_count": null,
   "metadata": {
    "scrolled": true,
    "slideshow": {
     "slide_type": "fragment"
    }
   },
   "outputs": [],
   "source": []
  },
  {
   "cell_type": "markdown",
   "metadata": {},
   "source": [
    "### Operations over the same variables can be simplified by adding the operand before the `=`, like this:\n",
    "x += 1"
   ]
  },
  {
   "cell_type": "markdown",
   "metadata": {},
   "source": [
    "<div class=\"alert alert-block alert-info\">\n",
    "    - Execute the code in the cell below & print <b>x</b> & <b>y</b> final values\n",
    "</div>"
   ]
  },
  {
   "cell_type": "code",
   "execution_count": null,
   "metadata": {},
   "outputs": [],
   "source": [
    "x, y = 3, 4\n",
    "print(x,y)\n",
    "x += 1\n",
    "y /= 2"
   ]
  },
  {
   "cell_type": "markdown",
   "metadata": {
    "slideshow": {
     "slide_type": "slide"
    }
   },
   "source": [
    "*** \n",
    "## `for` loops\n",
    "Can iterate on any list\n",
    "<div class=\"alert alert-block alert-info\">\n",
    "    Execute the code below\n",
    "</div>"
   ]
  },
  {
   "cell_type": "code",
   "execution_count": null,
   "metadata": {
    "slideshow": {
     "slide_type": "fragment"
    }
   },
   "outputs": [],
   "source": [
    "somelist = [10,49,24, '6','hello']\n",
    "for item in somelist:\n",
    "    print(item)"
   ]
  },
  {
   "cell_type": "markdown",
   "metadata": {
    "slideshow": {
     "slide_type": "fragment"
    }
   },
   "source": [
    "###  A list can also be just of numbers, and we can build a list using the function `range`:\n",
    "#### range(start, end, step)  \n",
    "<br><i>Note: the end is non-inclusive</i>\n",
    "\n",
    "<div class=\"alert alert-block alert-info\">\n",
    "    - Execute the code below\n",
    "    <br>\n",
    "    - Replace <b>somelist</b> in the <b>for</b> loop with: <b>range(0,41,5)</b>, and execute the code again\n",
    "    <br>\n",
    "    - Change the start, end or step and execute the code again\n",
    "</div"
   ]
  },
  {
   "cell_type": "code",
   "execution_count": null,
   "metadata": {
    "slideshow": {
     "slide_type": "fragment"
    }
   },
   "outputs": [],
   "source": [
    "somelist = [0, 5, 10, 15, 20, 25, 30, 35, 40]\n",
    "for item in somelist:\n",
    "    print(item)"
   ]
  },
  {
   "cell_type": "markdown",
   "metadata": {
    "slideshow": {
     "slide_type": "fragment"
    }
   },
   "source": [
    "<div class=\"alert alert-block alert-info\">\n",
    "    - Try <b>range(10)</b> instead"
   ]
  },
  {
   "cell_type": "markdown",
   "metadata": {
    "slideshow": {
     "slide_type": "slide"
    }
   },
   "source": [
    "## Sometimes we want the index and the value of each element on a list\n",
    "### The command `enumerate` gives you both\n",
    "<div class=\"alert alert-block alert-info\">\n",
    "    - Execute the code below\n",
    "    <br>\n",
    "    - Then try with <b>range(10)</b> instead\n",
    "</div>\n",
    "<br>Note the use of <b>{ }</b> and <b>.format</b> to print <b>inx</b> and <b>item</b>"
   ]
  },
  {
   "cell_type": "code",
   "execution_count": null,
   "metadata": {
    "slideshow": {
     "slide_type": "fragment"
    }
   },
   "outputs": [],
   "source": [
    "for inx,item in enumerate(range(0,41,5)):\n",
    "    print('index {}, value = {}'.format(inx,item))"
   ]
  },
  {
   "cell_type": "markdown",
   "metadata": {
    "slideshow": {
     "slide_type": "slide"
    }
   },
   "source": [
    "# if, elif, else commands\n",
    "\n",
    "comparison operators: values (==, !=, <, >, >=, <=), logical (and, or, not), "
   ]
  },
  {
   "cell_type": "markdown",
   "metadata": {
    "slideshow": {
     "slide_type": "slide"
    }
   },
   "source": [
    "## `break` command to get out of the loop"
   ]
  },
  {
   "cell_type": "code",
   "execution_count": 39,
   "metadata": {
    "slideshow": {
     "slide_type": "fragment"
    }
   },
   "outputs": [
    {
     "name": "stdout",
     "output_type": "stream",
     "text": [
      "0\n",
      "5\n",
      "10\n",
      "15\n"
     ]
    }
   ],
   "source": [
    "for item in range(0,41,5):\n",
    "    if item >= 20:\n",
    "        break\n",
    "    print(item)"
   ]
  },
  {
   "cell_type": "markdown",
   "metadata": {
    "slideshow": {
     "slide_type": "fragment"
    }
   },
   "source": [
    "## `continue` command to go the next iteration of the loop"
   ]
  },
  {
   "cell_type": "code",
   "execution_count": 40,
   "metadata": {
    "slideshow": {
     "slide_type": "fragment"
    }
   },
   "outputs": [
    {
     "name": "stdout",
     "output_type": "stream",
     "text": [
      "20\n",
      "25\n",
      "30\n",
      "35\n",
      "40\n"
     ]
    }
   ],
   "source": [
    "for item in range(0,41,5):\n",
    "    if item < 20:\n",
    "        continue\n",
    "    print(item)"
   ]
  },
  {
   "cell_type": "code",
   "execution_count": null,
   "metadata": {},
   "outputs": [],
   "source": []
  },
  {
   "cell_type": "code",
   "execution_count": null,
   "metadata": {},
   "outputs": [],
   "source": [
    "comphrensive or inline commands (not to teach them in depth but to be able to recognize them)"
   ]
  },
  {
   "cell_type": "code",
   "execution_count": null,
   "metadata": {},
   "outputs": [],
   "source": [
    "defining functions (same)"
   ]
  },
  {
   "cell_type": "code",
   "execution_count": null,
   "metadata": {},
   "outputs": [],
   "source": [
    "mean, shape, create etc.... show some basic methods in different classes"
   ]
  },
  {
   "cell_type": "markdown",
   "metadata": {},
   "source": [
    "## Resources\n",
    "https://www.w3schools.com/python/default.asp\n",
    "<br>\n",
    "https://docs.scipy.org/doc/numpy/user/quickstart.html"
   ]
  }
 ],
 "metadata": {
  "kernelspec": {
   "display_name": "Python 3",
   "language": "python",
   "name": "python3"
  },
  "language_info": {
   "codemirror_mode": {
    "name": "ipython",
    "version": 3
   },
   "file_extension": ".py",
   "mimetype": "text/x-python",
   "name": "python",
   "nbconvert_exporter": "python",
   "pygments_lexer": "ipython3",
   "version": "3.7.1"
  }
 },
 "nbformat": 4,
 "nbformat_minor": 2
}
