{
 "cells": [
  {
   "cell_type": "markdown",
   "metadata": {
    "slideshow": {
     "slide_type": "slide"
    }
   },
   "source": [
    "# Data types and Structures"
   ]
  },
  {
   "cell_type": "markdown",
   "metadata": {
    "slideshow": {
     "slide_type": "fragment"
    }
   },
   "source": [
    "A great advatage of python is the type of variables it can handle and data types it can combine\n",
    "However, python was not desigined for large numerical data or scientific data, therefore it can be different (and sometimes confusing)\n",
    "from other programs where arrays are the basic (and intuitive) data structure.\n",
    "but no worries, once you learn it is very powerful"
   ]
  },
  {
   "cell_type": "markdown",
   "metadata": {
    "slideshow": {
     "slide_type": "slide"
    }
   },
   "source": [
    "like other programing languages, Python data types include numbers line integers, floats, complex, and strings,and boolean"
   ]
  },
  {
   "cell_type": "code",
   "execution_count": 12,
   "metadata": {
    "slideshow": {
     "slide_type": "fragment"
    }
   },
   "outputs": [
    {
     "name": "stdout",
     "output_type": "stream",
     "text": [
      "3.14\n",
      "2 6.28\n",
      "7j <class 'complex'>\n",
      "Hello World!\n",
      "True\n"
     ]
    }
   ],
   "source": [
    "x = 3.14\n",
    "print(x)\n",
    "y = 2\n",
    "print(y, x*y)\n",
    "z = 7j\n",
    "print(z, type(z))\n",
    "x = 'Hello World!'  \n",
    "print(x)\n",
    "b = True\n",
    "print(b)"
   ]
  },
  {
   "cell_type": "markdown",
   "metadata": {
    "slideshow": {
     "slide_type": "fragment"
    }
   },
   "source": [
    "### and it can handle dates!"
   ]
  },
  {
   "cell_type": "code",
   "execution_count": 10,
   "metadata": {
    "slideshow": {
     "slide_type": "fragment"
    }
   },
   "outputs": [
    {
     "name": "stdout",
     "output_type": "stream",
     "text": [
      "2019-05-03\n",
      "month:  5\n"
     ]
    }
   ],
   "source": [
    "from datetime import date\n",
    "today = date.today()\n",
    "print(today)\n",
    "print('month: ', today.month)"
   ]
  },
  {
   "cell_type": "markdown",
   "metadata": {
    "slideshow": {
     "slide_type": "slide"
    }
   },
   "source": [
    "Basic Python has a some data collections that are particular:\n",
    "    List - ordered, changeable, allows duplicates\n",
    "    Tuple - ordered, unchangeable, allows duplicates\n",
    "    Dictionary - unordered, changeable, no duplicates allowed\n"
   ]
  },
  {
   "cell_type": "code",
   "execution_count": 24,
   "metadata": {},
   "outputs": [
    {
     "name": "stdout",
     "output_type": "stream",
     "text": [
      "['penguin', 'killer whale', 'anchovy']\n",
      "<class 'list'>\n",
      "penguin\n",
      "penguin is a marine animal\n",
      "orca is a marine animal\n",
      "anchovy is a marine animal\n",
      "['penguin', 'orca', 'anchovy', 'octopus']\n"
     ]
    }
   ],
   "source": [
    "# Lists\n",
    "mylist=['penguin', 'killer whale', 'anchovy']\n",
    "print(mylist)\n",
    "print(type(mylist))\n",
    "print(mylist[0])\n",
    "mylist[1]='orca'\n",
    "for animal in mylist:\n",
    "    print(animal+\" is a marine animal\")\n",
    "#mylist[3]='octopus'\n",
    "mylist.append('octopus')\n",
    "print(mylist)\n",
    "yourlist = mylist.copy()"
   ]
  },
  {
   "cell_type": "markdown",
   "metadata": {
    "slideshow": {
     "slide_type": "slide"
    }
   },
   "source": [
    "Certain libraries have specific data structures - arrays, data frames, and datasets\n",
    "examples of each, but we will go back talking about each library."
   ]
  }
 ],
 "metadata": {
  "celltoolbar": "Slideshow",
  "kernelspec": {
   "display_name": "Python 3",
   "language": "python",
   "name": "python3"
  },
  "language_info": {
   "codemirror_mode": {
    "name": "ipython",
    "version": 3
   },
   "file_extension": ".py",
   "mimetype": "text/x-python",
   "name": "python",
   "nbconvert_exporter": "python",
   "pygments_lexer": "ipython3",
   "version": "3.7.1"
  }
 },
 "nbformat": 4,
 "nbformat_minor": 2
}
