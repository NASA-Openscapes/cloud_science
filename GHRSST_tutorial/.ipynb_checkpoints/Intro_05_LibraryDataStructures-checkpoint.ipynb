{
 "cells": [
  {
   "cell_type": "markdown",
   "metadata": {},
   "source": [
    "# The fun part: Scientific & Numerical Data Structures\n",
    "## Beyond the data types and collections we already seen, scientific computation need specific data structures. \n",
    "## We want to be able to handle (efficiently):\n",
    "- large amounts of data\n",
    "- multiple dimensions\n",
    "- mathematical and statistical operation over parts or the whole data set\n",
    "- metadata and data attributes"
   ]
  },
  {
   "attachments": {},
   "cell_type": "markdown",
   "metadata": {},
   "source": [
    "### Thanks to the free, community based and block-building nature of `Python`, we have awesome scientific packages that can do it!\n",
    "\n",
    "### Here we will review and use: `math`, `scipy`, `numpy`, `pandas`, `xarray`, & `matplotlib`\n",
    "\n",
    "Note: these packages are also referred as libraries or modules"
   ]
  },
  {
   "cell_type": "markdown",
   "metadata": {},
   "source": [
    "*** \n",
    "## `math` module\n",
    "Basic math operation (as methods or functions) and numbers (as attributes)\n",
    "\n",
    "<div class=\"alert alert-block alert-info\">\n",
    "    - Try the next code to use the <b>math</b> module. \n",
    "    <br>\n",
    "    - Try some other methods/attribute listed at: https://docs.python.org/3/library/math.html\n",
    "    </div>"
   ]
  },
  {
   "cell_type": "code",
   "execution_count": null,
   "metadata": {},
   "outputs": [],
   "source": [
    "import math\n",
    "pi = math.pi\n",
    "rads = 2*pi\n",
    "degrees = math.degrees(rads)\n",
    "print('{} radians is equal to {} degrees'.format(rads,math.floor(degrees)))"
   ]
  },
  {
   "cell_type": "markdown",
   "metadata": {},
   "source": [
    "***\n",
    "## `SciPy` is a mathematics, science & engineering ecosystem in `Python`. \n",
    "## It is also the name of the library which contains core numerical routines.\n",
    "<img src='images/scipy_logo.png' width=300>\n",
    "\n",
    "## Within this ecosystem, we will use three basic modules: numpy, pandas, & matplotlib. `SciPy` library is integrated with these packages."
   ]
  },
  {
   "cell_type": "markdown",
   "metadata": {},
   "source": [
    "***\n",
    "<img src='images/numpy_logo.jpeg' width=300>\n",
    "\n",
    "## `NumPy` is the basic scientific module in `Python`. Its most important characteristics: \n",
    "\n",
    "- Multi-dimensional arrays objects \n",
    "- Broadcasting functions\n",
    "\n",
    "<div class=\"alert alert-block alert-info\">\n",
    "    - Execute the code in the next cell to import numpy and define two arrays\n",
    "    <br>\n",
    "    - Print both objects\n",
    "    <br>\n",
    "    - Print the type of object of <b>a</b>\n",
    "    <br>\n",
    "    - Print the element of <b>b</b> equal to 7, using the indexing <b>b[row,column]</b>. Remember that indices start at 0"
   ]
  },
  {
   "cell_type": "code",
   "execution_count": 19,
   "metadata": {},
   "outputs": [],
   "source": [
    "import numpy as np\n",
    "a=np.ones((3,5))\n",
    "b=np.arange(15).reshape(3,5)"
   ]
  },
  {
   "cell_type": "markdown",
   "metadata": {},
   "source": [
    "<div class=\"alert alert-block alert-info\">\n",
    "    - Print the following attributes of the defined <b>numpy</b> objects: ndim, shpe, data\n",
    "    <br>\n",
    "    - Print the output of the following methods of a <b>numpy</b> object: max, max(axis=0), sum\n",
    "</div>"
   ]
  },
  {
   "cell_type": "code",
   "execution_count": null,
   "metadata": {},
   "outputs": [],
   "source": []
  },
  {
   "cell_type": "markdown",
   "metadata": {},
   "source": [
    "<div class=\"alert alert-block alert-info\">\n",
    "    - Try an elementwise operation between <b>a</b> & <b>b</b>, like + or *\n",
    "</div>\n"
   ]
  },
  {
   "cell_type": "markdown",
   "metadata": {},
   "source": [
    "### Indexing a `numpy` array\n",
    "Numpy indexing is very logical. Just remember that indices start at zero.\n",
    "<div class=\"alert alert-block alert-info\">\n",
    "    - Run the code in the following cell\n",
    "    <br>\n",
    "    - Then add the necessary the code to print the correct element(s) in the next cell\n",
    "    <br>\n",
    "    <b>Hint:</b> Use <b>-1</b> to indicate the last element, and <b>n:</b> or <b>:n</b> for \"n to end\" & \"first to n\" elements\n",
    "</div>"
   ]
  },
  {
   "cell_type": "code",
   "execution_count": 29,
   "metadata": {},
   "outputs": [
    {
     "name": "stdout",
     "output_type": "stream",
     "text": [
      "Entire array\n",
      "[[ 1.  2.  3.  4.  5.]\n",
      " [ 6.  7.  8.  9. 10.]\n",
      " [11. 12. 13. 14. 15.]]\n",
      "Second row\n",
      "[ 6.  7.  8.  9. 10.]\n",
      "First column\n",
      "[ 1.  6. 11.]\n"
     ]
    }
   ],
   "source": [
    "c=a+b\n",
    "print('Entire array')\n",
    "print(c)\n",
    "print('Second row')\n",
    "print(c[1])\n",
    "print('First column')\n",
    "print(c[:,0])"
   ]
  },
  {
   "cell_type": "code",
   "execution_count": 32,
   "metadata": {},
   "outputs": [],
   "source": [
    "# print the second element in the first row\n",
    "\n",
    "# print the last two elements of the second column\n",
    "\n",
    "# print the element last column\n",
    "\n",
    "# use the syntaxis c[[r1,c1],[r2,c2]] to print first and last elements of the array\n"
   ]
  },
  {
   "cell_type": "markdown",
   "metadata": {},
   "source": [
    "***\n",
    "<img src='images/pandas-logo.png' width=300>\n",
    "\n",
    "## `Pandas` is a package for high-performance data structures. \n",
    "### Best characteristics include the use of :\n",
    "- 2-D Tables\n",
    "- Indexing by labels and numerical indices\n",
    "\n",
    "### Building a `pandas` dataframe start with defining `Series` that will become the (column-wise) data in a `DataFrame`\n",
    "<div class=\"alert alert-block alert-info\">\n",
    "    -Try the code in the next cells\n",
    "</div"
   ]
  },
  {
   "cell_type": "code",
   "execution_count": 44,
   "metadata": {},
   "outputs": [
    {
     "name": "stdout",
     "output_type": "stream",
     "text": [
      "a    0\n",
      "b    1\n",
      "c    2\n",
      "d    3\n",
      "e    4\n",
      "dtype: int64\n"
     ]
    }
   ],
   "source": [
    "import pandas as pd\n",
    "s=pd.Series(np.arange(5), index=['a', 'b', 'c', 'd', 'e'])\n",
    "print(s)"
   ]
  },
  {
   "cell_type": "markdown",
   "metadata": {},
   "source": [
    "## Now lets create a `DataFrame`\n",
    "### We need to define our elements as a dictionary first, and then create the DataFrame"
   ]
  },
  {
   "cell_type": "code",
   "execution_count": 47,
   "metadata": {},
   "outputs": [
    {
     "name": "stdout",
     "output_type": "stream",
     "text": [
      "{'A': a    0\n",
      "b    1\n",
      "c    2\n",
      "d    3\n",
      "e    4\n",
      "dtype: int64, 'B': a    5\n",
      "b    6\n",
      "c    3\n",
      "d    4\n",
      "e    1\n",
      "dtype: int64}\n",
      "<class 'dict'>\n",
      "\n",
      "*** DataFrame ***\n",
      "\n",
      "   A  B\n",
      "a  0  5\n",
      "b  1  6\n",
      "c  2  3\n",
      "d  3  4\n",
      "e  4  1\n"
     ]
    }
   ],
   "source": [
    "# Dictionary - 2D\n",
    "d = {'A':s, 'B':pd.Series([5,6,3,4,1],index=['a', 'b', 'c', 'd', 'e'])}\n",
    "print(d)\n",
    "print(type(d))\n",
    "# Creating the DataFrame\n",
    "print('\\n*** DataFrame ***\\n')\n",
    "df = pd.DataFrame(d)\n",
    "print(df)"
   ]
  },
  {
   "cell_type": "markdown",
   "metadata": {},
   "source": [
    "### Creating a DataFrame from a np.array"
   ]
  },
  {
   "cell_type": "code",
   "execution_count": 50,
   "metadata": {},
   "outputs": [
    {
     "name": "stdout",
     "output_type": "stream",
     "text": [
      "   c1  c2  c3  c4  c5\n",
      "a   0   1   2   3   4\n",
      "b   5   6   7   8   9\n",
      "c  10  11  12  13  14\n"
     ]
    }
   ],
   "source": [
    "df2 = pd.DataFrame(np.arange(15).reshape(3,5),index=['a','b','c'],columns=['c1','c2','c3','c4','c5'])\n",
    "print(df2)"
   ]
  },
  {
   "cell_type": "markdown",
   "metadata": {},
   "source": [
    "### Finally, accesing the data in a `DataFrame`"
   ]
  },
  {
   "cell_type": "code",
   "execution_count": 55,
   "metadata": {},
   "outputs": [
    {
     "name": "stdout",
     "output_type": "stream",
     "text": [
      "Second column\n",
      "a     1\n",
      "b     6\n",
      "c    11\n",
      "Name: c2, dtype: int64\n",
      "\n",
      "First column\n",
      "a     0\n",
      "b     5\n",
      "c    10\n",
      "Name: c1, dtype: int64\n",
      "\n",
      "Adding column\n",
      "   c1  c2  c3  c4  c5   R\n",
      "a   0   1   2   3   4   3\n",
      "b   5   6   7   8   9  13\n",
      "c  10  11  12  13  14  23\n"
     ]
    }
   ],
   "source": [
    "print('Second column')\n",
    "print(df2.c2)\n",
    "print('\\nFirst column')\n",
    "print(df2['c1']) \n",
    "print('\\nAdding column')\n",
    "df2['R']=df2.c2+df2.c3\n",
    "print(df2)"
   ]
  },
  {
   "cell_type": "markdown",
   "metadata": {},
   "source": [
    "<img src='images/xarray-logo-square.png' width=300>\n",
    "\n",
    "## `xarray` is another, more sophsiticated package for scientific computing\n",
    "### Objects are multidimensional & labelled arrays ... and the labels are not only in dimension form, but can also be coordinates \n",
    "### `xarray` objects is modeled based on `netcdf` file format; they have metadata & attributes"
   ]
  },
  {
   "cell_type": "markdown",
   "metadata": {},
   "source": [
    "***\n",
    "##  `DataArrays` is the basic structure in `xarray`\n",
    "<div class=\"alert alert-block alert-info\">\n",
    "    - Execute the following code to create a <b>DataArray</b>, and then print it with its attributes  \n",
    "    </div>"
   ]
  },
  {
   "cell_type": "code",
   "execution_count": 38,
   "metadata": {},
   "outputs": [
    {
     "name": "stdout",
     "output_type": "stream",
     "text": [
      "<xarray.DataArray 'SST' (lat: 3, lon: 4)>\n",
      "array([[20, 24, 21, 18],\n",
      "       [21, 23, 26, 22],\n",
      "       [19, 23, 25, 21]])\n",
      "Coordinates:\n",
      "  * lat      (lat) int64 30 35 40\n",
      "  * lon      (lon) int64 -145 -140 -135 -130\n",
      "Values\n",
      "[[20 24 21 18]\n",
      " [21 23 26 22]\n",
      " [19 23 25 21]]\n",
      "Coordinates\n",
      "Coordinates:\n",
      "  * lat      (lat) int64 30 35 40\n",
      "  * lon      (lon) int64 -145 -140 -135 -130\n",
      "Dimensions\n",
      "('lat', 'lon')\n"
     ]
    }
   ],
   "source": [
    "import xarray as xr\n",
    "# DataArrays\n",
    "x = xr.DataArray([[20,24,21,18],[21,23,26,22],[19,23,25,21]], name='SST', coords={'lat':[30,35,40],'lon':[-145, -140,-135,-130 ]}, dims=('lat','lon'))\n",
    "print(x)\n",
    "print('Values')\n",
    "print(x.values)\n",
    "print('Coordinates')\n",
    "print(x.coords)\n",
    "print('Dimensions')\n",
    "print(x.dims)"
   ]
  },
  {
   "cell_type": "markdown",
   "metadata": {},
   "source": [
    "### Lets try a basic operation on our DataArray\n",
    "<div class=\"alert alert-block alert-info\">\n",
    "    - Execute the following code that averages the data array\n",
    "    </div>"
   ]
  },
  {
   "cell_type": "code",
   "execution_count": 39,
   "metadata": {},
   "outputs": [
    {
     "name": "stdout",
     "output_type": "stream",
     "text": [
      "<xarray.DataArray 'SST' ()>\n",
      "array(21.916667)\n",
      "<xarray.DataArray 'SST' ()>\n",
      "array(21.916667)\n",
      "<xarray.DataArray 'SST' (lat: 3)>\n",
      "array([20.75, 23.  , 22.  ])\n",
      "Coordinates:\n",
      "  * lat      (lat) int64 30 35 40\n"
     ]
    }
   ],
   "source": [
    "print(x.mean())\n",
    "print(x.mean(dim={'lon','lat'}))\n",
    "print(x.mean(dim='lon'))"
   ]
  },
  {
   "cell_type": "markdown",
   "metadata": {},
   "source": [
    "## `DataSets` are collection of `DataArrays` with similar dimensions/coordinates, packed together in a dictionary-like structure. \n",
    "<div class=\"alert alert-block alert-info\">\n",
    "    - Try the next code to create a <b>DataSet</b>\n",
    " </div"
   ]
  },
  {
   "cell_type": "code",
   "execution_count": 43,
   "metadata": {},
   "outputs": [
    {
     "name": "stdout",
     "output_type": "stream",
     "text": [
      "<xarray.Dataset>\n",
      "Dimensions:  (lat: 3, lon: 4)\n",
      "Coordinates:\n",
      "  * lat      (lat) int64 30 35 40\n",
      "  * lon      (lon) int64 -145 -140 -135 -130\n",
      "Data variables:\n",
      "    SST1     (lat, lon) int64 20 24 21 18 21 23 26 22 19 23 25 21\n",
      "    SST2     (lat, lon) float64 20.5 24.5 21.5 18.5 21.5 ... 19.5 23.5 25.5 21.5\n",
      "    SST3     (lat, lon) float64 19.5 23.5 20.5 17.5 20.5 ... 18.5 22.5 24.5 20.5\n",
      "\n",
      " *** Only SST2 ***\n",
      "\n",
      "<xarray.DataArray 'SST2' (lat: 3, lon: 4)>\n",
      "array([[20.5, 24.5, 21.5, 18.5],\n",
      "       [21.5, 23.5, 26.5, 22.5],\n",
      "       [19.5, 23.5, 25.5, 21.5]])\n",
      "Coordinates:\n",
      "  * lat      (lat) int64 30 35 40\n",
      "  * lon      (lon) int64 -145 -140 -135 -130\n"
     ]
    }
   ],
   "source": [
    "ds = xr.Dataset({'SST1':x,'SST2':x+0.5,'SST3':x-0.5})\n",
    "print(ds)\n",
    "print('\\n *** Only SST2 ***\\n')\n",
    "print(ds.SST2)"
   ]
  },
  {
   "cell_type": "markdown",
   "metadata": {},
   "source": [
    "*** \n",
    "### Now that you know the basics, lets really learn how to use `xarray`"
   ]
  }
 ],
 "metadata": {
  "kernelspec": {
   "display_name": "Python 3",
   "language": "python",
   "name": "python3"
  },
  "language_info": {
   "codemirror_mode": {
    "name": "ipython",
    "version": 3
   },
   "file_extension": ".py",
   "mimetype": "text/x-python",
   "name": "python",
   "nbconvert_exporter": "python",
   "pygments_lexer": "ipython3",
   "version": "3.7.1"
  }
 },
 "nbformat": 4,
 "nbformat_minor": 2
}
