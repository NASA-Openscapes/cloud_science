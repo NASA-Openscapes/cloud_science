{
 "cells": [
  {
   "cell_type": "markdown",
   "metadata": {},
   "source": [
    "# The fun part: Scientific & Numerical Data Structures\n",
    "Although `Python` was not originally designed for scientific data, its community-based and free nature allowed for the development of packages and libraries that handle it nicely & efficiently. \n",
    "\n",
    "## Beyond the data types and collections we already seen, scientific computation need specific data structures, as we want to be able to handle (efficiently):\n",
    "- large amounts of data\n",
    "- multiple dimensions\n",
    "- mathematical and statistical operation over parts or the whole data set\n",
    "- metadata and data attributes"
   ]
  },
  {
   "cell_type": "markdown",
   "metadata": {},
   "source": [
    "### Here we will use these basic modules of scientific & numerical computing: `math`, `scipy`, `numpy`, `pandas`, `xarray` & `matplotlib`\n",
    "\n",
    "Note: these packages are also referred as libraries or modules"
   ]
  },
  {
   "cell_type": "markdown",
   "metadata": {},
   "source": [
    "*** \n",
    "## `math` module\n",
    "Basic math operation (as methods or functions) and numbers (as attributes)\n",
    "\n",
    "<div class=\"alert alert-block alert-info\">\n",
    "    - Execute the code below to try different ways to import the <b>math</b> module. \n",
    "    <br>\n",
    "</div>"
   ]
  },
  {
   "cell_type": "code",
   "execution_count": null,
   "metadata": {},
   "outputs": [],
   "source": [
    "import math \n",
    "import math as m\n",
    "from math import pi\n",
    "print(math.pi, m.pi, pi,'\\n\\n')"
   ]
  },
  {
   "cell_type": "markdown",
   "metadata": {},
   "source": [
    "<div class=\"alert alert-block alert-info\">\n",
    "    - Try the next code to use some functions from the math module\n",
    "</div>"
   ]
  },
  {
   "cell_type": "code",
   "execution_count": null,
   "metadata": {},
   "outputs": [],
   "source": [
    "rads = 2*pi\n",
    "degrees = math.degrees(rads)\n",
    "print('{} radians is equal to {} degrees'.format(rads,m.floor(degrees)))"
   ]
  },
  {
   "cell_type": "markdown",
   "metadata": {},
   "source": [
    "***\n",
    "## `SciPy` is a mathematics, science & engineering ecosystem in `Python`. \n",
    "## It is also the name of the library which contains core numerical routines.\n",
    "<img src='images/scipy_logo.png' width=300>\n",
    "\n",
    "## Within this ecosystem, we will use three basic modules: numpy, pandas, & matplotlib. `SciPy` library is integrated with these packages."
   ]
  },
  {
   "cell_type": "markdown",
   "metadata": {},
   "source": [
    "***\n",
    "<img src='images/numpy_logo.jpeg' width=300>\n",
    "\n",
    "## `NumPy` is the basic scientific module in `Python`. Its most important characteristics: \n",
    "\n",
    "- Multi-dimensional arrays objects (ordered, changeable, allows duplicates)\n",
    "- Broadcasting functions\n",
    "\n",
    "<div class=\"alert alert-block alert-info\">\n",
    "    - Execute the code in the next cell to import numpy and define two arrays\n",
    "    <br>\n",
    "    - Print both objects\n",
    "    <br>\n",
    "    - Print the type of object of <b>a</b>\n",
    "    <br>\n",
    "    - Print the element of <b>b</b> equal to 7, using the indexing <b>b[row,column]</b>. Remember that indices start at 0"
   ]
  },
  {
   "cell_type": "code",
   "execution_count": null,
   "metadata": {},
   "outputs": [],
   "source": [
    "import numpy as np\n",
    "a=np.ones((3,5))\n",
    "b=np.arange(15).reshape(3,5)"
   ]
  },
  {
   "cell_type": "code",
   "execution_count": null,
   "metadata": {},
   "outputs": [],
   "source": []
  },
  {
   "cell_type": "markdown",
   "metadata": {},
   "source": [
    "<div class=\"alert alert-block alert-info\">\n",
    "    - Print the following attributes of the defined <b>numpy</b> objects: ndim, shape\n",
    "    <br>\n",
    "    - Print the output of the following methods of a <b>numpy</b> object: max(), max(axis=0), sum()\n",
    "</div>"
   ]
  },
  {
   "cell_type": "code",
   "execution_count": null,
   "metadata": {},
   "outputs": [],
   "source": []
  },
  {
   "cell_type": "markdown",
   "metadata": {},
   "source": [
    "<div class=\"alert alert-block alert-info\">\n",
    "    - Try an elementwise operation between <b>a</b> & <b>b</b>, like + or *\n",
    "</div>\n"
   ]
  },
  {
   "cell_type": "markdown",
   "metadata": {},
   "source": [
    "### Indexing a `numpy` array\n",
    "Numpy indexing is very logical. Just remember that indices start at zero.\n",
    "<div class=\"alert alert-block alert-info\">\n",
    "    - Run the code in the following cell\n",
    "    <br>\n",
    "    - Then add the necessary the code to print the correct element(s) in the next cell\n",
    "    <br>\n",
    "    <b>Hint:</b> Use <b>-1</b> to indicate the last element, and <b>n:</b> or <b>:n</b> for \"n to end\" & \"first to n\" elements\n",
    "</div>"
   ]
  },
  {
   "cell_type": "code",
   "execution_count": null,
   "metadata": {},
   "outputs": [],
   "source": [
    "c=a+b\n",
    "print('Entire array')\n",
    "print(c)\n",
    "print('Second row')\n",
    "print(c[1])\n",
    "print('First column')\n",
    "print(c[:,0])"
   ]
  },
  {
   "cell_type": "code",
   "execution_count": null,
   "metadata": {},
   "outputs": [],
   "source": [
    "# print the second element in the first row\n",
    "\n",
    "# print the last two elements of the second column\n",
    "\n",
    "# print the element last column\n",
    "\n",
    "# use the syntaxis c[[r1,r2],[c1,c2]] to print first and last elements of the array\n"
   ]
  },
  {
   "cell_type": "markdown",
   "metadata": {},
   "source": [
    "***\n",
    "<img src='images/pandas-logo.png' width=300>\n",
    "\n",
    "## `Pandas` is a package for high-performance data structures. \n",
    "### Best characteristics include the use of :\n",
    "- 2-D Tables\n",
    "- Indexing by labels and numerical indices\n",
    "\n",
    "### Building a `pandas` dataframe start with defining `Series` that will become the (column-wise) data in a `DataFrame`\n",
    "<div class=\"alert alert-block alert-info\">\n",
    "    -Try the code in the next cells\n",
    "</div"
   ]
  },
  {
   "cell_type": "code",
   "execution_count": null,
   "metadata": {},
   "outputs": [],
   "source": [
    "import pandas as pd\n",
    "s=pd.Series(np.arange(5), index=['a', 'b', 'c', 'd', 'e'])\n",
    "print(s)"
   ]
  },
  {
   "cell_type": "markdown",
   "metadata": {},
   "source": [
    "## Now lets create a `DataFrame`\n",
    "### We need to define our elements as a dictionary first, and then create the DataFrame"
   ]
  },
  {
   "cell_type": "code",
   "execution_count": null,
   "metadata": {},
   "outputs": [],
   "source": [
    "# Dictionary - 2D\n",
    "d = {'A':s, 'B':pd.Series([5,6,3,4,1],index=['a', 'b', 'c', 'd', 'e'])}\n",
    "print(d)\n",
    "print(type(d))\n",
    "# Creating the DataFrame\n",
    "print('\\n*** DataFrame ***\\n')\n",
    "df = pd.DataFrame(d)\n",
    "print(df)"
   ]
  },
  {
   "cell_type": "markdown",
   "metadata": {},
   "source": [
    "### Creating a DataFrame from a np.array"
   ]
  },
  {
   "cell_type": "code",
   "execution_count": null,
   "metadata": {},
   "outputs": [],
   "source": [
    "df2 = pd.DataFrame(np.arange(15).reshape(3,5),index=['a','b','c'],columns=['c1','c2','c3','c4','c5'])\n",
    "print(df2)"
   ]
  },
  {
   "cell_type": "markdown",
   "metadata": {},
   "source": [
    "### Finally, accesing the data in a `DataFrame`"
   ]
  },
  {
   "cell_type": "code",
   "execution_count": null,
   "metadata": {},
   "outputs": [],
   "source": [
    "print('Second column')\n",
    "print(df2.c2)\n",
    "print('\\nFirst column')\n",
    "print(df2['c1']) \n",
    "print('\\nAdding column')\n",
    "df2['R']=df2.c2+df2.c3\n",
    "print(df2)"
   ]
  },
  {
   "cell_type": "markdown",
   "metadata": {},
   "source": [
    "<img src='images/xarray-logo-square.png' width=300>\n",
    "\n",
    "## `xarray` is another, more sophsiticated package for scientific computing\n",
    "### Objects are multidimensional & labelled arrays ... and the labels are not only in dimension form, but can also be coordinates \n",
    "### `xarray` objects is modeled based on `netcdf` file format; they have metadata & attributes"
   ]
  }
 ],
 "metadata": {
  "kernelspec": {
   "display_name": "Python 3",
   "language": "python",
   "name": "python3"
  },
  "language_info": {
   "codemirror_mode": {
    "name": "ipython",
    "version": 3
   },
   "file_extension": ".py",
   "mimetype": "text/x-python",
   "name": "python",
   "nbconvert_exporter": "python",
   "pygments_lexer": "ipython3",
   "version": "3.7.1"
  }
 },
 "nbformat": 4,
 "nbformat_minor": 2
}
