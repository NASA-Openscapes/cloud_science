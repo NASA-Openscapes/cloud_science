{
 "cells": [
  {
   "cell_type": "markdown",
   "metadata": {},
   "source": [
    "# The fun part: Scientific & Numerical Data Structures\n",
    "Although `Python` was not originally designed for scientific data, its community-based and free nature allowed for the development of packages and libraries that handle it nicely & efficiently. \n",
    "\n",
    "## Beyond the data types and collections we already seen, scientific computation need specific data structures, as we want to be able to handle (efficiently):\n",
    "- large amounts of data\n",
    "- multiple dimensions\n",
    "- mathematical and statistical operation over parts or the whole data set\n",
    "- metadata and data attributes"
   ]
  },
  {
   "cell_type": "markdown",
   "metadata": {},
   "source": [
    "### Here we will use these basic modules of scientific & numerical computing: `math`, `scipy`, `numpy`, `pandas`, `xarray` & `matplotlib`\n",
    "\n",
    "Note: these packages are also referred as libraries or modules"
   ]
  },
  {
   "cell_type": "markdown",
   "metadata": {},
   "source": [
    "*** \n",
    "## `math` module\n",
    "Basic math operation (as methods or functions) and numbers (as attributes)\n",
    "\n",
    "<div class=\"alert alert-block alert-info\">\n",
    "    - Execute the code below to try different ways to import the <b>math</b> module. \n",
    "    <br>\n",
    "</div>"
   ]
  },
  {
   "cell_type": "code",
   "execution_count": null,
   "metadata": {},
   "outputs": [],
   "source": [
    "import math \n",
    "import math as m\n",
    "from math import pi\n",
    "print(math.pi, m.pi, pi,'\\n\\n')"
   ]
  },
  {
   "cell_type": "markdown",
   "metadata": {},
   "source": [
    "<div class=\"alert alert-block alert-info\">\n",
    "    - Try the next code to use some functions from the math module\n",
    "</div>"
   ]
  },
  {
   "cell_type": "code",
   "execution_count": null,
   "metadata": {},
   "outputs": [],
   "source": [
    "rads = 2*pi\n",
    "degrees = math.degrees(rads)\n",
    "print('{} radians is equal to {} degrees'.format(rads,m.floor(degrees)))"
   ]
  },
  {
   "cell_type": "markdown",
   "metadata": {},
   "source": [
    "***\n",
    "## `SciPy` is a mathematics, science & engineering ecosystem in `Python`. \n",
    "## It is also the name of the library which contains core numerical routines.\n",
    "<img src='images/scipy_logo.png' width=300>\n",
    "\n",
    "## Within this ecosystem, we will use three basic modules: numpy, pandas, & matplotlib. `SciPy` library is integrated with these packages."
   ]
  },
  {
   "cell_type": "markdown",
   "metadata": {},
   "source": [
    "***\n",
    "<img src='images/numpy_logo.jpeg' width=300>\n",
    "\n",
    "## `NumPy` is the basic scientific module in `Python`. Its most important characteristics: \n",
    "\n",
    "- Multi-dimensional arrays objects (ordered, changeable, allows duplicates)\n",
    "- Broadcasting functions"
   ]
  },
  {
   "cell_type": "markdown",
   "metadata": {},
   "source": [
    "<img src='images/pandas-logo.png' width=300>\n",
    "\n",
    "## `Pandas` is a package for high-performance data structures. \n",
    "### Best characteristics include the use of :\n",
    "- 2-D Tables\n",
    "- Indexing by labels and numerical indices"
   ]
  },
  {
   "cell_type": "markdown",
   "metadata": {},
   "source": [
    "<img src='images/xarray-logo-square.png' width=300>\n",
    "\n",
    "## `xarray` is another, more sophsiticated package for scientific computing\n",
    "### Objects are multidimensional & labelled arrays ... and the labels are not only in dimension form, but can also be coordinates \n",
    "### `xarray` objects is modeled based on `netcdf` file format; they have metadata & attributes"
   ]
  }
 ],
 "metadata": {
  "kernelspec": {
   "display_name": "Python 3",
   "language": "python",
   "name": "python3"
  },
  "language_info": {
   "codemirror_mode": {
    "name": "ipython",
    "version": 3
   },
   "file_extension": ".py",
   "mimetype": "text/x-python",
   "name": "python",
   "nbconvert_exporter": "python",
   "pygments_lexer": "ipython3",
   "version": "3.7.1"
  }
 },
 "nbformat": 4,
 "nbformat_minor": 2
}
