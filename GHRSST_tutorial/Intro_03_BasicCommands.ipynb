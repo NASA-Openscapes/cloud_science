{
 "cells": [
  {
   "cell_type": "markdown",
   "metadata": {
    "slideshow": {
     "slide_type": "slide"
    }
   },
   "source": [
    "# Basic `Python`\n",
    "We are going to learn the most basic commands of Python. The objective is not to teach you to program, but to learn the syntaxis of the language & recongnize it throught the next notebooks\n",
    "<br><br>\n",
    "At the end of this notebook you can find some links to more comprehensible tutorials & references"
   ]
  },
  {
   "cell_type": "markdown",
   "metadata": {
    "slideshow": {
     "slide_type": "slide"
    }
   },
   "source": [
    "## Basic operations \n",
    "### +, -, \\*, /, **\n",
    "<div class=\"alert alert-block alert-info\">\n",
    "    - Define two integer variables & print the result of basic operations\n",
    "</div>"
   ]
  },
  {
   "cell_type": "code",
   "execution_count": null,
   "metadata": {
    "scrolled": true,
    "slideshow": {
     "slide_type": "fragment"
    }
   },
   "outputs": [],
   "source": []
  },
  {
   "cell_type": "markdown",
   "metadata": {},
   "source": [
    "### Operations over the same variables can be simplified by adding the operand before the `=`, like this:\n",
    "x += 1"
   ]
  },
  {
   "cell_type": "markdown",
   "metadata": {},
   "source": [
    "<div class=\"alert alert-block alert-info\">\n",
    "    - Execute the code in the cell below & print <b>x</b> & <b>y</b> final values\n",
    "</div>"
   ]
  },
  {
   "cell_type": "code",
   "execution_count": 1,
   "metadata": {},
   "outputs": [
    {
     "name": "stdout",
     "output_type": "stream",
     "text": [
      "3 4\n"
     ]
    }
   ],
   "source": [
    "x, y = 3, 4\n",
    "print(x,y)\n",
    "x += 1\n",
    "y /= 2"
   ]
  },
  {
   "cell_type": "markdown",
   "metadata": {
    "slideshow": {
     "slide_type": "slide"
    }
   },
   "source": [
    "*** \n",
    "## `for` loops\n",
    "Can iterate on any list. \n",
    "<br>\n",
    "#### Note the indentation in the line after the `for` command.  This position indicates which lines belong to the `for` loop.\n",
    "The print statement is no longer being looped on because it has no indent.\n",
    "<div class=\"alert alert-block alert-info\">\n",
    "    Execute the code below \n",
    "</div>"
   ]
  },
  {
   "cell_type": "code",
   "execution_count": 2,
   "metadata": {
    "slideshow": {
     "slide_type": "fragment"
    }
   },
   "outputs": [
    {
     "name": "stdout",
     "output_type": "stream",
     "text": [
      "10\n",
      "49\n",
      "24\n",
      "6\n",
      "hello\n",
      "[10, 49, 24, '6', 'hello']\n"
     ]
    }
   ],
   "source": [
    "somelist = [10,49,24, '6','hello']\n",
    "for item in somelist:\n",
    "    print(item)\n",
    "print(somelist)"
   ]
  },
  {
   "cell_type": "markdown",
   "metadata": {
    "slideshow": {
     "slide_type": "fragment"
    }
   },
   "source": [
    "###  A list can also be just of numbers, and we can build a list using the function `range`:\n",
    "#### range(start, end, step)  \n",
    "<br><i>Note: the end is non-inclusive</i>\n",
    "\n",
    "<div class=\"alert alert-block alert-info\">\n",
    "    - Execute the code below\n",
    "    <br>\n",
    "    - Replace <b>somelist</b> in the <b>for</b> loop with: <b>range(0,41,5)</b>, and execute the code again\n",
    "    <br>\n",
    "    - Change the start, end or step and execute the code again\n",
    "</div"
   ]
  },
  {
   "cell_type": "code",
   "execution_count": 3,
   "metadata": {
    "slideshow": {
     "slide_type": "fragment"
    }
   },
   "outputs": [
    {
     "name": "stdout",
     "output_type": "stream",
     "text": [
      "0\n",
      "5\n",
      "10\n",
      "15\n",
      "20\n",
      "25\n",
      "30\n",
      "35\n",
      "40\n"
     ]
    }
   ],
   "source": [
    "somelist = [0, 5, 10, 15, 20, 25, 30, 35, 40]\n",
    "for item in somelist:\n",
    "    print(item)"
   ]
  },
  {
   "cell_type": "markdown",
   "metadata": {
    "slideshow": {
     "slide_type": "fragment"
    }
   },
   "source": [
    "<div class=\"alert alert-block alert-info\">\n",
    "    - Try <b>range(10)</b> instead"
   ]
  },
  {
   "cell_type": "markdown",
   "metadata": {
    "slideshow": {
     "slide_type": "slide"
    }
   },
   "source": [
    "## Sometimes we want the index and the value of each element on a list\n",
    "### The command `enumerate` gives you both\n",
    "<div class=\"alert alert-block alert-info\">\n",
    "    - Execute the code below\n",
    "    <br>\n",
    "    - Then try with <b>range(10)</b> instead\n",
    "</div>\n",
    "<br>Note the use of <b>{ }</b> and <b>.format</b> to print <b>inx</b> and <b>item</b>"
   ]
  },
  {
   "cell_type": "code",
   "execution_count": 4,
   "metadata": {
    "slideshow": {
     "slide_type": "fragment"
    }
   },
   "outputs": [
    {
     "name": "stdout",
     "output_type": "stream",
     "text": [
      "index 0, value = 0\n",
      "index 1, value = 5\n",
      "index 2, value = 10\n",
      "index 3, value = 15\n",
      "index 4, value = 20\n",
      "index 5, value = 25\n",
      "index 6, value = 30\n",
      "index 7, value = 35\n",
      "index 8, value = 40\n"
     ]
    }
   ],
   "source": [
    "for inx,item in enumerate(range(0,41,5)):\n",
    "    print('index {}, value = {}'.format(inx,item))"
   ]
  },
  {
   "cell_type": "markdown",
   "metadata": {
    "slideshow": {
     "slide_type": "slide"
    }
   },
   "source": [
    "***\n",
    "# conditionals: `if`, `elif`, `else` \n",
    "### Coditional operators can be used to compare different types of variables or to test logical statements. \n",
    "\n",
    "- The basic operator to compare numerical values are: ==, !=, <, >, >=, <=\n",
    "- The logical operators are: and, or, not\n",
    "- and the use of conditional operators are exemplified in the next cell\n",
    "\n",
    "####    Note the indentation again\n",
    "<div class=\"alert alert-block alert-info\">\n",
    "- Execute the next cell\n",
    "<br>\n",
    "- Test different comparison operators and logical operators and execute\n",
    "    </div>"
   ]
  },
  {
   "cell_type": "code",
   "execution_count": 5,
   "metadata": {},
   "outputs": [
    {
     "name": "stdout",
     "output_type": "stream",
     "text": [
      "warm\n"
     ]
    }
   ],
   "source": [
    "x = 12\n",
    "if (x <= 10) or (x >= 20):\n",
    "    print('cold')\n",
    "elif x == 15:\n",
    "    print('hot')\n",
    "else:\n",
    "    print('warm')"
   ]
  },
  {
   "cell_type": "markdown",
   "metadata": {},
   "source": [
    "***\n",
    "***\n",
    "\n",
    "## Resources\n",
    "https://www.w3schools.com/python/default.asp\n",
    "<br>\n",
    "https://docs.scipy.org/doc/numpy/user/quickstart.html"
   ]
  }
 ],
 "metadata": {
  "kernelspec": {
   "display_name": "Python 3",
   "language": "python",
   "name": "python3"
  },
  "language_info": {
   "codemirror_mode": {
    "name": "ipython",
    "version": 3
   },
   "file_extension": ".py",
   "mimetype": "text/x-python",
   "name": "python",
   "nbconvert_exporter": "python",
   "pygments_lexer": "ipython3",
   "version": "3.7.1"
  }
 },
 "nbformat": 4,
 "nbformat_minor": 2
}
