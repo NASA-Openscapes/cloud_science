{
 "cells": [
  {
   "cell_type": "markdown",
   "metadata": {
    "slideshow": {
     "slide_type": "slide"
    }
   },
   "source": [
    "# Data types & Structures"
   ]
  },
  {
   "cell_type": "markdown",
   "metadata": {
    "slideshow": {
     "slide_type": "fragment"
    }
   },
   "source": [
    "### A great advatage of `Python` is the type of data it can handle & combine\n",
    "Python has been widely used to handle internet related operations, which means lots and lots of text and numbers. combined!"
   ]
  },
  {
   "cell_type": "markdown",
   "metadata": {},
   "source": [
    "***"
   ]
  },
  {
   "cell_type": "markdown",
   "metadata": {
    "slideshow": {
     "slide_type": "slide"
    }
   },
   "source": [
    "## Let's start with the basic types!\n",
    "### Like other programing languages, `Python` data types include integers, floats, complex, and strings & boolean"
   ]
  },
  {
   "cell_type": "markdown",
   "metadata": {},
   "source": [
    "<div class=\"alert alert-block alert-info\">\n",
    "    In the next cell, assing a float value to <b>x</b> and execute the cell\n",
    "</div>"
   ]
  },
  {
   "cell_type": "code",
   "execution_count": 1,
   "metadata": {
    "slideshow": {
     "slide_type": "fragment"
    }
   },
   "outputs": [
    {
     "name": "stdout",
     "output_type": "stream",
     "text": [
      "4.2\n"
     ]
    }
   ],
   "source": [
    "x = 4.2\n",
    "print(x)"
   ]
  },
  {
   "cell_type": "markdown",
   "metadata": {},
   "source": [
    "<div class=\"alert alert-block alert-info\">\n",
    "    Assing an integer value to <b>y</b> and execute the cell\n",
    "</div>"
   ]
  },
  {
   "cell_type": "code",
   "execution_count": 2,
   "metadata": {},
   "outputs": [
    {
     "name": "stdout",
     "output_type": "stream",
     "text": [
      "6 25.200000000000003\n"
     ]
    }
   ],
   "source": [
    "y = 6\n",
    "print(y, x*y)"
   ]
  },
  {
   "cell_type": "markdown",
   "metadata": {},
   "source": [
    "### Complex values are identified by a `j` at the end\n",
    "<div class=\"alert alert-block alert-info\">\n",
    "    Assing a complex value to <b>z</b> and execute the cell\n",
    "</div>"
   ]
  },
  {
   "cell_type": "code",
   "execution_count": 3,
   "metadata": {},
   "outputs": [
    {
     "name": "stdout",
     "output_type": "stream",
     "text": [
      "7j <class 'complex'>\n"
     ]
    }
   ],
   "source": [
    "z = 7j\n",
    "print(z, type(z))"
   ]
  },
  {
   "cell_type": "markdown",
   "metadata": {},
   "source": [
    "### Variables can be reassigned to other types anytime\n",
    "<div class=\"alert alert-block alert-info\">\n",
    "    Execute the next cell\n",
    "</div>"
   ]
  },
  {
   "cell_type": "code",
   "execution_count": 4,
   "metadata": {},
   "outputs": [
    {
     "name": "stdout",
     "output_type": "stream",
     "text": [
      "Hello World!\n",
      "True\n"
     ]
    }
   ],
   "source": [
    "x = 'Hello World!'  \n",
    "print(x)\n",
    "y = True\n",
    "print(y)"
   ]
  },
  {
   "cell_type": "markdown",
   "metadata": {},
   "source": [
    "<div class=\"alert alert-block alert-info\">\n",
    "    Define your own string and boolean variables and print their type in the next cell\n",
    "</div>"
   ]
  },
  {
   "cell_type": "code",
   "execution_count": 1,
   "metadata": {},
   "outputs": [
    {
     "name": "stdout",
     "output_type": "stream",
     "text": [
      "<class 'str'>\n",
      "<class 'bool'>\n"
     ]
    }
   ],
   "source": [
    "x = 'Hola a todos!'  \n",
    "print(type(x))\n",
    "y = False\n",
    "print(type(y))"
   ]
  },
  {
   "cell_type": "markdown",
   "metadata": {
    "slideshow": {
     "slide_type": "fragment"
    }
   },
   "source": [
    "## One of the best types: datetime!\n",
    "<div class=\"alert alert-block alert-info\">\n",
    "    - Execute the code in the next cell to define two datetime variables: <b>today1</b> & <b>today2</b>\n",
    "</div>"
   ]
  },
  {
   "cell_type": "code",
   "execution_count": 7,
   "metadata": {
    "slideshow": {
     "slide_type": "fragment"
    }
   },
   "outputs": [],
   "source": [
    "from datetime import date # call date function inside the datetime package\n",
    "today1 = date.today()\n",
    "from datetime import datetime # call datetime function inside the datetime package\n",
    "today2 = datetime.now()"
   ]
  },
  {
   "cell_type": "markdown",
   "metadata": {},
   "source": [
    "<div class=\"alert alert-block alert-info\">\n",
    "    - Now print both variables\n",
    "    <br>\n",
    "    - Try printing <b>today1.month</b>\n",
    "    <br>\n",
    "    - Try printing the following <b>today2.strftime('%c')</b>\n",
    "    <br>\n",
    "    - Now print the type of one of your date variables\n",
    "</div> \n",
    "<br>Note that the use <b>.</b> after a variable. This refers to a method of the variable or, as Python refers to, the object"
   ]
  },
  {
   "cell_type": "code",
   "execution_count": 10,
   "metadata": {},
   "outputs": [
    {
     "name": "stdout",
     "output_type": "stream",
     "text": [
      "2019-05-22\n",
      "2019-05-22 21:39:27.226765\n",
      "5\n",
      "Wed May 22 21:39:27 2019\n",
      "<class 'datetime.date'>\n"
     ]
    }
   ],
   "source": [
    "print(today1)\n",
    "print(today2)\n",
    "print(today1.month)\n",
    "print(today2.strftime('%c'))\n",
    "print(type(today1))"
   ]
  },
  {
   "cell_type": "markdown",
   "metadata": {},
   "source": [
    "We will use other functions of the datetime package later, and you could find more details about the attributes of the datetime object (variable): https://www.guru99.com/date-time-and-datetime-classes-in-python.html\n",
    "***"
   ]
  },
  {
   "cell_type": "markdown",
   "metadata": {
    "slideshow": {
     "slide_type": "slide"
    }
   },
   "source": [
    "## Python has a some basic data collections that we need to know about:\n",
    "    List - ordered, changeable, allows duplicates\n",
    "    Tuple - ordered, unchangeable, allows duplicates\n",
    "    Set - unordered, unindexed, no duplicates\n",
    "    Dictionary - unordered, changeable, no duplicates allowed\n",
    "***"
   ]
  },
  {
   "cell_type": "markdown",
   "metadata": {},
   "source": [
    "## Lists: ordered, changeable, allows dupplicates\n",
    "<div class=\"alert alert-block alert-info\">\n",
    "    - Execute the code below and print the list\n",
    "    <br>\n",
    "    - Print the type of <b>mylist</b>\n",
    "</div>"
   ]
  },
  {
   "cell_type": "code",
   "execution_count": 2,
   "metadata": {},
   "outputs": [
    {
     "name": "stdout",
     "output_type": "stream",
     "text": [
      "<class 'list'>\n"
     ]
    }
   ],
   "source": [
    "mylist=['penguin', 'killer whale', 'anchovy']  # note the use of [ ]\n",
    "print(type(mylist))"
   ]
  },
  {
   "cell_type": "markdown",
   "metadata": {},
   "source": [
    "### To access an element of a list we use the indices, that start at `0`\n",
    "<div class=\"alert alert-block alert-info\">\n",
    "    - Try printing: <b>mylist[0]</b>\n",
    "    <br>\n",
    "    - Now try reassigning the value of the second value to <b>'orca'</b>\n",
    "</div>"
   ]
  },
  {
   "cell_type": "code",
   "execution_count": 12,
   "metadata": {},
   "outputs": [
    {
     "name": "stdout",
     "output_type": "stream",
     "text": [
      "penguin\n",
      "['penguin', 'orca', 'anchovy']\n"
     ]
    }
   ],
   "source": [
    "print(mylist[0])\n",
    "mylist[1]='orca'\n",
    "print(mylist)"
   ]
  },
  {
   "cell_type": "markdown",
   "metadata": {},
   "source": [
    "### To add an element to the list use the method append\n",
    "<div class=\"alert alert-block alert-info\">\n",
    "    - Try <b>mylist.append('octopus')</b>\n",
    "    <br>\n",
    "    - Then execute the next cell to print the entire list with a for loop\n",
    "</div>"
   ]
  },
  {
   "cell_type": "code",
   "execution_count": 13,
   "metadata": {},
   "outputs": [],
   "source": [
    "mylist.append('octopus')"
   ]
  },
  {
   "cell_type": "code",
   "execution_count": 14,
   "metadata": {},
   "outputs": [
    {
     "name": "stdout",
     "output_type": "stream",
     "text": [
      "penguin is a marine animal\n",
      "orca is a marine animal\n",
      "anchovy is a marine animal\n",
      "octopus is a marine animal\n"
     ]
    }
   ],
   "source": [
    "for animal in mylist:\n",
    "    print(animal+\" is a marine animal\")"
   ]
  },
  {
   "cell_type": "markdown",
   "metadata": {},
   "source": [
    "### Copying a list (or another object) needs to be done explicitely, other wise is just a new name for your variable\n",
    "<div class=\"alert alert-block alert-info\">\n",
    "    - Try these two codes:\n",
    "    <br>\n",
    "       <b>   yourlist1 = mylist.copy()</b>\n",
    "    <br>\n",
    "       <b>   yourlist2 = mylist</b>\n",
    "    <br>\n",
    "    - Then modify <b>yourlist1</b> and print it along with <b>mylist</b>\n",
    "    <br>\n",
    "    - Now modify <b>yourlist2</b> and print it along with <b>mylist</b>\n",
    "</div>"
   ]
  },
  {
   "cell_type": "code",
   "execution_count": 16,
   "metadata": {},
   "outputs": [
    {
     "name": "stdout",
     "output_type": "stream",
     "text": [
      "['penguin', 'orca', 'anchovy', 'octopus']\n",
      "['dolphin', 'orca', 'anchovy', 'octopus']\n"
     ]
    }
   ],
   "source": [
    "yourlist1 = mylist.copy()\n",
    "yourlist2 = mylist\n",
    "yourlist1[0] = 'jellyfish'\n",
    "print(mylist)\n",
    "yourlist2[0] = 'dolphin'\n",
    "print(mylist)"
   ]
  },
  {
   "cell_type": "markdown",
   "metadata": {},
   "source": [
    "***\n",
    "## Tuples: ordered, unchangeable, allows duplicates\n",
    "<div class=\"alert alert-block alert-info\">\n",
    "    - Execute the code below and print the tuple\n",
    "    <br>\n",
    "    - Print the type of <b>mytuple</b>\n",
    "    <br>\n",
    "    - Print one element of <b>mytuple</b>\n",
    "</div>"
   ]
  },
  {
   "cell_type": "code",
   "execution_count": 3,
   "metadata": {},
   "outputs": [
    {
     "name": "stdout",
     "output_type": "stream",
     "text": [
      "('sardine', 'salmon', 'tuna')\n",
      "<class 'tuple'>\n",
      "sardine\n"
     ]
    }
   ],
   "source": [
    "mytuple = ('sardine', 'salmon', 'tuna')  # note the use of ( )\n",
    "print(mytuple)\n",
    "print(type(mytuple))\n",
    "print(mytuple[0])"
   ]
  },
  {
   "cell_type": "markdown",
   "metadata": {},
   "source": [
    "<div class=\"alert alert-block alert-info\">\n",
    "    - Now try reassigning an element of <b>mytuple</b>\n",
    "</div>"
   ]
  },
  {
   "cell_type": "code",
   "execution_count": 18,
   "metadata": {},
   "outputs": [
    {
     "ename": "TypeError",
     "evalue": "'tuple' object does not support item assignment",
     "output_type": "error",
     "traceback": [
      "\u001b[0;31m---------------------------------------------------------------------------\u001b[0m",
      "\u001b[0;31mTypeError\u001b[0m                                 Traceback (most recent call last)",
      "\u001b[0;32m<ipython-input-18-ddbf6b83a8d9>\u001b[0m in \u001b[0;36m<module>\u001b[0;34m\u001b[0m\n\u001b[0;32m----> 1\u001b[0;31m \u001b[0mmytuple\u001b[0m\u001b[0;34m[\u001b[0m\u001b[0;36m0\u001b[0m\u001b[0;34m]\u001b[0m\u001b[0;34m=\u001b[0m\u001b[0;34m'a'\u001b[0m\u001b[0;34m\u001b[0m\u001b[0;34m\u001b[0m\u001b[0m\n\u001b[0m",
      "\u001b[0;31mTypeError\u001b[0m: 'tuple' object does not support item assignment"
     ]
    }
   ],
   "source": [
    "mytuple[0]='a'"
   ]
  },
  {
   "cell_type": "markdown",
   "metadata": {},
   "source": [
    "***\n",
    "## Sets: unordered, unindexed, no duplicates\n",
    "<div class=\"alert alert-block alert-info\">\n",
    "    - Execute the code below\n",
    "    <br>\n",
    "    - Try printing an element of <b>myset</b>\n",
    "</div>"
   ]
  },
  {
   "cell_type": "code",
   "execution_count": 20,
   "metadata": {},
   "outputs": [
    {
     "name": "stdout",
     "output_type": "stream",
     "text": [
      "herring\n",
      "anchovy\n",
      "sardine\n"
     ]
    },
    {
     "ename": "TypeError",
     "evalue": "'set' object does not support indexing",
     "output_type": "error",
     "traceback": [
      "\u001b[0;31m---------------------------------------------------------------------------\u001b[0m",
      "\u001b[0;31mTypeError\u001b[0m                                 Traceback (most recent call last)",
      "\u001b[0;32m<ipython-input-20-3aff9a0b97b0>\u001b[0m in \u001b[0;36m<module>\u001b[0;34m\u001b[0m\n\u001b[1;32m      2\u001b[0m \u001b[0;32mfor\u001b[0m \u001b[0mfish\u001b[0m \u001b[0;32min\u001b[0m \u001b[0mmyset\u001b[0m\u001b[0;34m:\u001b[0m\u001b[0;34m\u001b[0m\u001b[0;34m\u001b[0m\u001b[0m\n\u001b[1;32m      3\u001b[0m     \u001b[0mprint\u001b[0m\u001b[0;34m(\u001b[0m\u001b[0mfish\u001b[0m\u001b[0;34m)\u001b[0m \u001b[0;31m# not the printing order\u001b[0m\u001b[0;34m\u001b[0m\u001b[0;34m\u001b[0m\u001b[0m\n\u001b[0;32m----> 4\u001b[0;31m \u001b[0mprint\u001b[0m\u001b[0;34m(\u001b[0m\u001b[0mmyset\u001b[0m\u001b[0;34m[\u001b[0m\u001b[0;36m0\u001b[0m\u001b[0;34m]\u001b[0m\u001b[0;34m)\u001b[0m\u001b[0;34m\u001b[0m\u001b[0;34m\u001b[0m\u001b[0m\n\u001b[0m",
      "\u001b[0;31mTypeError\u001b[0m: 'set' object does not support indexing"
     ]
    }
   ],
   "source": [
    "myset = {'anchovy','sardine','herring'}\n",
    "for fish in myset:\n",
    "    print(fish) # not the printing order\n",
    "print(myset[0])"
   ]
  },
  {
   "cell_type": "markdown",
   "metadata": {},
   "source": [
    "*** \n",
    "## Dictionaries: unordered, changeable, no duplicates allowed\n",
    "### Indexed pair of keys and values\n",
    "<div class=\"alert alert-block alert-info\">\n",
    "    - Execute the code below, and print the dictionary\n",
    "    <br>\n",
    "    - Add a new element to <b>mydict</b> with <b>mydict['climbed']='no'</b>\n",
    "    <br>\n",
    "    - Print one element of <b>mydict</b>. <i>Hint: the key is the key</i> \n",
    "</div>"
   ]
  },
  {
   "cell_type": "code",
   "execution_count": 21,
   "metadata": {},
   "outputs": [],
   "source": [
    "mydict = {'name': 'everest', 'altitude':8848,'continent': 'asia'}"
   ]
  },
  {
   "cell_type": "code",
   "execution_count": 24,
   "metadata": {},
   "outputs": [
    {
     "name": "stdout",
     "output_type": "stream",
     "text": [
      "{'name': 'everest', 'altitude': 8848, 'continent': 'asia', 'climbed': 'no'}\n",
      "everest\n"
     ]
    }
   ],
   "source": [
    "mydict['climbed']='no'\n",
    "print(mydict)\n",
    "print(mydict['name'])"
   ]
  },
  {
   "cell_type": "markdown",
   "metadata": {
    "slideshow": {
     "slide_type": "slide"
    }
   },
   "source": [
    "Certain libraries have specific data structures - arrays, data frames, and datasets\n",
    "examples of each, but we will go back talking about each library."
   ]
  },
  {
   "cell_type": "markdown",
   "metadata": {},
   "source": [
    "***\n",
    "***\n",
    "# Few words about `Objects`, `Attributes` & `Methods`\n",
    "## `Python` is an object oriented programming language. This means almost everything is an object or instances of a class. Variables are objects. And therefore they have `attributes` & `methods`\n",
    "\n",
    "### `Properties` or `Attributes` are accessed with  `.attribute` after the object\n",
    "### `Methods` are functions, & are accessed with `.method(arguments)` after the object\n",
    "We're not going to teach you how to create classes with properties or methods, but how to access them, because we will use them extensively\n",
    "<div class=\"alert alert-block alert-info\">\n",
    "    Execute the code in the next cell to access the attributes and one method of the class <b>date</b>\n",
    "    </div>"
   ]
  },
  {
   "cell_type": "code",
   "execution_count": 25,
   "metadata": {},
   "outputs": [
    {
     "name": "stdout",
     "output_type": "stream",
     "text": [
      "2019-05-22\n",
      "2019 5 22\n",
      "Wed May 22 00:00:00 2019\n"
     ]
    }
   ],
   "source": [
    "today = date.today()\n",
    "print(today)\n",
    "## Date object attributes\n",
    "print(today.year, today.month, today.day) \n",
    "## Date object method 'ctime' - do not need arguments\n",
    "print(today.ctime())"
   ]
  },
  {
   "cell_type": "markdown",
   "metadata": {},
   "source": [
    "## Other useful methods to try\n",
    "We already use methods, and we will keep using them through the tutorial. There are many methods for each object, but here are just some simple examples to get you going:\n",
    "<div class=\"alert alert-block alert-info\">\n",
    "    - Make a list, and add and element using the method <b>.append(new_element)</b>. Print the updated list\n",
    "    <br>\n",
    "    - Print only the keys of the dictionary defined above using the method <b>.keys()</b>\n",
    "    <br>\n",
    "    - Define a string variable with two or more \",\". Then use the string method <b>.split(',')</b> to split the string. Print the result. What type of variable(s) you get?\n",
    "    \n",
    "</div>"
   ]
  },
  {
   "cell_type": "code",
   "execution_count": 26,
   "metadata": {},
   "outputs": [
    {
     "name": "stdout",
     "output_type": "stream",
     "text": [
      "['dolphin', 'orca', 'anchovy', 'octopus', 'another animal']\n",
      "dict_keys(['name', 'altitude', 'continent', 'climbed'])\n",
      "['This is an example', ' of how divide string', ' using a function']\n",
      "<class 'list'>\n"
     ]
    }
   ],
   "source": [
    "mylist.append('another animal')\n",
    "print(mylist)\n",
    "print(mydict.keys())\n",
    "mystr='This is an example, of how divide string, using a function'\n",
    "divstr = mystr.split(',')\n",
    "print(divstr)\n",
    "print(type(divstr))"
   ]
  }
 ],
 "metadata": {
  "kernelspec": {
   "display_name": "Python 3",
   "language": "python",
   "name": "python3"
  },
  "language_info": {
   "codemirror_mode": {
    "name": "ipython",
    "version": 3
   },
   "file_extension": ".py",
   "mimetype": "text/x-python",
   "name": "python",
   "nbconvert_exporter": "python",
   "pygments_lexer": "ipython3",
   "version": "3.7.1"
  }
 },
 "nbformat": 4,
 "nbformat_minor": 2
}
