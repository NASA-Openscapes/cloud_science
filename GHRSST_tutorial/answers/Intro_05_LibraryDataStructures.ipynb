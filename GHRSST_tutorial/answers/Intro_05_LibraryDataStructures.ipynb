{
 "cells": [
  {
   "cell_type": "markdown",
   "metadata": {},
   "source": [
    "# The fun part: Scientific & Numerical Data Structures\n",
    "Although `Python` was not originally designed for scientific data, its community-based and free nature allowed for the development of packages and libraries that handle it nicely & efficiently. \n",
    "\n",
    "## Beyond the data types and collections we already seen, scientific computation need specific data structures, as we want to be able to handle (efficiently):\n",
    "- large amounts of data\n",
    "- multiple dimensions\n",
    "- mathematical and statistical operation over parts or the whole data set\n",
    "- metadata and data attributes"
   ]
  },
  {
   "cell_type": "markdown",
   "metadata": {},
   "source": [
    "### Here we will use these basic modules of scientific & numerical computing: `math`, `scipy`, `numpy`, `pandas`, `xarray` & `matplotlib`\n",
    "\n",
    "Note: these packages are also referred as libraries or modules"
   ]
  },
  {
   "cell_type": "markdown",
   "metadata": {},
   "source": [
    "*** \n",
    "## `math` module\n",
    "Basic math operation (as methods or functions) and numbers (as attributes)\n",
    "\n",
    "<div class=\"alert alert-block alert-info\">\n",
    "    - Execute the code below to try different ways to import the <b>math</b> module. \n",
    "    <br>\n",
    "</div>"
   ]
  },
  {
   "cell_type": "code",
   "execution_count": 33,
   "metadata": {},
   "outputs": [
    {
     "name": "stdout",
     "output_type": "stream",
     "text": [
      "3.141592653589793 3.141592653589793 3.141592653589793 \n",
      "\n",
      "\n"
     ]
    }
   ],
   "source": [
    "import math \n",
    "import math as m\n",
    "from math import pi\n",
    "print(math.pi, m.pi, pi,'\\n\\n')"
   ]
  },
  {
   "cell_type": "markdown",
   "metadata": {},
   "source": [
    "<div class=\"alert alert-block alert-info\">\n",
    "    - Try the next code to use some functions from the math module\n",
    "</div>"
   ]
  },
  {
   "cell_type": "code",
   "execution_count": 34,
   "metadata": {},
   "outputs": [
    {
     "name": "stdout",
     "output_type": "stream",
     "text": [
      "6.283185307179586 radians is equal to 360 degrees\n"
     ]
    }
   ],
   "source": [
    "rads = 2*pi\n",
    "degrees = math.degrees(rads)\n",
    "print('{} radians is equal to {} degrees'.format(rads,m.floor(degrees)))"
   ]
  },
  {
   "cell_type": "markdown",
   "metadata": {},
   "source": [
    "***\n",
    "## `SciPy` is a mathematics, science & engineering ecosystem in `Python`. \n",
    "## It is also the name of the library which contains core numerical routines.\n",
    "<img src='images/scipy_logo.png' width=300>\n",
    "\n",
    "## Within this ecosystem, we will use three basic modules: numpy, pandas, & matplotlib. `SciPy` library is integrated with these packages."
   ]
  },
  {
   "cell_type": "markdown",
   "metadata": {},
   "source": [
    "***\n",
    "<img src='images/numpy_logo.jpeg' width=300>\n",
    "\n",
    "## `NumPy` is the basic scientific module in `Python`. Its most important characteristics: \n",
    "\n",
    "- Multi-dimensional arrays objects (ordered, changeable, allows duplicates)\n",
    "- Broadcasting functions\n",
    "\n",
    "<div class=\"alert alert-block alert-info\">\n",
    "    - Execute the code in the next cell to import numpy and define two arrays\n",
    "    <br>\n",
    "    - Print both objects\n",
    "    <br>\n",
    "    - Print the type of object of <b>a</b>\n",
    "    <br>\n",
    "    - Print the element of <b>b</b> equal to 7, using the indexing <b>b[row,column]</b>. Remember that indices start at 0"
   ]
  },
  {
   "cell_type": "code",
   "execution_count": 10,
   "metadata": {},
   "outputs": [],
   "source": [
    "import numpy as np\n",
    "a=np.ones((3,5))\n",
    "b=np.arange(15).reshape(3,5)"
   ]
  },
  {
   "cell_type": "code",
   "execution_count": 36,
   "metadata": {},
   "outputs": [
    {
     "name": "stdout",
     "output_type": "stream",
     "text": [
      "[[1. 1. 1. 1. 1.]\n",
      " [1. 1. 1. 1. 1.]\n",
      " [1. 1. 1. 1. 1.]]\n",
      "[[ 0  1  2  3  4]\n",
      " [ 5  6  7  8  9]\n",
      " [10 11 12 13 14]]\n",
      "<class 'numpy.ndarray'>\n",
      "7\n"
     ]
    }
   ],
   "source": [
    "print(a)\n",
    "print(b)\n",
    "print(type(a))\n",
    "print(b[1,2])"
   ]
  },
  {
   "cell_type": "markdown",
   "metadata": {},
   "source": [
    "<div class=\"alert alert-block alert-info\">\n",
    "    - Print the following attributes of the defined <b>numpy</b> objects: ndim, shape\n",
    "    <br>\n",
    "    - Print the output of the following methods of a <b>numpy</b> object: max(), max(axis=0), sum()\n",
    "</div>"
   ]
  },
  {
   "cell_type": "code",
   "execution_count": 39,
   "metadata": {},
   "outputs": [
    {
     "name": "stdout",
     "output_type": "stream",
     "text": [
      "2\n",
      "(3, 5)\n",
      "[[ 0  1  2  3  4]\n",
      " [ 5  6  7  8  9]\n",
      " [10 11 12 13 14]]\n",
      "14\n",
      "[10 11 12 13 14]\n",
      "105\n"
     ]
    }
   ],
   "source": [
    "print(b.ndim)\n",
    "print(b.shape)\n",
    "print(b)\n",
    "print(b.max())\n",
    "print(b.max(axis=0))\n",
    "print(b.sum())"
   ]
  },
  {
   "cell_type": "markdown",
   "metadata": {},
   "source": [
    "<div class=\"alert alert-block alert-info\">\n",
    "    - Try an elementwise operation between <b>a</b> & <b>b</b>, like + or *\n",
    "</div>\n"
   ]
  },
  {
   "cell_type": "code",
   "execution_count": 40,
   "metadata": {},
   "outputs": [
    {
     "data": {
      "text/plain": [
       "array([[ 1.,  2.,  3.,  4.,  5.],\n",
       "       [ 6.,  7.,  8.,  9., 10.],\n",
       "       [11., 12., 13., 14., 15.]])"
      ]
     },
     "execution_count": 40,
     "metadata": {},
     "output_type": "execute_result"
    }
   ],
   "source": [
    "a+b"
   ]
  },
  {
   "cell_type": "markdown",
   "metadata": {},
   "source": [
    "### Indexing a `numpy` array\n",
    "Numpy indexing is very logical. Just remember that indices start at zero.\n",
    "<div class=\"alert alert-block alert-info\">\n",
    "    - Run the code in the following cell\n",
    "    <br>\n",
    "    - Then add the necessary the code to print the correct element(s) in the next cell\n",
    "    <br>\n",
    "    <b>Hint:</b> Use <b>-1</b> to indicate the last element, and <b>n:</b> or <b>:n</b> for \"n to end\" & \"first to n\" elements\n",
    "</div>"
   ]
  },
  {
   "cell_type": "code",
   "execution_count": 27,
   "metadata": {},
   "outputs": [
    {
     "name": "stdout",
     "output_type": "stream",
     "text": [
      "Entire array\n",
      "[[ 1.  2.  3.  4.  5.]\n",
      " [ 6.  7.  8.  9. 10.]\n",
      " [11. 12. 13. 14. 15.]]\n",
      "Second row\n",
      "[ 6.  7.  8.  9. 10.]\n",
      "First column\n",
      "[ 1.  6. 11.]\n"
     ]
    }
   ],
   "source": [
    "c=a+b\n",
    "print('Entire array')\n",
    "print(c)\n",
    "print('Second row')\n",
    "print(c[1])\n",
    "print('First column')\n",
    "print(c[:,0])"
   ]
  },
  {
   "cell_type": "code",
   "execution_count": 30,
   "metadata": {},
   "outputs": [
    {
     "name": "stdout",
     "output_type": "stream",
     "text": [
      "2.0\n",
      "[ 7. 12.]\n",
      "15.0\n",
      "[ 1. 15.]\n"
     ]
    }
   ],
   "source": [
    "# print the second element in the first row\n",
    "print(c[0,1])\n",
    "# print the last two elements of the second column\n",
    "print(c[-2:,1])\n",
    "# print the element last column\n",
    "print(c[-1,-1])\n",
    "# use the syntaxis c[[r1,r2],[c1,c2]] to print first and last elements of the array\n",
    "print(c[[0,2],[0,4]])"
   ]
  },
  {
   "cell_type": "markdown",
   "metadata": {},
   "source": [
    "***\n",
    "<img src='images/pandas-logo.png' width=300>\n",
    "\n",
    "## `Pandas` is a package for high-performance data structures. \n",
    "### Best characteristics include the use of :\n",
    "- 2-D Tables\n",
    "- Indexing by labels and numerical indices\n",
    "\n",
    "### Building a `pandas` dataframe start with defining `Series` that will become the (column-wise) data in a `DataFrame`\n",
    "<div class=\"alert alert-block alert-info\">\n",
    "    -Try the code in the next cells\n",
    "</div"
   ]
  },
  {
   "cell_type": "code",
   "execution_count": 31,
   "metadata": {},
   "outputs": [
    {
     "name": "stdout",
     "output_type": "stream",
     "text": [
      "a    0\n",
      "b    1\n",
      "c    2\n",
      "d    3\n",
      "e    4\n",
      "dtype: int64\n"
     ]
    }
   ],
   "source": [
    "import pandas as pd\n",
    "s=pd.Series(np.arange(5), index=['a', 'b', 'c', 'd', 'e'])\n",
    "print(s)"
   ]
  },
  {
   "cell_type": "markdown",
   "metadata": {},
   "source": [
    "## Now lets create a `DataFrame`\n",
    "### We need to define our elements as a dictionary first, and then create the DataFrame"
   ]
  },
  {
   "cell_type": "code",
   "execution_count": 32,
   "metadata": {},
   "outputs": [
    {
     "name": "stdout",
     "output_type": "stream",
     "text": [
      "{'A': a    0\n",
      "b    1\n",
      "c    2\n",
      "d    3\n",
      "e    4\n",
      "dtype: int64, 'B': a    5\n",
      "b    6\n",
      "c    3\n",
      "d    4\n",
      "e    1\n",
      "dtype: int64}\n",
      "<class 'dict'>\n",
      "\n",
      "*** DataFrame ***\n",
      "\n",
      "   A  B\n",
      "a  0  5\n",
      "b  1  6\n",
      "c  2  3\n",
      "d  3  4\n",
      "e  4  1\n"
     ]
    }
   ],
   "source": [
    "# Dictionary - 2D\n",
    "d = {'A':s, 'B':pd.Series([5,6,3,4,1],index=['a', 'b', 'c', 'd', 'e'])}\n",
    "print(d)\n",
    "print(type(d))\n",
    "# Creating the DataFrame\n",
    "print('\\n*** DataFrame ***\\n')\n",
    "df = pd.DataFrame(d)\n",
    "print(df)"
   ]
  },
  {
   "cell_type": "markdown",
   "metadata": {},
   "source": [
    "### Creating a DataFrame from a np.array"
   ]
  },
  {
   "cell_type": "code",
   "execution_count": 41,
   "metadata": {},
   "outputs": [
    {
     "name": "stdout",
     "output_type": "stream",
     "text": [
      "   c1  c2  c3  c4  c5\n",
      "a   0   1   2   3   4\n",
      "b   5   6   7   8   9\n",
      "c  10  11  12  13  14\n"
     ]
    }
   ],
   "source": [
    "df2 = pd.DataFrame(np.arange(15).reshape(3,5),index=['a','b','c'],columns=['c1','c2','c3','c4','c5'])\n",
    "print(df2)"
   ]
  },
  {
   "cell_type": "markdown",
   "metadata": {},
   "source": [
    "### Finally, accesing the data in a `DataFrame`"
   ]
  },
  {
   "cell_type": "code",
   "execution_count": 42,
   "metadata": {},
   "outputs": [
    {
     "name": "stdout",
     "output_type": "stream",
     "text": [
      "Second column\n",
      "a     1\n",
      "b     6\n",
      "c    11\n",
      "Name: c2, dtype: int64\n",
      "\n",
      "First column\n",
      "a     0\n",
      "b     5\n",
      "c    10\n",
      "Name: c1, dtype: int64\n",
      "\n",
      "Adding column\n",
      "   c1  c2  c3  c4  c5   R\n",
      "a   0   1   2   3   4   3\n",
      "b   5   6   7   8   9  13\n",
      "c  10  11  12  13  14  23\n"
     ]
    }
   ],
   "source": [
    "print('Second column')\n",
    "print(df2.c2)\n",
    "print('\\nFirst column')\n",
    "print(df2['c1']) \n",
    "print('\\nAdding column')\n",
    "df2['R']=df2.c2+df2.c3\n",
    "print(df2)"
   ]
  },
  {
   "cell_type": "markdown",
   "metadata": {},
   "source": [
    "<img src='images/xarray-logo-square.png' width=300>\n",
    "\n",
    "## `xarray` is another, more sophsiticated package for scientific computing\n",
    "### Objects are multidimensional & labelled arrays ... and the labels are not only in dimension form, but can also be coordinates \n",
    "### `xarray` objects is modeled based on `netcdf` file format; they have metadata & attributes"
   ]
  }
 ],
 "metadata": {
  "kernelspec": {
   "display_name": "Python 3",
   "language": "python",
   "name": "python3"
  },
  "language_info": {
   "codemirror_mode": {
    "name": "ipython",
    "version": 3
   },
   "file_extension": ".py",
   "mimetype": "text/x-python",
   "name": "python",
   "nbconvert_exporter": "python",
   "pygments_lexer": "ipython3",
   "version": "3.7.1"
  }
 },
 "nbformat": 4,
 "nbformat_minor": 2
}
