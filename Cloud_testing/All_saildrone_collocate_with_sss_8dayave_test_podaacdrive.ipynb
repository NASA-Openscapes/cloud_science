{
 "cells": [
  {
   "cell_type": "code",
   "execution_count": null,
   "metadata": {},
   "outputs": [],
   "source": [
    "import xarray as xr\n",
    "import warnings\n",
    "warnings.simplefilter('ignore') # filter some warning messages\n",
    "from glob import glob"
   ]
  },
  {
   "cell_type": "markdown",
   "metadata": {},
   "source": [
    "# Read ATOMIC Saildrone data via openDaP  --- Not working ---"
   ]
  },
  {
   "cell_type": "code",
   "execution_count": null,
   "metadata": {},
   "outputs": [],
   "source": [
    "url = 'https://podaac-opendap.jpl.nasa.gov/opendap/allData/insitu/L2/saildrone/Atomic//saildrone-gen_5-atomic_eurec4a_2020-sd1061-20200117T000000-20200302T235959-1_minutes-v1.1595707641693.nc'\n",
    "\n",
    "ds_usv = xr.open_dataset(url)"
   ]
  },
  {
   "cell_type": "markdown",
   "metadata": {},
   "source": [
    "# try using podaac drive (z:)  --- This works ----"
   ]
  },
  {
   "cell_type": "code",
   "execution_count": null,
   "metadata": {},
   "outputs": [],
   "source": [
    "url = 'Z:/allData/insitu/L2/saildrone/Atomic/saildrone-gen_5-atomic_eurec4a_2020-sd1061-20200117T000000-20200302T235959-1_minutes-v1.1595707641693.nc'\n",
    "\n",
    "ds_usv = xr.open_dataset(url)\n",
    "\n",
    "ds_usv"
   ]
  },
  {
   "cell_type": "markdown",
   "metadata": {},
   "source": [
    "# try using file downloaded locally (from opendap link) -- this works --"
   ]
  },
  {
   "cell_type": "code",
   "execution_count": null,
   "metadata": {},
   "outputs": [],
   "source": [
    "url = './../data/saildrone-gen_5-atomic_eurec4a_2020-sd1061-20200117T000000-20200302T235959-1_minutes-v1.1595707641693.nc'\n",
    "\n",
    "ds_usv = xr.open_dataset(url)\n",
    "\n",
    "ds_usv"
   ]
  },
  {
   "cell_type": "markdown",
   "metadata": {},
   "source": [
    "# clean up usv file for interpolation\n",
    "- calculate date range for files to read in"
   ]
  },
  {
   "cell_type": "code",
   "execution_count": null,
   "metadata": {},
   "outputs": [],
   "source": [
    "ds_usv = ds_usv.rename({'latitude':'lat','longitude':'lon'}).isel(trajectory=0).swap_dims({'obs':'time'})\n",
    "\n",
    "ds_usv"
   ]
  },
  {
   "cell_type": "markdown",
   "metadata": {},
   "source": [
    "# Read in SMAP from mapped podaac drive (z:)"
   ]
  },
  {
   "cell_type": "code",
   "execution_count": null,
   "metadata": {},
   "outputs": [],
   "source": [
    "#RSS\n",
    "#get list of all filenames in directory\n",
    "syr = str(ds_usv.time[0].dt.year.data).zfill(4)\n",
    "adir = 'Z:/SalinityDensity/smap/L3/RSS/V4/8day_running/SCI/'+syr+'/*/*.nc'\n",
    "files = glob(adir)\n",
    "print('number of file:',len(files))\n",
    "\n",
    "# read in data\n",
    "ds = xr.open_mfdataset(files,combine='nested',concat_dim='time')\n",
    "ds.coords['lon'] = (ds.coords['lon'] + 180) % 360 - 180\n",
    "ds = ds.sortby(ds.lon)\n",
    "ds.close()  \n",
    "ds_rss = ds    \n"
   ]
  },
  {
   "cell_type": "code",
   "execution_count": null,
   "metadata": {},
   "outputs": [],
   "source": [
    "#JPL\n",
    "#get list of all filenames in directory\n",
    "syr = str(ds_usv.time[0].dt.year.data).zfill(4)\n",
    "adir = 'Z:/SalinityDensity/smap/L3/JPL/V4.3/8day_running/'+syr+'/*/*.nc'\n",
    "files = glob(adir)\n",
    "print('number of file:',len(files))\n",
    "  \n",
    "# read in data\n",
    "ds = xr.open_mfdataset(files,combine='nested',concat_dim='time')\n",
    "ds.coords['lon'] = (ds.coords['lon'] + 180) % 360 - 180\n",
    "ds = ds.sortby(ds.lon)\n",
    "ds.close()  \n",
    "ds_jpl = ds"
   ]
  },
  {
   "cell_type": "code",
   "execution_count": null,
   "metadata": {},
   "outputs": [],
   "source": []
  },
  {
   "cell_type": "markdown",
   "metadata": {},
   "source": [
    "# Collocate SMAP RSS 8day"
   ]
  },
  {
   "cell_type": "code",
   "execution_count": null,
   "metadata": {},
   "outputs": [],
   "source": [
    "%%time\n",
    "ds_usv['lat'] = ds_usv.lat.interpolate_na(dim='time',method='linear').ffill(dim='time').bfill(dim='time')\n",
    "ds_usv['lon'] = ds_usv.lon.interpolate_na(dim='time',method='linear').ffill(dim='time').bfill(dim='time')\n",
    "tem = ds_usv.lat.ffill(dim='time')\n",
    "tem = ds_usv.lat.bfill(dim='time')\n",
    "t1,t2=ds_usv.time.min().data-np.timedelta64(8,'D'),ds_usv.time.max().data+np.timedelta64(8,'D')\n",
    "x1,x2=ds_usv.lon.min().data,ds_usv.lon.max().data\n",
    "y1,y2=ds_usv.lat.min().data,ds_usv.lat.max().data\n",
    "print(t1,t2)\n",
    "ds_sat = ds.sel(time=slice(t1,t2),lat=slice(y1,y2),lon=slice(x1,x2)).load()   \n",
    "ds_interp = ds_sat.interp(time=ds_usv.time,lat=ds_usv.lat,lon=ds_usv.lon,method='linear')#.interp(method='nearest')\n",
    "#fout = dir_out+name+'_RSS8dy'+'.nc'\n",
    "#ds_interp.to_netcdf(fout)"
   ]
  },
  {
   "cell_type": "markdown",
   "metadata": {},
   "source": [
    "# Collocation SMAP JPL 8day"
   ]
  },
  {
   "cell_type": "code",
   "execution_count": null,
   "metadata": {},
   "outputs": [],
   "source": [
    "#JPL\n",
    "adir = 'F:/data/sat_data/smap/SSS/L3/JPL/V4.3/8day_running/**/**/*4.3.nc'\n",
    "files = [x for x in glob(adir)]\n",
    "print('number of file:',len(files))\n",
    "\n",
    "ds = xr.open_mfdataset(files,combine='nested',concat_dim='time')\n",
    "ds = ds.rename({'latitude':'lat','longitude':'lon'})\n",
    "ds = ds.sortby(ds.lat)\n",
    "ds.close()  \n",
    "ds"
   ]
  },
  {
   "cell_type": "code",
   "execution_count": null,
   "metadata": {},
   "outputs": [],
   "source": [
    "%%time\n",
    "ds_usv['lat'] = ds_usv.lat.interpolate_na(dim='time',method='linear').ffill(dim='time').bfill(dim='time')\n",
    "ds_usv['lon'] = ds_usv.lon.interpolate_na(dim='time',method='linear').ffill(dim='time').bfill(dim='time')\n",
    "tem = ds_usv.lat.ffill(dim='time')\n",
    "tem = ds_usv.lat.bfill(dim='time')\n",
    "t1,t2=ds_usv.time.min().data-np.timedelta64(8,'D'),ds_usv.time.max().data+np.timedelta64(8,'D')\n",
    "x1,x2=ds_usv.lon.min().data,ds_usv.lon.max().data\n",
    "y1,y2=ds_usv.lat.min().data,ds_usv.lat.max().data\n",
    "print(t1,t2)\n",
    "ds_sat = ds.sel(time=slice(t1,t2),lat=slice(y1,y2),lon=slice(x1,x2)).load()   \n",
    "ds_interp = ds_sat.interp(time=ds_usv.time,lat=ds_usv.lat,lon=ds_usv.lon,method='linear')#.interp(method='nearest')\n",
    "#fout = dir_out+name+'_JPL8dy'+'.nc'\n",
    "#ds_interp.to_netcdf(fout)"
   ]
  },
  {
   "cell_type": "code",
   "execution_count": null,
   "metadata": {},
   "outputs": [],
   "source": []
  },
  {
   "cell_type": "code",
   "execution_count": null,
   "metadata": {},
   "outputs": [],
   "source": []
  }
 ],
 "metadata": {
  "kernelspec": {
   "display_name": "Python 3",
   "language": "python",
   "name": "python3"
  },
  "language_info": {
   "codemirror_mode": {
    "name": "ipython",
    "version": 3
   },
   "file_extension": ".py",
   "mimetype": "text/x-python",
   "name": "python",
   "nbconvert_exporter": "python",
   "pygments_lexer": "ipython3",
   "version": "3.8.5"
  }
 },
 "nbformat": 4,
 "nbformat_minor": 4
}
