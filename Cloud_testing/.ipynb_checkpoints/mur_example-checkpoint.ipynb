{
 "cells": [
  {
   "cell_type": "markdown",
   "metadata": {},
   "source": [
    "## MUR data reading test"
   ]
  },
  {
   "cell_type": "code",
   "execution_count": null,
   "metadata": {},
   "outputs": [],
   "source": [
    "# start a cluster, the key to reading effectively on Cloud\n",
    "from dask_kubernetes import KubeCluster\n",
    "from dask.distributed import Client"
   ]
  },
  {
   "cell_type": "code",
   "execution_count": null,
   "metadata": {},
   "outputs": [],
   "source": [
    "cluster = KubeCluster(n_workers=20)\n",
    "client = Client(cluster)\n",
    "cluster"
   ]
  },
  {
   "cell_type": "code",
   "execution_count": null,
   "metadata": {},
   "outputs": [],
   "source": [
    "import xarray as xr\n",
    "import fsspec"
   ]
  },
  {
   "cell_type": "code",
   "execution_count": null,
   "metadata": {},
   "outputs": [],
   "source": [
    "%%time\n",
    "ds = xr.open_zarr(fsspec.get_mapper('s3://nasa-eodc/eodc/mursst_zarr/5x1799x3600', anon=True), \n",
    "              consolidated=True)"
   ]
  },
  {
   "cell_type": "code",
   "execution_count": null,
   "metadata": {},
   "outputs": [],
   "source": [
    "ds.analysed_sst"
   ]
  },
  {
   "cell_type": "code",
   "execution_count": null,
   "metadata": {},
   "outputs": [],
   "source": [
    "ds.analysed_sst.encoding"
   ]
  },
  {
   "cell_type": "code",
   "execution_count": null,
   "metadata": {},
   "outputs": [],
   "source": [
    "chunk_mb = (5*1799*3600*2)/1e6\n",
    "print(chunk_mb)"
   ]
  },
  {
   "cell_type": "markdown",
   "metadata": {},
   "source": [
    "Global mean at a specific time:"
   ]
  },
  {
   "cell_type": "code",
   "execution_count": null,
   "metadata": {},
   "outputs": [],
   "source": [
    "%%time\n",
    "mean1 = ds.analysed_sst.sel(time='2004-01-01').mean(dim=['lon','lat']).compute()"
   ]
  },
  {
   "cell_type": "markdown",
   "metadata": {},
   "source": [
    "Time mean at a specific location:"
   ]
  },
  {
   "cell_type": "code",
   "execution_count": null,
   "metadata": {},
   "outputs": [],
   "source": [
    "%%time\n",
    "mean2 = ds.analysed_sst.sel(lon=-110, lat=0).mean(dim='time').compute()"
   ]
  },
  {
   "cell_type": "code",
   "execution_count": null,
   "metadata": {},
   "outputs": [],
   "source": [
    "import hvplot.xarray"
   ]
  },
  {
   "cell_type": "code",
   "execution_count": null,
   "metadata": {},
   "outputs": [],
   "source": [
    "%%time\n",
    "ds.analysed_sst.sel(lon=-110, lat=0).hvplot(grid=True)"
   ]
  },
  {
   "cell_type": "markdown",
   "metadata": {},
   "source": [
    "Subset the El Niño/La Niña Region:"
   ]
  },
  {
   "cell_type": "code",
   "execution_count": null,
   "metadata": {},
   "outputs": [],
   "source": [
    "ds_e = ds.sel(lon=slice(-180,-70), lat=slice(-25,25))"
   ]
  },
  {
   "cell_type": "markdown",
   "metadata": {},
   "source": [
    "Difference the monthly mean temperature fields for Jan 2016 (El Niño) and Jan 2014 (normal)"
   ]
  },
  {
   "cell_type": "code",
   "execution_count": null,
   "metadata": {},
   "outputs": [],
   "source": [
    "sst_jan2016 = ds_e.analysed_sst.sel(time=slice('2016-01-01','2016-02-01')).mean(dim='time')\n",
    "sst_jan2014 = ds_e.analysed_sst.sel(time=slice('2014-01-01','2014-02-01')).mean(dim='time')"
   ]
  },
  {
   "cell_type": "code",
   "execution_count": null,
   "metadata": {},
   "outputs": [],
   "source": [
    "%%time\n",
    "(sst_jan2016 - sst_jan2014).hvplot.quadmesh(x='lon', y='lat', geo=True, \n",
    "                rasterize=True, cmap='rainbow', tiles='EsriImagery')"
   ]
  }
 ],
 "metadata": {
  "kernelspec": {
   "display_name": "Python 3",
   "language": "python",
   "name": "python3"
  },
  "language_info": {
   "codemirror_mode": {
    "name": "ipython",
    "version": 3
   },
   "file_extension": ".py",
   "mimetype": "text/x-python",
   "name": "python",
   "nbconvert_exporter": "python",
   "pygments_lexer": "ipython3",
   "version": "3.7.3"
  },
  "widgets": {
   "application/vnd.jupyter.widget-state+json": {
    "state": {
     "0160f1953f2143de8c9ab45c38eb6a8e": {
      "model_module": "@jupyter-widgets/base",
      "model_module_version": "1.2.0",
      "model_name": "LayoutModel",
      "state": {
       "width": "150px"
      }
     },
     "043e5a49b9994345b7b0ec314f36cd33": {
      "model_module": "@jupyter-widgets/controls",
      "model_module_version": "1.5.0",
      "model_name": "IntTextModel",
      "state": {
       "description": "Minimum",
       "layout": "IPY_MODEL_0160f1953f2143de8c9ab45c38eb6a8e",
       "step": 1,
       "style": "IPY_MODEL_5f165ec511694611a21a88f403f22332"
      }
     },
     "0e17a2fe23f044dfb67a926813cd5661": {
      "model_module": "@jupyter-widgets/base",
      "model_module_version": "1.2.0",
      "model_name": "LayoutModel",
      "state": {}
     },
     "110986ef678f41059816e30cb9ee563d": {
      "model_module": "@jupyter-widgets/base",
      "model_module_version": "1.2.0",
      "model_name": "LayoutModel",
      "state": {
       "min_width": "500px"
      }
     },
     "176bb545f3114367ba54bf7f547204ef": {
      "model_module": "@jupyter-widgets/controls",
      "model_module_version": "1.5.0",
      "model_name": "HBoxModel",
      "state": {
       "children": [
        "IPY_MODEL_a6814f2359484ecabf4ffd22e14dc275",
        "IPY_MODEL_b4a1bba96a9640a19552473b67cb2f9f"
       ],
       "layout": "IPY_MODEL_92912c76a351471683be07a2d4fcb8a5"
      }
     },
     "21ea64a4d3bd454aa80c49a85b9ecbf1": {
      "model_module": "@jupyter-widgets/controls",
      "model_module_version": "1.5.0",
      "model_name": "ButtonStyleModel",
      "state": {}
     },
     "258fb7cd0c0c48d3a714a4df7591abd8": {
      "model_module": "@jupyter-widgets/controls",
      "model_module_version": "1.5.0",
      "model_name": "VBoxModel",
      "state": {
       "children": [
        "IPY_MODEL_f1b2d5b361814b7b9e2652419e23c0e1",
        "IPY_MODEL_176bb545f3114367ba54bf7f547204ef",
        "IPY_MODEL_f78b5b237dd84bcba8ea1b6152e513f8"
       ],
       "layout": "IPY_MODEL_8919e268404c46debcdaad7cf6b716e8"
      }
     },
     "3427164183cc469a8cbc441437010bd2": {
      "model_module": "@jupyter-widgets/base",
      "model_module_version": "1.2.0",
      "model_name": "LayoutModel",
      "state": {}
     },
     "34ffce96f5354fc4a05a0945ca3a913d": {
      "model_module": "@jupyter-widgets/controls",
      "model_module_version": "1.5.0",
      "model_name": "ButtonModel",
      "state": {
       "description": "Scale",
       "layout": "IPY_MODEL_0160f1953f2143de8c9ab45c38eb6a8e",
       "style": "IPY_MODEL_828bbbf053634c8b8aad8477dd1a6e21"
      }
     },
     "392d476e0f7c4003820517c364f20e31": {
      "model_module": "@jupyter-widgets/controls",
      "model_module_version": "1.5.0",
      "model_name": "HBoxModel",
      "state": {
       "children": [
        "IPY_MODEL_043e5a49b9994345b7b0ec314f36cd33",
        "IPY_MODEL_9dfd048b397b4458a9485fdddcb5e566",
        "IPY_MODEL_f964dac140b84ff487321833b3bfed3d"
       ],
       "layout": "IPY_MODEL_b9d48f2fff4f4da5b9c3f8973441d281"
      }
     },
     "47c73beddad7419d9853b22795a1f2ea": {
      "model_module": "@jupyter-widgets/base",
      "model_module_version": "1.2.0",
      "model_name": "LayoutModel",
      "state": {}
     },
     "5f165ec511694611a21a88f403f22332": {
      "model_module": "@jupyter-widgets/controls",
      "model_module_version": "1.5.0",
      "model_name": "DescriptionStyleModel",
      "state": {
       "description_width": ""
      }
     },
     "828bbbf053634c8b8aad8477dd1a6e21": {
      "model_module": "@jupyter-widgets/controls",
      "model_module_version": "1.5.0",
      "model_name": "ButtonStyleModel",
      "state": {}
     },
     "8919e268404c46debcdaad7cf6b716e8": {
      "model_module": "@jupyter-widgets/base",
      "model_module_version": "1.2.0",
      "model_name": "LayoutModel",
      "state": {}
     },
     "92912c76a351471683be07a2d4fcb8a5": {
      "model_module": "@jupyter-widgets/base",
      "model_module_version": "1.2.0",
      "model_name": "LayoutModel",
      "state": {}
     },
     "94c2f0179bec4ecfb6317a24d0430128": {
      "model_module": "@jupyter-widgets/controls",
      "model_module_version": "1.5.0",
      "model_name": "HBoxModel",
      "state": {
       "children": [
        "IPY_MODEL_e927c150f84945789d96099e293c2596",
        "IPY_MODEL_34ffce96f5354fc4a05a0945ca3a913d"
       ],
       "layout": "IPY_MODEL_47c73beddad7419d9853b22795a1f2ea"
      }
     },
     "9dfd048b397b4458a9485fdddcb5e566": {
      "model_module": "@jupyter-widgets/controls",
      "model_module_version": "1.5.0",
      "model_name": "IntTextModel",
      "state": {
       "description": "Maximum",
       "layout": "IPY_MODEL_0160f1953f2143de8c9ab45c38eb6a8e",
       "step": 1,
       "style": "IPY_MODEL_cf5e132f06c948dca4167734b2053573"
      }
     },
     "a6814f2359484ecabf4ffd22e14dc275": {
      "model_module": "@jupyter-widgets/controls",
      "model_module_version": "1.5.0",
      "model_name": "HTMLModel",
      "state": {
       "layout": "IPY_MODEL_cc2cb1a3b8234aeab91139a691a66985",
       "style": "IPY_MODEL_d9688d7964e242d9aa3473f3f2359ac4",
       "value": "\n<div>\n  <style scoped>\n    .dataframe tbody tr th:only-of-type {\n        vertical-align: middle;\n    }\n\n    .dataframe tbody tr th {\n        vertical-align: top;\n    }\n\n    .dataframe thead th {\n        text-align: right;\n    }\n  </style>\n  <table style=\"text-align: right;\">\n    <tr> <th>Workers</th> <td>20</td></tr>\n    <tr> <th>Cores</th> <td>40</td></tr>\n    <tr> <th>Memory</th> <td>140.00 GB</td></tr>\n  </table>\n</div>\n"
      }
     },
     "a745bee57ebd4eddaa6c7aed97022146": {
      "model_module": "@jupyter-widgets/controls",
      "model_module_version": "1.5.0",
      "model_name": "DescriptionStyleModel",
      "state": {
       "description_width": ""
      }
     },
     "b4a1bba96a9640a19552473b67cb2f9f": {
      "model_module": "@jupyter-widgets/controls",
      "model_module_version": "1.5.0",
      "model_name": "AccordionModel",
      "state": {
       "_titles": {
        "0": "Manual Scaling",
        "1": "Adaptive Scaling"
       },
       "children": [
        "IPY_MODEL_94c2f0179bec4ecfb6317a24d0430128",
        "IPY_MODEL_392d476e0f7c4003820517c364f20e31"
       ],
       "layout": "IPY_MODEL_110986ef678f41059816e30cb9ee563d",
       "selected_index": null
      }
     },
     "b9d48f2fff4f4da5b9c3f8973441d281": {
      "model_module": "@jupyter-widgets/base",
      "model_module_version": "1.2.0",
      "model_name": "LayoutModel",
      "state": {}
     },
     "cc2cb1a3b8234aeab91139a691a66985": {
      "model_module": "@jupyter-widgets/base",
      "model_module_version": "1.2.0",
      "model_name": "LayoutModel",
      "state": {
       "min_width": "150px"
      }
     },
     "cf5e132f06c948dca4167734b2053573": {
      "model_module": "@jupyter-widgets/controls",
      "model_module_version": "1.5.0",
      "model_name": "DescriptionStyleModel",
      "state": {
       "description_width": ""
      }
     },
     "d9688d7964e242d9aa3473f3f2359ac4": {
      "model_module": "@jupyter-widgets/controls",
      "model_module_version": "1.5.0",
      "model_name": "DescriptionStyleModel",
      "state": {
       "description_width": ""
      }
     },
     "e927c150f84945789d96099e293c2596": {
      "model_module": "@jupyter-widgets/controls",
      "model_module_version": "1.5.0",
      "model_name": "IntTextModel",
      "state": {
       "description": "Workers",
       "layout": "IPY_MODEL_0160f1953f2143de8c9ab45c38eb6a8e",
       "step": 1,
       "style": "IPY_MODEL_e9ee4dbea45948e5bc5e088a83db252c"
      }
     },
     "e9ee4dbea45948e5bc5e088a83db252c": {
      "model_module": "@jupyter-widgets/controls",
      "model_module_version": "1.5.0",
      "model_name": "DescriptionStyleModel",
      "state": {
       "description_width": ""
      }
     },
     "f1b2d5b361814b7b9e2652419e23c0e1": {
      "model_module": "@jupyter-widgets/controls",
      "model_module_version": "1.5.0",
      "model_name": "HTMLModel",
      "state": {
       "layout": "IPY_MODEL_0e17a2fe23f044dfb67a926813cd5661",
       "style": "IPY_MODEL_f9e0cb16335542248a348a456c2620fb",
       "value": "<h2>KubeCluster</h2>"
      }
     },
     "f78b5b237dd84bcba8ea1b6152e513f8": {
      "model_module": "@jupyter-widgets/controls",
      "model_module_version": "1.5.0",
      "model_name": "HTMLModel",
      "state": {
       "layout": "IPY_MODEL_3427164183cc469a8cbc441437010bd2",
       "style": "IPY_MODEL_a745bee57ebd4eddaa6c7aed97022146",
       "value": "<p><b>Dashboard: </b><a href=\"/user/rsignell-usgs/proxy/8787/status\" target=\"_blank\">/user/rsignell-usgs/proxy/8787/status</a></p>\n"
      }
     },
     "f964dac140b84ff487321833b3bfed3d": {
      "model_module": "@jupyter-widgets/controls",
      "model_module_version": "1.5.0",
      "model_name": "ButtonModel",
      "state": {
       "description": "Adapt",
       "layout": "IPY_MODEL_0160f1953f2143de8c9ab45c38eb6a8e",
       "style": "IPY_MODEL_21ea64a4d3bd454aa80c49a85b9ecbf1"
      }
     },
     "f9e0cb16335542248a348a456c2620fb": {
      "model_module": "@jupyter-widgets/controls",
      "model_module_version": "1.5.0",
      "model_name": "DescriptionStyleModel",
      "state": {
       "description_width": ""
      }
     }
    },
    "version_major": 2,
    "version_minor": 0
   }
  }
 },
 "nbformat": 4,
 "nbformat_minor": 4
}
