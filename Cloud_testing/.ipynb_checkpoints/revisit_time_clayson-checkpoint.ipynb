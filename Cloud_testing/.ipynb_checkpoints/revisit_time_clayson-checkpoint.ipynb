{
 "cells": [
  {
   "cell_type": "code",
   "execution_count": null,
   "metadata": {},
   "outputs": [],
   "source": [
    "#from scipy.io import loadmat\n",
    "#import h5py\n",
    "import xarray as xr\n",
    "import numpy as np\n",
    "\n",
    "#PLOTTING\n",
    "import cartopy\n",
    "from mpl_toolkits.axes_grid1.inset_locator import inset_axes\n",
    "import matplotlib.pyplot as plt\n",
    "import matplotlib.gridspec as gridspec\n",
    "from matplotlib.colorbar import Colorbar\n",
    "import matplotlib.ticker as mticker\n",
    "\n",
    "import cartopy.crs as ccrs\n",
    "import cartopy.feature as cfeature\n",
    "from cartopy.mpl.gridliner import LONGITUDE_FORMATTER, LATITUDE_FORMATTER\n",
    "\n",
    "#resampling to grid\n",
    "#from pyresample.geometry import AreaDefinition\n",
    "#from pyresample.geometry import GridDefinition\n",
    "#from pyresample import image, geometry, load_area, save_quicklook, SwathDefinition, area_def2basemap\n",
    "#from pyresample.kd_tree import resample_nearest\n",
    "#from pyresample.utils import check_and_wrap\n",
    "#from scipy import spatial\n",
    "\n",
    "#import xmitgcm.llcreader as llcreader\n",
    "#%matplotlib inline\n",
    "#import holoviews as hv\n",
    "#from holoviews.operation.datashader import regrid\n",
    "#hv.extension('bokeh')\n",
    "\n",
    "import matplotlib.pyplot as plt\n",
    "plt.rcParams['figure.figsize'] = (15,10)\n",
    "\n",
    "#%matplotlib inline\n",
    "#import holoviews as hv\n",
    "#from holoviews.operation.datashader import regrid\n",
    "#hv.extension('bokeh')\n",
    "\n",
    "import glob\n",
    "\n",
    "#where to find the data\n",
    "adir_data= 'f:/data/project_data/fluxsat/orbit/'\n",
    "adir_figs= 'f:/data/project_data/fluxsat/figures/'\n",
    "\n",
    "# add land mask\n",
    "#get bathymetry from ETOPO1\n",
    "#fname_topo = './../../data/topo/ETOPO1_Ice_g_gmt4.grd'\n",
    "fname_topo = 'f:/data/topo/ETOPO1_Ice_g_gmt4.grd'\n",
    "ds = xr.open_dataset(fname_topo)\n",
    "ds_topo = ds.rename_dims({'x':'lon','y':'lat'}).rename({'x':'lon','y':'lat'})\n",
    "tem = ds_topo.attrs\n",
    "ds_topo = ds_topo.rename({'z':'etopo_depth'})\n",
    "ds_topo.etopo_depth.attrs=tem\n",
    "_, index = np.unique(ds_topo['lon'], return_index=True)\n",
    "ds_topo = ds_topo.isel(lon=index)\n",
    "_, index = np.unique(ds_topo['lat'], return_index=True)\n",
    "ds_topo = ds_topo.isel(lat=index)"
   ]
  },
  {
   "cell_type": "code",
   "execution_count": null,
   "metadata": {},
   "outputs": [],
   "source": [
    "#import sys\n",
    "#sys.path.append('C:/Users/gentemann/Desktop/git_python/ECCOv4-py')\n",
    "#import ecco_v4_py as ecco"
   ]
  },
  {
   "cell_type": "code",
   "execution_count": null,
   "metadata": {},
   "outputs": [],
   "source": [
    "ds_topo2 = ds_topo.interp(lat=np.arange(-90,90,0.1),lon=np.arange(-180,180,0.1))\n",
    "ds_topo2.etopo_depth.plot()"
   ]
  },
  {
   "cell_type": "code",
   "execution_count": null,
   "metadata": {},
   "outputs": [],
   "source": [
    "#get all filenames\n",
    "filenames = glob.glob(adir_data+'3dys*.nc')\n",
    "ds = xr.open_mfdataset(filenames)\n",
    "da2 = ds.sec\n",
    "da2"
   ]
  },
  {
   "cell_type": "code",
   "execution_count": null,
   "metadata": {},
   "outputs": [],
   "source": [
    "da2[:,:,0].plot()"
   ]
  },
  {
   "cell_type": "code",
   "execution_count": null,
   "metadata": {},
   "outputs": [],
   "source": [
    "# now lets add in some real data to the orbits\n",
    "fname = adir_data + 'clayson_fluxes.nc'\n",
    "ds_sst = xr.open_dataset(fname)\n",
    "ds_sst = ds_sst.interp(lat=np.arange(-90,90,0.1),lon=np.arange(-180,180,0.1))\n",
    "ds_sst"
   ]
  },
  {
   "cell_type": "code",
   "execution_count": null,
   "metadata": {},
   "outputs": [],
   "source": [
    "ds_sst.hi.plot()"
   ]
  },
  {
   "cell_type": "code",
   "execution_count": null,
   "metadata": {},
   "outputs": [],
   "source": [
    "grid_def_lons, grid_def_lats = np.arange(-180,180,0.1), np.arange(-90,90,0.1)\n",
    "da_sst=[]\n",
    "for i in range(48):\n",
    "    tem = np.where(da2[:,:,i]==1,ds_sst.hi.data,np.nan)\n",
    "    tem = np.expand_dims(tem,2)\n",
    "    tem = xr.DataArray(tem,name='sst',\n",
    "                  coords={'lat':grid_def_lats,'lon':grid_def_lons,'orbit':[i]},\n",
    "                  dims=('lat','lon','orbit'))\n",
    "    da_sst.append(tem)\n",
    "da_sst2 = xr.concat(da_sst, dim='orbit')"
   ]
  },
  {
   "cell_type": "code",
   "execution_count": null,
   "metadata": {},
   "outputs": [],
   "source": [
    "da_sst2[:,:,6:12].mean('orbit').plot()"
   ]
  },
  {
   "cell_type": "code",
   "execution_count": null,
   "metadata": {},
   "outputs": [],
   "source": [
    "da_sst2[:,:,23:30].mean('orbit').plot()"
   ]
  },
  {
   "cell_type": "code",
   "execution_count": null,
   "metadata": {},
   "outputs": [],
   "source": [
    "#can put in any mask from here: https://neo.sci.gsfc.nasa.gov/view.php?datasetId=MOD_NDVI_M&date=2020-11-01\n",
    "img = plt.imread('F:/data/sat_data/background_images/bluemarble_10km_august.png')\n",
    "img_extent = (-180, 180, -90, 90)\n",
    "#plt.imshow(img, origin='upper', extent=img_extent)\n",
    "img2 = np.flip(img,0)\n",
    "for i in range(3):\n",
    "    img2[:,:,i] = np.where(ds_topo2.etopo_depth.data>0,img2[:,:,i],np.nan)\n",
    "img2 = np.flip(img2,0)\n",
    "img_white = np.where(np.isfinite(img2),img2,1.0)\n",
    "plt.imshow(img_white, origin='upper', extent=img_extent)"
   ]
  },
  {
   "cell_type": "code",
   "execution_count": null,
   "metadata": {},
   "outputs": [],
   "source": [
    "dy = da_sst2[:,:,6:12].mean(dim=['orbit'])\n",
    "\n",
    "#okay this is super kludgy, but the low res doesn't interpolate across -180/180 right, it doesn't wrap\n",
    "#so here i move everything to 0-360, then interpolate, then move back to -180/180\n",
    "tem = ds_sst.lo.rename({'latlo':'lat','lonlo':'lon'})\n",
    "tem.coords['lon'] = np.mod(tem['lon'], 360)\n",
    "tem = tem.sortby(tem.lon)\n",
    "\n",
    "dytem = dy.copy(deep=True)\n",
    "dytem.coords['lon'] = np.mod(dytem['lon'], 360)\n",
    "dytem = dytem.sortby(dytem.lon)\n",
    "\n",
    "tem2 = tem.interp(lat=dytem.lat,lon=dytem.lon)\n",
    "tem2.coords['lon'] = (tem2.coords['lon'] + 180) % 360 - 180\n",
    "tem2 = tem2.sortby(tem2.lon)\n",
    "tem = tem2\n",
    "\n",
    "dy2 = dy.where(np.isfinite(dy),tem.data)\n",
    "#dy2.sel(lon=slice(100,180),lat=slice(0,80)).plot()\n",
    "\n",
    "#ig = plt.figure(figsize=(10, 8))\n",
    "dy = dy2\n",
    "dy = dy.where(ds_topo2.etopo_depth<0)  #mask land regions\n",
    "dy = dy.where(dy>0,np.nan)\n",
    "ax = plt.subplot(111,projection=ccrs.Orthographic(180, 0))\n",
    "ax.imshow(img2, origin='upper', extent=img_extent, transform=ccrs.PlateCarree())\n",
    "dy.plot(ax=ax, transform=ccrs.PlateCarree(),cmap='rainbow_r',vmin=0,vmax=400,add_colorbar=False)\n",
    "ax.set_global()\n",
    "global_extent = ax.get_extent(crs=ccrs.PlateCarree())\n",
    "ax.set_extent(global_extent[:2] + (0, 90), crs=ccrs.PlateCarree())\n",
    "#ax.set_extent([0,90,-90,90], crs=ccrs.PlateCarree())\n",
    "#ax.set_ylim(0,90)\n",
    "plt.savefig(adir_figs+'clayson_so1.png', dpi=300)"
   ]
  },
  {
   "cell_type": "code",
   "execution_count": null,
   "metadata": {},
   "outputs": [],
   "source": [
    "dy = da_sst2[:,:,23:30].mean(dim=['orbit'])\n",
    "\n",
    "#okay this is super kludgy, but the low res doesn't interpolate across -180/180 right, it doesn't wrap\n",
    "#so here i move everything to 0-360, then interpolate, then move back to -180/180\n",
    "tem = ds_sst.lo.rename({'latlo':'lat','lonlo':'lon'})\n",
    "tem.coords['lon'] = np.mod(tem['lon'], 360)\n",
    "tem = tem.sortby(tem.lon)\n",
    "\n",
    "dytem = dy.copy(deep=True)\n",
    "dytem.coords['lon'] = np.mod(dytem['lon'], 360)\n",
    "dytem = dytem.sortby(dytem.lon)\n",
    "\n",
    "tem2 = tem.interp(lat=dytem.lat,lon=dytem.lon)\n",
    "tem2.coords['lon'] = (tem2.coords['lon'] + 180) % 360 - 180\n",
    "tem2 = tem2.sortby(tem2.lon)\n",
    "tem = tem2\n",
    "\n",
    "dy2 = dy.where(np.isfinite(dy),tem.data)\n",
    "#dy2.sel(lon=slice(100,180),lat=slice(0,80)).plot()\n",
    "\n",
    "#ig = plt.figure(figsize=(10, 8))\n",
    "dy = dy2\n",
    "dy = dy.where(ds_topo2.etopo_depth<0)  #mask land regions\n",
    "dy = dy.where(dy>0,np.nan)\n",
    "ax = plt.subplot(111,projection=ccrs.Orthographic(180, 0))\n",
    "ax.imshow(img2, origin='upper', extent=img_extent, transform=ccrs.PlateCarree())\n",
    "dy.plot(ax=ax, transform=ccrs.PlateCarree(),cmap='rainbow_r',vmin=0,vmax=400,add_colorbar=False)\n",
    "ax.set_global()\n",
    "global_extent = ax.get_extent(crs=ccrs.PlateCarree())\n",
    "ax.set_extent(global_extent[:2] + (0, 90), crs=ccrs.PlateCarree())\n",
    "#ax.set_extent([0,90,-90,90], crs=ccrs.PlateCarree())\n",
    "#ax.set_ylim(0,90)\n",
    "plt.savefig(adir_figs+'clayson_so1a.png', dpi=300)"
   ]
  },
  {
   "cell_type": "code",
   "execution_count": null,
   "metadata": {},
   "outputs": [],
   "source": [
    "dy = da_sst2[:,:,23:30].mean(dim=['orbit'])\n",
    "\n",
    "#okay this is super kludgy, but the low res doesn't interpolate across -180/180 right, it doesn't wrap\n",
    "#so here i move everything to 0-360, then interpolate, then move back to -180/180\n",
    "tem = ds_sst.lo.rename({'latlo':'lat','lonlo':'lon'})\n",
    "tem.coords['lon'] = np.mod(tem['lon'], 360)\n",
    "tem = tem.sortby(tem.lon)\n",
    "\n",
    "dytem = dy.copy(deep=True)\n",
    "dytem.coords['lon'] = np.mod(dytem['lon'], 360)\n",
    "dytem = dytem.sortby(dytem.lon)\n",
    "\n",
    "tem2 = tem.interp(lat=dytem.lat,lon=dytem.lon,method='nearest')\n",
    "tem2.coords['lon'] = (tem2.coords['lon'] + 180) % 360 - 180\n",
    "tem2 = tem2.sortby(tem2.lon)\n",
    "tem = tem2\n",
    "\n",
    "dy2 = dy.where(np.isfinite(dy),tem.data)\n",
    "#dy2.sel(lon=slice(100,180),lat=slice(0,80)).plot()\n",
    "\n",
    "#ig = plt.figure(figsize=(10, 8))\n",
    "dy = dy2\n",
    "dy = dy.where(ds_topo2.etopo_depth<0)  #mask land regions\n",
    "dy = dy.where(dy>0,np.nan)\n",
    "ax = plt.subplot(111,projection=ccrs.Orthographic(180, 0))\n",
    "ax.imshow(img2, origin='upper', extent=img_extent, transform=ccrs.PlateCarree())\n",
    "dy.plot(ax=ax, transform=ccrs.PlateCarree(),cmap='jet',vmin=0,vmax=400,add_colorbar=False)\n",
    "ax.set_global()\n",
    "global_extent = ax.get_extent(crs=ccrs.PlateCarree())\n",
    "ax.set_extent(global_extent[:2] + (0, 90), crs=ccrs.PlateCarree())\n",
    "#ax.set_extent([0,90,-90,90], crs=ccrs.PlateCarree())\n",
    "#ax.set_ylim(0,90)\n",
    "plt.savefig(adir_figs+'clayson_so1b_300dpi.png', dpi=300)\n",
    "\n"
   ]
  },
  {
   "cell_type": "code",
   "execution_count": null,
   "metadata": {},
   "outputs": [],
   "source": [
    "ds_sst.sel(lon=slice(100,200),lat=slice(20,70)).hi.plot()"
   ]
  },
  {
   "cell_type": "code",
   "execution_count": null,
   "metadata": {},
   "outputs": [],
   "source": [
    "dy = da_sst2[:,:,23:30].mean(dim=['orbit'])\n",
    "\n",
    "#okay this is super kludgy, but the low res doesn't interpolate across -180/180 right, it doesn't wrap\n",
    "#so here i move everything to 0-360, then interpolate, then move back to -180/180\n",
    "tem = ds_sst.lo.rename({'latlo':'lat','lonlo':'lon'})\n",
    "tem.coords['lon'] = np.mod(tem['lon'], 360)\n",
    "tem = tem.sortby(tem.lon)\n",
    "\n",
    "dytem = dy.copy(deep=True)\n",
    "dytem.coords['lon'] = np.mod(dytem['lon'], 360)\n",
    "dytem = dytem.sortby(dytem.lon)\n",
    "\n",
    "tem2 = tem.interp(lat=dytem.lat,lon=dytem.lon,method='nearest')\n",
    "tem2.coords['lon'] = (tem2.coords['lon'] + 180) % 360 - 180\n",
    "tem2 = tem2.sortby(tem2.lon)\n",
    "tem = tem2\n",
    "\n",
    "dylo = tem\n",
    "dylo = dylo.where(ds_topo2.etopo_depth<0)  #mask land regions\n",
    "dylo = dylo.where(dylo>0,np.nan)\n",
    "\n",
    "#dy2 = dy.where(np.isfinite(dy),tem.data)\n",
    "#dy2.sel(lon=slice(100,180),lat=slice(0,80)).plot()\n",
    "\n",
    "#ig = plt.figure(figsize=(10, 8))\n",
    "#dy = dy2\n",
    "dy = dy.where(ds_topo2.etopo_depth<0)  #mask land regions\n",
    "dy = dy.where(dy>0,np.nan)\n",
    "\n",
    "ax = plt.subplot(111,projection=ccrs.Orthographic(180, 0))\n",
    "ax.imshow(img2, origin='upper', extent=img_extent, transform=ccrs.PlateCarree())\n",
    "dylo.plot(ax=ax, transform=ccrs.PlateCarree(),cmap='gray',vmin=-400,vmax=400,add_colorbar=False)\n",
    "dy.plot(ax=ax, transform=ccrs.PlateCarree(),cmap='coolwarm',vmin=-400,vmax=400,add_colorbar=False)\n",
    "ax.set_global()\n",
    "global_extent = ax.get_extent(crs=ccrs.PlateCarree())\n",
    "ax.set_extent(global_extent[:2] + (0, 90), crs=ccrs.PlateCarree())\n",
    "#ax.set_extent([0,90,-90,90], crs=ccrs.PlateCarree())\n",
    "#ax.set_ylim(0,90)\n",
    "plt.savefig(adir_figs+'clayson_so1c.png', dpi=300)\n",
    "\n"
   ]
  },
  {
   "cell_type": "code",
   "execution_count": null,
   "metadata": {},
   "outputs": [],
   "source": [
    "ax = plt.subplot(111,projection=ccrs.Orthographic(180, 0))\n",
    "ax.imshow(img2, origin='upper', extent=img_extent, transform=ccrs.PlateCarree())\n",
    "dylo.plot(ax=ax, transform=ccrs.PlateCarree(),cmap='gray_r',vmin=-400,vmax=400,add_colorbar=False)\n",
    "dy.plot(ax=ax, transform=ccrs.PlateCarree(),cmap='jet',vmin=-400,vmax=400,add_colorbar=False)\n",
    "ax.set_global()\n",
    "global_extent = ax.get_extent(crs=ccrs.PlateCarree())\n",
    "ax.set_extent(global_extent[:2] + (0, 90), crs=ccrs.PlateCarree())\n",
    "#ax.set_extent([0,90,-90,90], crs=ccrs.PlateCarree())\n",
    "#ax.set_ylim(0,90)\n",
    "plt.savefig(adir_figs+'clayson_so1c_300dpi.png', dpi=300)\n",
    "#plt.savefig(adir_figs+'clayson_so1c_300dpi.pdf', dpi=300)\n",
    "#plt.savefig(adir_figs+'clayson_so1c_300dpi.svg', dpi=300)\n"
   ]
  },
  {
   "cell_type": "code",
   "execution_count": null,
   "metadata": {},
   "outputs": [],
   "source": [
    "ax = plt.subplot(111,projection=ccrs.Orthographic(180, 0))\n",
    "ax.imshow(img2, origin='upper', extent=img_extent, transform=ccrs.PlateCarree())\n",
    "dylo.plot(ax=ax, transform=ccrs.PlateCarree(),cmap='gray_r',vmin=-400,vmax=400,add_colorbar=False)\n",
    "dy.plot(ax=ax, transform=ccrs.PlateCarree(),cmap='jet',vmin=-400,vmax=400,add_colorbar=False)\n",
    "ax.set_global()\n",
    "global_extent = ax.get_extent(crs=ccrs.PlateCarree())\n",
    "ax.set_extent(global_extent[:2] + (0, 90), crs=ccrs.PlateCarree())\n",
    "#ax.set_extent([0,90,-90,90], crs=ccrs.PlateCarree())\n",
    "#ax.set_ylim(0,90)\n",
    "plt.savefig(adir_figs+'clayson_so1c_300dpi.pdf', dpi=300)\n"
   ]
  },
  {
   "cell_type": "code",
   "execution_count": null,
   "metadata": {},
   "outputs": [],
   "source": []
  }
 ],
 "metadata": {
  "kernelspec": {
   "display_name": "Python 3",
   "language": "python",
   "name": "python3"
  },
  "language_info": {
   "codemirror_mode": {
    "name": "ipython",
    "version": 3
   },
   "file_extension": ".py",
   "mimetype": "text/x-python",
   "name": "python",
   "nbconvert_exporter": "python",
   "pygments_lexer": "ipython3",
   "version": "3.7.9"
  }
 },
 "nbformat": 4,
 "nbformat_minor": 4
}
