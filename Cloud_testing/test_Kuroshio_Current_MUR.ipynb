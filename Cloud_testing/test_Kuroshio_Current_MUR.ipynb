{
 "cells": [
  {
   "cell_type": "code",
   "execution_count": 1,
   "metadata": {},
   "outputs": [],
   "source": [
    "# filter some warning messages\n",
    "import warnings \n",
    "warnings.filterwarnings(\"ignore\") \n",
    "\n",
    "#libraries\n",
    "import datetime as dt\n",
    "import xarray as xr\n",
    "import fsspec\n",
    "import s3fs\n",
    "from matplotlib import pyplot as plt\n",
    "import numpy as np\n",
    "import pandas as pd\n",
    "# make datasets display nicely\n",
    "xr.set_options(display_style=\"html\")  \n",
    "import os.path\n",
    "\n",
    "#magic fncts #put static images of your plot embedded in the notebook\n",
    "%matplotlib inline  \n",
    "plt.rcParams['figure.figsize'] = 12, 6\n",
    "%config InlineBackend.figure_format = 'retina' \n"
   ]
  },
  {
   "cell_type": "code",
   "execution_count": null,
   "metadata": {},
   "outputs": [],
   "source": [
    "from dask.distributed import Client, progress\n",
    "from dask_gateway import Gateway\n",
    "gateway = Gateway()\n",
    "cluster = gateway.new_cluster()\n",
    "cluster.scale(200)\n",
    "cluster"
   ]
  },
  {
   "cell_type": "code",
   "execution_count": null,
   "metadata": {},
   "outputs": [],
   "source": [
    "%%time\n",
    "file_location = 's3://mur-sst/zarr-v1'\n",
    "ikey = fsspec.get_mapper(file_location, anon=True)\n",
    "ds_sst = xr.open_zarr(ikey,consolidated=True)\n",
    "ds_sst = ds_sst.sel(time=slice('2015-01-01','2020-01-01'))"
   ]
  },
  {
   "cell_type": "code",
   "execution_count": null,
   "metadata": {},
   "outputs": [],
   "source": [
    "small_subset = ds_sst.sel(lon=slice(150,165),lat=slice(25,50))\n",
    "small_subset.analysed_sst[0,:,:].plot()\n",
    "#small_subset"
   ]
  },
  {
   "cell_type": "code",
   "execution_count": null,
   "metadata": {},
   "outputs": [],
   "source": [
    "sm_clim = small_subset.groupby('time.dayofyear').mean('time',keep_attrs=True,skipna=False)\n",
    "sm_anom = small_subset.groupby('time.dayofyear')-sm_clim\n",
    "ss = sm_anom.analysed_sst.std(dim=('lat','lon')).load()"
   ]
  },
  {
   "cell_type": "code",
   "execution_count": null,
   "metadata": {},
   "outputs": [],
   "source": [
    "plt.plot(ss.time,ss)"
   ]
  },
  {
   "cell_type": "code",
   "execution_count": null,
   "metadata": {},
   "outputs": [],
   "source": [
    "tem = ss.sel(time=slice('2018-07-09','2018-07-15'))\n",
    "plt.plot(tem.time,tem)"
   ]
  },
  {
   "cell_type": "code",
   "execution_count": null,
   "metadata": {},
   "outputs": [],
   "source": []
  },
  {
   "cell_type": "code",
   "execution_count": null,
   "metadata": {},
   "outputs": [],
   "source": [
    "tem = ds_sst.analysed_sst.sel(lat=slice(0,65),time='2015-08-27T09').load()\n",
    "tem.coords['lon'] = np.mod(tem['lon'], 360)\n",
    "tem = tem.sortby(tem.lon)\n",
    "a1 = tem.sel(lon=slice(100,270))\n",
    "\n",
    "tem = ds_sst.analysed_sst.sel(lat=slice(0,65),time='2016-08-26T09').load()\n",
    "tem.coords['lon'] = np.mod(tem['lon'], 360)\n",
    "tem = tem.sortby(tem.lon)\n",
    "a2 = tem.sel(lon=slice(100,270))\n",
    "\n",
    "tem = ds_sst.analysed_sst.sel(lat=slice(0,65),time='2018-07-11T09').load()\n",
    "tem.coords['lon'] = np.mod(tem['lon'], 360)\n",
    "tem = tem.sortby(tem.lon)\n",
    "a3 = tem.sel(lon=slice(100,270))\n"
   ]
  },
  {
   "cell_type": "code",
   "execution_count": null,
   "metadata": {},
   "outputs": [],
   "source": [
    "#a1 = ds_sst.analysed_sst.sel(lon=slice(100,270),lat=slice(0,65),time='2015-08-27T09').load()\n",
    "#a2 = ds_sst.analysed_sst.sel(lon=slice(100,270),lat=slice(0,65),time='2016-08-28T09').load()\n",
    "#a3 = ds_sst.analysed_sst.sel(lon=slice(100,270),lat=slice(0,65),time='2018-07-11T09').load()"
   ]
  },
  {
   "cell_type": "code",
   "execution_count": null,
   "metadata": {},
   "outputs": [],
   "source": [
    "a1.plot(vmin=275,vmax=305,cmap='jet')\n",
    "plt.savefig('./mursst_20150827.png')   "
   ]
  },
  {
   "cell_type": "code",
   "execution_count": null,
   "metadata": {},
   "outputs": [],
   "source": [
    "a2.plot(vmin=275,vmax=305,cmap='jet')\n",
    "plt.savefig('./mursst_20160828.png')     "
   ]
  },
  {
   "cell_type": "code",
   "execution_count": null,
   "metadata": {},
   "outputs": [],
   "source": [
    "a3.plot(vmin=275,vmax=305,cmap='jet')\n",
    "plt.savefig('./mursst_20180711.png')     "
   ]
  },
  {
   "cell_type": "code",
   "execution_count": null,
   "metadata": {},
   "outputs": [],
   "source": [
    "big_subset = ds_sst.sel(lon=slice(130,165),lat=slice(20,50))\n",
    "bg_clim = big_subset.groupby('time.dayofyear').mean('time',keep_attrs=True,skipna=False)\n",
    "bg_anom = big_subset.groupby('time.dayofyear')-bg_clim"
   ]
  },
  {
   "cell_type": "code",
   "execution_count": null,
   "metadata": {},
   "outputs": [],
   "source": [
    "bg_anom.analysed_sst.plot(vmin=-2,vmax=2,cmap='seismic')"
   ]
  },
  {
   "cell_type": "code",
   "execution_count": null,
   "metadata": {},
   "outputs": [],
   "source": []
  }
 ],
 "metadata": {
  "kernelspec": {
   "display_name": "Python [conda env:notebook] *",
   "language": "python",
   "name": "conda-env-notebook-py"
  },
  "language_info": {
   "codemirror_mode": {
    "name": "ipython",
    "version": 3
   },
   "file_extension": ".py",
   "mimetype": "text/x-python",
   "name": "python",
   "nbconvert_exporter": "python",
   "pygments_lexer": "ipython3",
   "version": "3.7.8"
  }
 },
 "nbformat": 4,
 "nbformat_minor": 4
}
