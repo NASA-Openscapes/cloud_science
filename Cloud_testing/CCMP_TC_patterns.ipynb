{
 "cells": [
  {
   "cell_type": "code",
   "execution_count": null,
   "id": "adult-terrorist",
   "metadata": {},
   "outputs": [],
   "source": [
    "#libs for reading data\n",
    "import xarray as xr\n",
    "import gcsfs\n",
    "import glob\n",
    "import numpy as np\n",
    "import matplotlib.pyplot as plt\n",
    "from xhistogram.xarray import histogram\n",
    "\n",
    "#lib for dask gateway\n",
    "from dask_gateway import Gateway\n",
    "from dask.distributed import Client"
   ]
  },
  {
   "cell_type": "code",
   "execution_count": null,
   "id": "front-medicaid",
   "metadata": {},
   "outputs": [],
   "source": [
    "gateway = Gateway()\n",
    "cluster = gateway.new_cluster()\n",
    "cluster.adapt(minimum=1, maximum=75)\n",
    "client = Client(cluster)\n",
    "cluster"
   ]
  },
  {
   "cell_type": "code",
   "execution_count": null,
   "id": "competitive-microwave",
   "metadata": {},
   "outputs": [],
   "source": [
    "zstore = 'gs://pangeo-nasa-ccmp/zarr'\n",
    "\n",
    "fs = gcsfs.GCSFileSystem(project='pangeo-181919',requester_pays=True)\n",
    "\n",
    "ds = xr.open_zarr(fs.get_mapper(zstore))\n",
    "\n",
    "ds['wspd']=np.sqrt(ds.uwnd**2+ds.vwnd**2)\n",
    "\n",
    "ds"
   ]
  },
  {
   "cell_type": "markdown",
   "id": "fleet-burlington",
   "metadata": {},
   "source": [
    "# where are the strong storms occuring?  is there any shift in latitudinal extent?"
   ]
  },
  {
   "cell_type": "code",
   "execution_count": null,
   "id": "electrical-science",
   "metadata": {},
   "outputs": [],
   "source": [
    "d,x=[],[]\n",
    "for iwnd in range(20,36,5)\n",
    "    high_val = ds.wspd.where(ds.wspd>25)\n",
    "    high_cnt = high_val/high_val\n",
    "    high_lat = high_cnt.sum({'longitude'})\n",
    "    high_lat_computed = high_lat.compute()\n",
    "    d.append(high_lat_computed)\n",
    "    x.append(iwnd)\n",
    "mn_yr = xr.concat(m, dim='year')\n",
    "mn_yr['year']=\n",
    "glb_mn = np.mean(mn_yr)\n"
   ]
  },
  {
   "cell_type": "code",
   "execution_count": null,
   "id": "endless-health",
   "metadata": {},
   "outputs": [],
   "source": [
    "high_lat.transpose().plot(cmap='YlOrBr',vmin=0,vmax=10)\n",
    "plt.savefig('../../figures/num_storms.png')"
   ]
  },
  {
   "cell_type": "code",
   "execution_count": null,
   "id": "integral-oakland",
   "metadata": {},
   "outputs": [],
   "source": []
  },
  {
   "cell_type": "code",
   "execution_count": null,
   "id": "challenging-diving",
   "metadata": {},
   "outputs": [],
   "source": []
  }
 ],
 "metadata": {
  "kernelspec": {
   "display_name": "Python 3",
   "language": "python",
   "name": "python3"
  },
  "language_info": {
   "codemirror_mode": {
    "name": "ipython",
    "version": 3
   },
   "file_extension": ".py",
   "mimetype": "text/x-python",
   "name": "python",
   "nbconvert_exporter": "python",
   "pygments_lexer": "ipython3",
   "version": "3.8.6"
  }
 },
 "nbformat": 4,
 "nbformat_minor": 5
}
