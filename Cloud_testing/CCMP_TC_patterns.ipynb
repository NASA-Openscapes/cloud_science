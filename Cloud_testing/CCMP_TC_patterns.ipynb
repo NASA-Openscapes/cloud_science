{
 "cells": [
  {
   "cell_type": "code",
   "execution_count": null,
   "id": "moved-prerequisite",
   "metadata": {},
   "outputs": [],
   "source": [
    "#libs for reading data\n",
    "import xarray as xr\n",
    "import gcsfs\n",
    "import glob\n",
    "import numpy as np\n",
    "import matplotlib.pyplot as plt\n",
    "from xhistogram.xarray import histogram\n",
    "\n",
    "#lib for dask gateway\n",
    "from dask_gateway import Gateway\n",
    "from dask.distributed import Client"
   ]
  },
  {
   "cell_type": "code",
   "execution_count": null,
   "id": "secret-service",
   "metadata": {},
   "outputs": [],
   "source": [
    "gateway = Gateway()\n",
    "cluster = gateway.new_cluster()\n",
    "cluster.adapt(minimum=1, maximum=75)\n",
    "client = Client(cluster)\n",
    "cluster"
   ]
  },
  {
   "cell_type": "code",
   "execution_count": null,
   "id": "prostate-shirt",
   "metadata": {},
   "outputs": [],
   "source": [
    "zstore = 'gs://pangeo-nasa-ccmp/zarr'\n",
    "\n",
    "fs = gcsfs.GCSFileSystem(project='pangeo-181919',requester_pays=True)\n",
    "\n",
    "ds = xr.open_zarr(fs.get_mapper(zstore))\n",
    "\n",
    "ds['wspd']=np.sqrt(ds.uwnd**2+ds.vwnd**2)\n",
    "\n",
    "ds"
   ]
  },
  {
   "cell_type": "code",
   "execution_count": null,
   "id": "improved-armor",
   "metadata": {},
   "outputs": [],
   "source": [
    "ds.wspd[0,:,:].plot()"
   ]
  },
  {
   "cell_type": "code",
   "execution_count": null,
   "id": "hawaiian-might",
   "metadata": {},
   "outputs": [],
   "source": [
    "ts = ds.sel(latitude=38.45,longitude=237.34,method='nearest').load()"
   ]
  },
  {
   "cell_type": "code",
   "execution_count": null,
   "id": "committed-technical",
   "metadata": {},
   "outputs": [],
   "source": [
    "dy = ts.resample(time='1D').mean()\n",
    "dy"
   ]
  },
  {
   "cell_type": "code",
   "execution_count": null,
   "id": "invisible-amazon",
   "metadata": {},
   "outputs": [],
   "source": [
    "dy.time.dt.month"
   ]
  },
  {
   "cell_type": "code",
   "execution_count": null,
   "id": "ordered-harassment",
   "metadata": {},
   "outputs": [],
   "source": [
    "mon = dy.time.dt.month\n",
    "sub = dy.where((mon>=9) & (mon<=10))"
   ]
  },
  {
   "cell_type": "code",
   "execution_count": null,
   "id": "promising-invention",
   "metadata": {},
   "outputs": [],
   "source": [
    "sub.uwnd.plot()"
   ]
  },
  {
   "cell_type": "markdown",
   "id": "immediate-swing",
   "metadata": {},
   "source": [
    "# where are the strong storms occuring?  is there any shift in latitudinal extent?"
   ]
  },
  {
   "cell_type": "code",
   "execution_count": null,
   "id": "false-nursery",
   "metadata": {},
   "outputs": [],
   "source": [
    "d,x=[],[]\n",
    "for iwnd in range(20,36,5)\n",
    "    high_val = ds.wspd.where(ds.wspd>25)\n",
    "    high_cnt = high_val/high_val\n",
    "    high_lat = high_cnt.sum({'longitude'})\n",
    "    high_lat_computed = high_lat.compute()\n",
    "    d.append(high_lat_computed)\n",
    "    x.append(iwnd)\n",
    "mn_yr = xr.concat(m, dim='year')\n",
    "mn_yr['year']=\n",
    "glb_mn = np.mean(mn_yr)\n"
   ]
  },
  {
   "cell_type": "code",
   "execution_count": null,
   "id": "adapted-marker",
   "metadata": {},
   "outputs": [],
   "source": [
    "high_lat.transpose().plot(cmap='YlOrBr',vmin=0,vmax=10)\n",
    "plt.savefig('../../figures/num_storms.png')"
   ]
  },
  {
   "cell_type": "code",
   "execution_count": null,
   "id": "timely-validity",
   "metadata": {},
   "outputs": [],
   "source": []
  },
  {
   "cell_type": "code",
   "execution_count": null,
   "id": "blind-finish",
   "metadata": {},
   "outputs": [],
   "source": [
    "# maybe era5 reanalysis doesn't see strong wind events, try something esle?\n",
    "from intake import open_catalog\n",
    "cat = open_catalog(\"https://raw.githubusercontent.com/pangeo-data/pangeo-datastore/master/intake-catalogs/master.yaml\")\n",
    "list(cat['atmosphere'])"
   ]
  },
  {
   "cell_type": "code",
   "execution_count": null,
   "id": "applied-mystery",
   "metadata": {},
   "outputs": [],
   "source": [
    "from intake import open_catalog\n",
    "cat = open_catalog(\"https://raw.githubusercontent.com/pangeo-data/pangeo-datastore/master/intake-catalogs/atmosphere.yaml\")\n",
    "ds  = cat[\"era5_hourly_reanalysis_single_levels_sa\"].to_dask()\n",
    "ds"
   ]
  },
  {
   "cell_type": "code",
   "execution_count": null,
   "id": "severe-boating",
   "metadata": {},
   "outputs": [],
   "source": [
    "ds.u10[0,:,:].plot()"
   ]
  },
  {
   "cell_type": "code",
   "execution_count": null,
   "id": "fiscal-meaning",
   "metadata": {},
   "outputs": [],
   "source": [
    "#ts = ds.sel(lon=-122.66,lat=38.45,method='nearest')\n",
    "ts = ds.sel(longitude=-237.34,latitude=38.45,method='nearest')"
   ]
  },
  {
   "cell_type": "code",
   "execution_count": null,
   "id": "express-premium",
   "metadata": {},
   "outputs": [],
   "source": [
    "dy = ts.resample(time='1D').mean().load()"
   ]
  },
  {
   "cell_type": "code",
   "execution_count": null,
   "id": "changed-cuisine",
   "metadata": {},
   "outputs": [],
   "source": []
  }
 ],
 "metadata": {
  "kernelspec": {
   "display_name": "Python 3",
   "language": "python",
   "name": "python3"
  },
  "language_info": {
   "codemirror_mode": {
    "name": "ipython",
    "version": 3
   },
   "file_extension": ".py",
   "mimetype": "text/x-python",
   "name": "python",
   "nbconvert_exporter": "python",
   "pygments_lexer": "ipython3",
   "version": "3.8.6"
  }
 },
 "nbformat": 4,
 "nbformat_minor": 5
}
