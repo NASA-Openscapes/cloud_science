{
 "cells": [
  {
   "cell_type": "code",
   "execution_count": null,
   "metadata": {},
   "outputs": [],
   "source": [
    "#pip install git+https://github.com/rabernat/xmitgcm.git@fix-llcreader-klevels-bug"
   ]
  },
  {
   "cell_type": "code",
   "execution_count": null,
   "metadata": {},
   "outputs": [],
   "source": [
    "import xmitgcm.llcreader as llcreader\n",
    "%matplotlib inline\n",
    "import holoviews as hv\n",
    "#from holoviews.operation.datashader import regrid\n",
    "#hv.extension('bokeh')\n",
    "\n",
    "import matplotlib.pyplot as plt\n",
    "plt.rcParams['figure.figsize'] = (15,10)\n",
    "\n",
    "%matplotlib inline\n",
    "import holoviews as hv\n",
    "from holoviews.operation.datashader import regrid\n",
    "hv.extension('bokeh')"
   ]
  },
  {
   "cell_type": "code",
   "execution_count": null,
   "metadata": {},
   "outputs": [],
   "source": [
    "plt.rcParams['figure.figsize'] = (15,10)\n"
   ]
  },
  {
   "cell_type": "code",
   "execution_count": null,
   "metadata": {},
   "outputs": [],
   "source": [
    "model = llcreader.ECCOPortalLLC2160Model()\n",
    "model"
   ]
  },
  {
   "cell_type": "code",
   "execution_count": null,
   "metadata": {},
   "outputs": [],
   "source": [
    "ds_sst = model.get_dataset(varnames=['Theta'], k_levels=[0], type='latlon')\n",
    "ds_sst"
   ]
  },
  {
   "cell_type": "code",
   "execution_count": null,
   "metadata": {},
   "outputs": [],
   "source": [
    "ds_sst.nbytes / 1e12"
   ]
  },
  {
   "cell_type": "code",
   "execution_count": null,
   "metadata": {},
   "outputs": [],
   "source": [
    "# see where sst cooler in tropics indicating TIW strong\n",
    "ds_sst.Theta.isel(k=0,j=4000,i=6000,time=slice(1,18000,240)).plot()"
   ]
  },
  {
   "cell_type": "code",
   "execution_count": null,
   "metadata": {},
   "outputs": [],
   "source": []
  },
  {
   "cell_type": "code",
   "execution_count": null,
   "metadata": {},
   "outputs": [],
   "source": [
    "ds_sst.time[11300].data\n",
    "ds_sst.time[6200].data"
   ]
  },
  {
   "cell_type": "code",
   "execution_count": null,
   "metadata": {},
   "outputs": [],
   "source": []
  },
  {
   "cell_type": "code",
   "execution_count": null,
   "metadata": {},
   "outputs": [],
   "source": []
  },
  {
   "cell_type": "code",
   "execution_count": null,
   "metadata": {},
   "outputs": [],
   "source": [
    "plt.rcParams['figure.figsize'] = (20,10)\n",
    "ds_sst.Theta.isel(k=0,time=6200,j=slice(2500,6480),i=slice(3000,8000)).plot(vmin=5,vmax=29,cmap='turbo')\n",
    "plt.savefig('./figures/theta_global.png')"
   ]
  },
  {
   "cell_type": "code",
   "execution_count": null,
   "metadata": {},
   "outputs": [],
   "source": [
    "plt.rcParams['figure.figsize'] = (20,10)\n",
    "ds_sst.Theta.isel(k=0,time=6200,j=slice(2500,6480),i=slice(3000,8000)).plot(vmin=5,vmax=28,cmap='turbo')\n",
    "plt.savefig('./figures/theta_global2.png')"
   ]
  },
  {
   "cell_type": "markdown",
   "metadata": {},
   "source": [
    "### EXPLORE DATA"
   ]
  },
  {
   "cell_type": "code",
   "execution_count": null,
   "metadata": {},
   "outputs": [],
   "source": [
    "# see where sst cooler in tropics indicating TIW strong\n",
    "dif = ds_sst.Theta.isel(k=0,j=4150,i=6000,time=slice(1,18000,240)) - ds_sst.Theta.isel(k=0,j=4000,i=6000,time=slice(1,18000,240)) \n",
    "dif.plot()"
   ]
  },
  {
   "cell_type": "code",
   "execution_count": null,
   "metadata": {},
   "outputs": [],
   "source": [
    "#testing for when to look\n",
    "dataset = hv.Dataset(ds_sst.Theta.isel(k=0,j=slice(3500,6100),i=slice(3000,8000),time=slice(1,18000,240)).astype('f4'))\n",
    "hv_im = (dataset.to(hv.Image, ['i', 'j'], dynamic=True)\n",
    "                .options(cmap='Magma', width=950, height=600, colorbar=True))\n",
    "\n",
    "%output holomap='scrubber' fps=3\n",
    "regrid(hv_im, precompute=True)"
   ]
  }
 ],
 "metadata": {
  "kernelspec": {
   "display_name": "Python 3",
   "language": "python",
   "name": "python3"
  },
  "language_info": {
   "codemirror_mode": {
    "name": "ipython",
    "version": 3
   },
   "file_extension": ".py",
   "mimetype": "text/x-python",
   "name": "python",
   "nbconvert_exporter": "python",
   "pygments_lexer": "ipython3",
   "version": "3.8.6"
  }
 },
 "nbformat": 4,
 "nbformat_minor": 4
}
