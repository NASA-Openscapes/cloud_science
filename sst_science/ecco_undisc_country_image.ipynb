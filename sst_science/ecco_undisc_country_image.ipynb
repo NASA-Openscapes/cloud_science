{
 "cells": [
  {
   "cell_type": "code",
   "execution_count": null,
   "metadata": {},
   "outputs": [],
   "source": [
    "#!pip install git+https://github.com/rabernat/xmitgcm.git@fix-llcreader-klevels-bug"
   ]
  },
  {
   "cell_type": "code",
   "execution_count": null,
   "metadata": {},
   "outputs": [],
   "source": [
    "import numpy as np\n",
    "import xmitgcm.llcreader as llcreader\n",
    "%matplotlib inline\n",
    "import holoviews as hv\n",
    "#from holoviews.operation.datashader import regrid\n",
    "#hv.extension('bokeh')\n",
    "import xarray as xr\n",
    "import matplotlib.pyplot as plt\n",
    "plt.rcParams['figure.figsize'] = (15,10)\n",
    "\n",
    "%matplotlib inline\n",
    "import holoviews as hv\n",
    "from holoviews.operation.datashader import regrid\n",
    "hv.extension('bokeh')"
   ]
  },
  {
   "cell_type": "code",
   "execution_count": null,
   "metadata": {},
   "outputs": [],
   "source": [
    "plt.rcParams['figure.figsize'] = (15,10)\n"
   ]
  },
  {
   "cell_type": "code",
   "execution_count": null,
   "metadata": {},
   "outputs": [],
   "source": [
    "model = llcreader.ECCOPortalLLC2160Model()\n",
    "model"
   ]
  },
  {
   "cell_type": "code",
   "execution_count": null,
   "metadata": {},
   "outputs": [],
   "source": [
    "ds_sst = model.get_dataset(varnames=['Theta'], k_levels=[0], type='latlon')\n",
    "ds_sst"
   ]
  },
  {
   "cell_type": "code",
   "execution_count": null,
   "metadata": {},
   "outputs": [],
   "source": [
    "#create a daily climatology and anomaly\n",
    "climatology_mean = ds_sst.groupby('time.dayofyear').mean('time',keep_attrs=True,skipna=False)\n",
    "ds_anomaly = ds_sst.groupby('time.dayofyear')-climatology_mean  #take out annual mean to remove trends\n",
    "anom = ds_anomaly.Theta.isel(k=0,time=6200,j=slice(4900,5400),i=slice(4600,5200)).load()"
   ]
  },
  {
   "cell_type": "code",
   "execution_count": null,
   "metadata": {},
   "outputs": [],
   "source": [
    "xx = np.arange(600)/600*110 \n",
    "xlabel = [20,40,60,80,100]\n",
    "yy = np.arange(500)/500*25+5\n",
    "ylabel = [10,20,30]\n",
    "plt.pcolormesh(xx,yy,anom,vmin=-2,vmax=2,cmap='seismic')\n",
    "plt.tick_params(labelsize=30)\n",
    "plt.xlabel('Spatial Scale (km)',size=30)\n",
    "plt.ylabel('Random Uncertainty (%)',size=30)\n",
    "\n",
    "plt.savefig('discovered_country_anomaly_fullres.png')"
   ]
  },
  {
   "cell_type": "code",
   "execution_count": null,
   "metadata": {},
   "outputs": [],
   "source": [
    "#plt.savefig('discovered_country_anomaly_fullres.png')"
   ]
  },
  {
   "cell_type": "code",
   "execution_count": null,
   "metadata": {},
   "outputs": [],
   "source": [
    "noise = 10\n",
    "sst = anom\n",
    "#create random array 0 to 1\n",
    "tem1a = (sst/sst)*np.random.rand(500,600)\n",
    "#tem1a.plot()\n",
    "#create linearly increasing random array\n",
    "tem2 = (sst/sst).load()\n",
    "for j in range(500):\n",
    "    tem2[j,:]=tem2[j,:]*((j/500)**3*noise)\n",
    "noise = tem1a*tem2\n",
    "sstnoise = sst+sst*noise"
   ]
  },
  {
   "cell_type": "code",
   "execution_count": null,
   "metadata": {},
   "outputs": [],
   "source": [
    "# okay, now in x direction smooth by radius, convolution ?\n",
    "anomsmooth=sstnoise.copy(deep=True).load()\n",
    "noisesmooth=sstnoise.copy(deep=True).load()\n",
    "for i in range(600):\n",
    "    w = int(i/20)+1 #window for smoothing\n",
    "    i1,i2=i-w+1,i+w\n",
    "    if i1<0:\n",
    "        i1=0\n",
    "    if i2>599:\n",
    "        i2=599\n",
    "    for j in range(500):\n",
    "        j1,j2=j-w+1,j+w\n",
    "        if j1<0:\n",
    "            j1=0\n",
    "        if j2>499:\n",
    "            j2=499\n",
    "        anomsmooth[j,i]=sst[j1:j2,i1:i2].mean()\n",
    "        noisesmooth[j,i]=noise[j1:j2,i1:i2].mean()\n",
    "    if int(i/100)*100==i:\n",
    "        print(i,600)\n",
    "anomsmooth.to_netcdf('anomsmooth45a.nc')\n",
    "noisesmooth.to_netcdf('anomsmooth45a.nc')\n",
    "plt.rcParams['figure.figsize'] = (20,10)\n",
    "#(anomsmooth+noisesmooth*anomsmooth).plot(vmin=-2,vmax=2,cmap='seismic')\n",
    "\n",
    "xx = np.arange(600)/600*110 \n",
    "xlabel = [20,40,60,80,100]\n",
    "yy = np.arange(500)/500*25+5\n",
    "ylabel = [10,20,30]\n",
    "plt.pcolormesh(xx,yy,anomsmooth+noisesmooth*anomsmooth,vmin=-2,vmax=2,cmap='seismic')\n",
    "plt.tick_params(labelsize=30)\n",
    "plt.xlabel('Spatial Scale (km)',size=30)\n",
    "plt.ylabel('Random Uncertainty (%)',size=30)\n",
    "\n",
    "\n",
    "#(anomsmooth).plot(vmin=-2,vmax=2,cmap='seismic')\n",
    "plt.savefig('discovered_country_anomaly_smoothed.png')"
   ]
  },
  {
   "cell_type": "code",
   "execution_count": null,
   "metadata": {},
   "outputs": [],
   "source": [
    "# okay, now in x direction smooth by radius, convolution ?\n",
    "noise = 1\n",
    "sst = ds_sst.Theta.isel(k=0,time=6200,j=slice(4900,5400),i=slice(4600,5200)).load()\n",
    "#create random array 0 to 1\n",
    "tem1a = (sst/sst)*np.random.rand(500,600)\n",
    "#tem1a.plot()\n",
    "#create linearly increasing random array\n",
    "tem2 = (sst/sst).load()\n",
    "for j in range(500):\n",
    "    tem2[j,:]=tem2[j,:]*((j/500)**3*noise)\n",
    "noise = tem1a*tem2\n",
    "sstnoise = sst+sst*noise\n",
    "anomsmooth=sstnoise.copy(deep=True).load()\n",
    "noisesmooth=sstnoise.copy(deep=True).load()\n",
    "for i in range(600):\n",
    "    w = int(i/20)+1 #window for smoothing\n",
    "    i1,i2=i-w+1,i+w\n",
    "    if i1<0:\n",
    "        i1=0\n",
    "    if i2>599:\n",
    "        i2=599\n",
    "    for j in range(500):\n",
    "        j1,j2=j-w+1,j+w\n",
    "        if j1<0:\n",
    "            j1=0\n",
    "        if j2>499:\n",
    "            j2=499\n",
    "        anomsmooth[j,i]=sst[j1:j2,i1:i2].mean()\n",
    "        noisesmooth[j,i]=noise[j1:j2,i1:i2].mean()\n",
    "    if int(i/100)*100==i:\n",
    "        print(i,600)\n",
    "anomsmooth.to_netcdf('anomsmooth45a.nc')\n",
    "noisesmooth.to_netcdf('anomsmooth45a.nc')"
   ]
  },
  {
   "cell_type": "code",
   "execution_count": null,
   "metadata": {},
   "outputs": [],
   "source": [
    "plt.rcParams['figure.figsize'] = (18,10)\n",
    "#(anomsmooth+noisesmooth*anomsmooth).plot(vmin=10,vmax=20,cmap='turbo')\n",
    "#(anomsmooth).plot(vmin=-2,vmax=2,cmap='seismic')\n",
    "\n",
    "xx = np.arange(600)/600*110 \n",
    "xlabel = [20,40,60,80,100]\n",
    "yy = np.arange(500)/500*25+5\n",
    "ylabel = [10,20,30]\n",
    "plt.pcolormesh(xx,yy,anomsmooth+noisesmooth*anomsmooth,vmin=8,vmax=22,cmap='turbo')\n",
    "plt.tick_params(labelsize=30)\n",
    "plt.xlabel('Spatial Scale (km)',size=30)\n",
    "plt.ylabel('Random Uncertainty (%)',size=30)\n",
    "\n",
    "\n",
    "plt.savefig('discovered_country_sst_smoothed.png')"
   ]
  },
  {
   "cell_type": "code",
   "execution_count": null,
   "metadata": {},
   "outputs": [],
   "source": [
    "plt.rcParams['figure.figsize'] = (18,10)\n",
    "#(anomsmooth+noisesmooth*anomsmooth).plot(vmin=10,vmax=20,cmap='turbo')\n",
    "#(anomsmooth).plot(vmin=-2,vmax=2,cmap='seismic')\n",
    "\n",
    "xx = np.arange(600)/600*260 \n",
    "xlabel = [20,60,100,140,180,220]\n",
    "yy = np.arange(500)/500*30+5\n",
    "ylabel = [10,20,30]\n",
    "dotx = [35,250,50,62,80,200,20]\n",
    "doty = [17,18,32,22,25,18,12]\n",
    "plt.pcolormesh(xx,yy,anomsmooth+noisesmooth*anomsmooth,vmin=8,vmax=22,cmap='turbo')\n",
    "plt.scatter(dotx,doty)\n",
    "plt.tick_params(labelsize=30)\n",
    "plt.xlabel('Spatial Scale (km)',size=30)\n",
    "plt.ylabel('Random Uncertainty (%)',size=30)\n",
    "\n",
    "\n",
    "plt.savefig('discovered_country_sst_smoothed_A.png')"
   ]
  },
  {
   "cell_type": "code",
   "execution_count": null,
   "metadata": {},
   "outputs": [],
   "source": [
    "plt.rcParams['figure.figsize'] = (18,10)\n",
    "#(anomsmooth+noisesmooth*anomsmooth).plot(vmin=10,vmax=20,cmap='turbo')\n",
    "#(anomsmooth).plot(vmin=-2,vmax=2,cmap='seismic')\n",
    "\n",
    "xx = np.arange(600)/600*110 \n",
    "xlabel = [20,60,100]\n",
    "yy = np.arange(500)/500*30+5\n",
    "ylabel = [10,20,30]\n",
    "dotx = [35,50,62,80,20]\n",
    "doty = [17,32,22,25,12]\n",
    "plt.pcolormesh(xx,yy,anomsmooth+noisesmooth*anomsmooth,vmin=8,vmax=22,cmap='turbo')\n",
    "plt.scatter(dotx,doty)\n",
    "plt.tick_params(labelsize=30)\n",
    "plt.xlabel('Spatial Scale (km)',size=30)\n",
    "plt.ylabel('Random Uncertainty (%)',size=30)\n",
    "\n",
    "\n",
    "plt.savefig('discovered_country_sst_smoothed_B.png')"
   ]
  },
  {
   "cell_type": "code",
   "execution_count": null,
   "metadata": {},
   "outputs": [],
   "source": []
  },
  {
   "cell_type": "code",
   "execution_count": null,
   "metadata": {},
   "outputs": [],
   "source": [
    "plt.rcParams['figure.figsize'] = (20,10)\n",
    "\n",
    "#anomsmooth.plot(vmin=6,vmax=24,cmap='turbo')\n",
    "xx = np.arange(600)/600*110 \n",
    "xlabel = [20,40,60,80,100]\n",
    "yy = np.arange(500)/500*25+5\n",
    "ylabel = [10,20,30]\n",
    "plt.pcolormesh(xx,yy,anomsmooth,vmin=6,vmax=24,cmap='turbo')\n",
    "plt.tick_params(labelsize=30)\n",
    "plt.xlabel('Spatial Scale (km)',size=30)\n",
    "plt.ylabel('Random Uncertainty (%)',size=30)\n",
    "\n",
    "#(anomsmooth).plot(vmin=-2,vmax=2,cmap='seismic')\n",
    "plt.savefig('discovered_country_sst_fullres.png')"
   ]
  },
  {
   "cell_type": "code",
   "execution_count": null,
   "metadata": {},
   "outputs": [],
   "source": [
    "plt.rcParams['figure.figsize'] = (20,10)\n",
    "ds_sst.Theta.isel(k=0,time=6200,j=slice(4700,5400),i=slice(4600,5200)).plot(vmin=6,vmax=24,cmap='turbo')\n"
   ]
  },
  {
   "cell_type": "code",
   "execution_count": null,
   "metadata": {},
   "outputs": [],
   "source": [
    "# apply linearly increasing noise on y axis to simulate how errors increase\n",
    "# to increase noise increase number j is over.  /1400 is === 0.5 max noise increase"
   ]
  },
  {
   "cell_type": "code",
   "execution_count": null,
   "metadata": {},
   "outputs": [],
   "source": [
    "noise = 0.2\n",
    "sst = ds_sst.Theta.isel(k=0,time=6200,j=slice(4700,5400),i=slice(4600,5200))\n",
    "#create random array 0 to 1\n",
    "tem1 = ds_sst.Theta.isel(k=0,time=6200,j=slice(4700,5400),i=slice(4600,5200))/ds_sst.Theta.isel(k=0,time=6200,j=slice(4700,5400),i=slice(4600,5200))\n",
    "tem1a = tem1*np.random.rand(700,600)\n",
    "#tem1a.plot()\n",
    "#create linearly increasing random array\n",
    "tem2 = ds_sst.Theta.isel(k=0,time=6200,j=slice(4700,5400),i=slice(4600,5200))/ds_sst.Theta.isel(k=0,time=6200,j=slice(4700,5400),i=slice(4600,5200))\n",
    "tem2 = tem2.load()\n",
    "for j in range(700):\n",
    "    tem2[j,:]=tem2[j,:]*((j/700)*noise)\n",
    "tem2a = tem1a*tem2\n",
    "sstnoise = sst+sst*tem2a"
   ]
  },
  {
   "cell_type": "code",
   "execution_count": null,
   "metadata": {},
   "outputs": [],
   "source": [
    "#plot with added noise\n",
    "plt.rcParams['figure.figsize'] = (20,10)\n",
    "sstnoise.plot(vmin=6,vmax=24,cmap='turbo')"
   ]
  },
  {
   "cell_type": "code",
   "execution_count": null,
   "metadata": {},
   "outputs": [],
   "source": [
    "%%time\n",
    "#play around withe w/N to figure out smoothing\n",
    "xx=sstnoise[0,:].XC\n",
    "xres=sstnoise[0,:].XC.copy(deep=True)\n",
    "xx = (xx-xx[0])*np.cos(sstnoise.YC[300,0]*np.pi/180.)*111\n",
    "for i in range(600):\n",
    "    w = int(i/35)+1 #window for smoothing\n",
    "    xres[i] = (xx[200+w]-xx[200-w+1]).data\n",
    "    if int(i/100)*100==i:\n",
    "        print(i,600)\n",
    "print(i,w,xres[i].data)"
   ]
  },
  {
   "cell_type": "code",
   "execution_count": null,
   "metadata": {},
   "outputs": [],
   "source": [
    "# okay, now in x direction smooth by radius, convolution ?\n",
    "sstsmooth=sstnoise.copy(deep=True).load()\n",
    "for i in range(600):\n",
    "    w = int(i/35)+1 #window for smoothing\n",
    "    i1,i2=i-w+1,i+w\n",
    "    if i1<0:\n",
    "        i1=0\n",
    "    if i2>600:\n",
    "        i2=600\n",
    "    for j in range(700):\n",
    "        j1,j2=j-w+1,j+w\n",
    "        if j1<0:\n",
    "            j1=0\n",
    "        if j2>700:\n",
    "            j2=700\n",
    "        sstsmooth[j,i]=sstnoise[j1:j2,i1:i2].mean()\n",
    "    if int(i/100)*100==i:\n",
    "        print(i,600)\n",
    "sstsmooth.to_netcdf('sstsmooth45a.nc')"
   ]
  },
  {
   "cell_type": "code",
   "execution_count": null,
   "metadata": {},
   "outputs": [],
   "source": [
    "sstsmooth = xr.open_dataset('sstsmooth45a.nc')\n",
    "sstsmooth = sstsmooth.Theta"
   ]
  },
  {
   "cell_type": "code",
   "execution_count": null,
   "metadata": {},
   "outputs": [],
   "source": [
    "plt.rcParams['figure.figsize'] = (20,10)\n",
    "(sstsmooth-sstsmooth.mean()).plot(vmin=-2,vmax=2,cmap='seismic')\n",
    "#sstsmooth.Theta.plot(vmin=6,vmax=24,cmap='turbo')\n",
    "plt.savefig('discovered_country_.2_125_a.png')"
   ]
  },
  {
   "cell_type": "code",
   "execution_count": null,
   "metadata": {},
   "outputs": [],
   "source": [
    "sstsmooth=sstnoise.copy(deep=True).load()\n",
    "for i in range(600):\n",
    "    w = int(i/45)+1 #window for smoothing\n",
    "    t1=sstnoise.rolling(j=w,center=True).mean()    \n",
    "    t2=sstnoise.rolling(i=w,center=True).mean()\n",
    "    sstsmooth[:,i]=(t1[:,i]+t2[:,i])/2"
   ]
  },
  {
   "cell_type": "code",
   "execution_count": null,
   "metadata": {},
   "outputs": [],
   "source": [
    "#plot with added noise\n",
    "plt.rcParams['figure.figsize'] = (20,10)\n",
    "sstsmooth4.plot(vmin=6,vmax=24,cmap='turbo')\n",
    "plt.savefig('discovered_country4.png')"
   ]
  },
  {
   "cell_type": "code",
   "execution_count": null,
   "metadata": {},
   "outputs": [],
   "source": [
    "plt.rcParams['figure.figsize'] = (20,10)\n",
    "ds_sst.Theta.isel(k=0,time=6200,j=slice(4700,5400),i=slice(4600,5200)).plot(vmin=6,vmax=24,cmap='turbo')\n",
    "#plt.savefig('theta_global.png')"
   ]
  },
  {
   "cell_type": "code",
   "execution_count": null,
   "metadata": {},
   "outputs": [],
   "source": []
  }
 ],
 "metadata": {
  "kernelspec": {
   "display_name": "Python 3",
   "language": "python",
   "name": "python3"
  },
  "language_info": {
   "codemirror_mode": {
    "name": "ipython",
    "version": 3
   },
   "file_extension": ".py",
   "mimetype": "text/x-python",
   "name": "python",
   "nbconvert_exporter": "python",
   "pygments_lexer": "ipython3",
   "version": "3.8.6"
  }
 },
 "nbformat": 4,
 "nbformat_minor": 4
}
