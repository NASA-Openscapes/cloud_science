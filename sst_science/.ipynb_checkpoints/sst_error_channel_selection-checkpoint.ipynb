{
 "cells": [
  {
   "cell_type": "code",
   "execution_count": null,
   "metadata": {},
   "outputs": [],
   "source": [
    "import matplotlib.pyplot as plt\n",
    "import numpy as np\n",
    "import xarray as xr\n",
    "import pandas as pd\n",
    "import warnings\n",
    "# filter some warning messages\n",
    "warnings.filterwarnings(\"ignore\") \n",
    "#list of input files\n",
    "\n",
    "def get_mur():\n",
    "    file_location = 's3://mur-sst/zarr'\n",
    "    ds_sst = xr.open_zarr(fsspec.get_mapper(file_location, anon=True),consolidated=True)\n",
    "    masked = ds_sst.where(((ds_sst.mask==1) or (ds_sst.sea_ice_fraction<.15)))\n",
    "    masked = masked.drop({'analysis_error','mask','sea_ice_fraction'})\n",
    "#    masked = ds_sst.where(((ds_sst.mask==1)))\n",
    "#    masked.analysed_sst[0,2000:5000:20,18000:19000:20].plot()\n",
    "#    masked = ds_sst.where(((ds_sst.mask==1) or (ds_sst.sea_ice_fraction<.15)))\n",
    "#    masked.analysed_sst[0,1000:6000:200,18000:18100:10].plot()\n",
    "    return masked\n",
    "\n",
    "def get_cmc():\n",
    "    file_location = 'F:/data/sat_data/sst/cmc/zarr'\n",
    "    ds = xr.open_zarr(file_location)\n",
    "    masked = ds.where((ds.mask<=1) & (ds.sea_ice_fraction<.15))\n",
    "    sea_ice = ds.sea_ice_fraction.mean('time')\n",
    "    masked = masked.drop({'analysis_error','mask','sea_ice_fraction'})\n",
    "    masked['analysed_sst']-=273.15\n",
    "    return masked,sea_ice"
   ]
  },
  {
   "cell_type": "code",
   "execution_count": null,
   "metadata": {},
   "outputs": [],
   "source": [
    "masked,sea_ice = get_cmc()\n",
    "masked = masked.sel(time=slice('1999-01-01','2019-12-31'))\n",
    "#sst_climatology = masked.groupby('time.month').mean(dim='time',keep_attrs=True,skipna=True)\n",
    "sst_climatology_yr = masked.mean(dim='time',keep_attrs=True,skipna=True)\n",
    "sst_std_climatology_yr = masked.std(dim='time',keep_attrs=True,skipna=True)\n",
    "sst_climatology_yr"
   ]
  },
  {
   "cell_type": "code",
   "execution_count": null,
   "metadata": {},
   "outputs": [],
   "source": [
    "df = pd.read_excel('./../data/sst_error.xlsx')\n",
    "ds = df.to_xarray().rename({'SST':'sst'})\n",
    "ds = ds.swap_dims({'index':'sst'}).drop('index')\n",
    "ds['std_dif']=ds.std_11GHz-ds.std_7GHz"
   ]
  },
  {
   "cell_type": "code",
   "execution_count": null,
   "metadata": {},
   "outputs": [],
   "source": [
    "ds.std_11GHz.plot()\n",
    "ds.std_7GHz.plot()"
   ]
  },
  {
   "cell_type": "code",
   "execution_count": null,
   "metadata": {},
   "outputs": [],
   "source": [
    "#from dask_gateway import Gateway\n",
    "#from dask.distributed import Client\n",
    "#gateway = Gateway()\n",
    "##cluster = gateway.new_cluster()\n",
    "#cluster.adapt(minimum=1, maximum=20)\n",
    "#client = Client(cluster)\n",
    "#cluster"
   ]
  },
  {
   "cell_type": "code",
   "execution_count": null,
   "metadata": {},
   "outputs": [],
   "source": [
    "%%time\n",
    "ds_sst = sst_climatology_yr.load()"
   ]
  },
  {
   "cell_type": "code",
   "execution_count": null,
   "metadata": {},
   "outputs": [],
   "source": [
    "err_map = xr.DataArray(ds_sst.analysed_sst.data*np.NaN,coords={'lat':ds_sst.lat,'lon':ds_sst.lon},dims=('lat','lon'))\n",
    "err_map = xr.Dataset({'err':err_map})\n",
    "isst = (ds_sst.analysed_sst*10).astype('int')\n",
    "for i in range(-30,360):\n",
    "    err = ds.interp(sst=i/10,method='linear')\n",
    "    err = err.std_dif.data\n",
    "    tem = xr.where(isst==i,err,err_map)\n",
    "    err_map['err'] = tem.err"
   ]
  },
  {
   "cell_type": "code",
   "execution_count": null,
   "metadata": {},
   "outputs": [],
   "source": [
    "tem.err.plot()"
   ]
  },
  {
   "cell_type": "code",
   "execution_count": null,
   "metadata": {},
   "outputs": [],
   "source": [
    "masked_yr = masked.sel(time=slice('2019-01-01','2019-12-31'))\n",
    "istart=0\n",
    "for i in range(len(masked_yr.time)):\n",
    "    varray = masked_yr.analysed_sst[0,:,:].load()\n",
    "    varray = varray.data\n",
    "    vgrad = np.gradient(varray)\n",
    "    mag = np.sqrt(vgrad[0]**2 + vgrad[1]**2)\n",
    "    if istart==0:\n",
    "        mag2 = mag\n",
    "    else:\n",
    "        np.where(mag2 > mag, mag2, mag)       \n",
    "masked['grad']=xr.DataArray(mag2,coords={'lat':masked.lat,'lon':masked.lon},dims=('lat','lon'))\n",
    "yy = np.cos(np.deg2rad(masked.lat))*111*.2\n",
    "xx = 111*.2 #km per deg * 0.2 deg\n",
    "dd = np.sqrt(xx**2+yy**2)\n",
    "masked['grad']=masked.grad/dd\n",
    "masked['grad'].attrs['units']='K / km'\n",
    "masked.grad.to_netcdf('f:/data/project_data/fluxsat/grad.nc')"
   ]
  },
  {
   "cell_type": "code",
   "execution_count": null,
   "metadata": {
    "scrolled": true
   },
   "outputs": [],
   "source": [
    "import cartopy.crs as ccrs\n",
    "import cartopy.feature as cfeature\n",
    "plt.figure(figsize=(20,8))\n",
    "ax = plt.axes(projection=ccrs.PlateCarree())\n",
    "tem1 = tem.where(sea_ice<.15)\n",
    "cs1 = plt.pcolormesh(tem.lon,tem.lat,tem1.err,vmin=0,vmax=.3,cmap='GnBu')\n",
    "cb = plt.colorbar(pad=0.01)\n",
    "cs2 = plt.contour(tem.lon,tem.lat,masked.grad*15,[.3],linewidths=.5,color='r')\n",
    "ax.coastlines()\n",
    "ax.add_feature(cfeature.LAND)\n",
    "cb.set_label(label='Increase in STD (K)',fontsize=16,)\n",
    "plt.savefig('C:/Users/gentemann/Google Drive/f_drive/docs/proposals/nasa/EVM/7_11_err.png')"
   ]
  },
  {
   "cell_type": "code",
   "execution_count": null,
   "metadata": {},
   "outputs": [],
   "source": []
  }
 ],
 "metadata": {
  "kernelspec": {
   "display_name": "Python 3",
   "language": "python",
   "name": "python3"
  },
  "language_info": {
   "codemirror_mode": {
    "name": "ipython",
    "version": 3
   },
   "file_extension": ".py",
   "mimetype": "text/x-python",
   "name": "python",
   "nbconvert_exporter": "python",
   "pygments_lexer": "ipython3",
   "version": "3.8.3"
  }
 },
 "nbformat": 4,
 "nbformat_minor": 4
}
